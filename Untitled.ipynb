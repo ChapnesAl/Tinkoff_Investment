{
 "cells": [
  {
   "cell_type": "code",
   "execution_count": 1,
   "id": "2e4cacdc-ef7d-4339-a93f-6eb2bd239c0d",
   "metadata": {},
   "outputs": [],
   "source": [
    "test_panel = 111"
   ]
  },
  {
   "cell_type": "code",
   "execution_count": 3,
   "id": "4a8195d8-e426-4083-a497-f185c50fd218",
   "metadata": {},
   "outputs": [
    {
     "data": {
      "text/plain": [
       "111"
      ]
     },
     "execution_count": 3,
     "metadata": {},
     "output_type": "execute_result"
    }
   ],
   "source": [
    "test_panel"
   ]
  },
  {
   "cell_type": "code",
   "execution_count": null,
   "id": "a4ecb83b-331c-4ba3-9f74-7386228d1ee9",
   "metadata": {},
   "outputs": [],
   "source": []
  }
 ],
 "metadata": {
  "kernelspec": {
   "display_name": "Python 3 (ipykernel)",
   "language": "python",
   "name": "python3"
  },
  "language_info": {
   "codemirror_mode": {
    "name": "ipython",
    "version": 3
   },
   "file_extension": ".py",
   "mimetype": "text/x-python",
   "name": "python",
   "nbconvert_exporter": "python",
   "pygments_lexer": "ipython3",
   "version": "3.10.4"
  }
 },
 "nbformat": 4,
 "nbformat_minor": 5
}
