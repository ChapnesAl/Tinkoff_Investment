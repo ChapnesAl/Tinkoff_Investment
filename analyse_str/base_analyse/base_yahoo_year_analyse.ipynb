{
 "cells": [
  {
   "cell_type": "code",
   "execution_count": null,
   "id": "e78dfd26-8833-42fa-b335-d2e9dbe86b22",
   "metadata": {},
   "outputs": [],
   "source": [
    "\"\"\"\n",
    "Собираем статистические данные по финансовым показателям за год в Yahoo Finance:\n",
    "- формируем таблицу\n",
    "- объединяем из разные тикеры\n",
    "- получаем размер положительных и отрицательных сделок + соотношение\n",
    "- получаем как много акций идет не по рынку \n",
    "- строим диаграмму нормального (гауссового) распределения по суммам (общая + по годам)\n",
    "\n",
    "\n",
    "\"\"\""
   ]
  },
  {
   "cell_type": "code",
   "execution_count": 1,
   "id": "5da9b911-0deb-4010-bf1d-cb7003dd2585",
   "metadata": {},
   "outputs": [],
   "source": [
    "# external api\n",
    "import yfinance as yf\n",
    "\n",
    "# data analytic \n",
    "import numpy as np\n",
    "import pandas as pd\n",
    "\n",
    "# additional liberies\n",
    "import datetime\n",
    "\n",
    "import statistics as st\n",
    "import itertools\n",
    "\n",
    "# vizualization\n",
    "import pylab as plb\n",
    "import matplotlib.pyplot as plt"
   ]
  },
  {
   "cell_type": "code",
   "execution_count": null,
   "id": "feb47c66-5a6a-4ad5-b4cc-4cb27a9fb6b3",
   "metadata": {},
   "outputs": [],
   "source": []
  },
  {
   "cell_type": "code",
   "execution_count": null,
   "id": "fb61cf6a-6339-41e3-8e87-70634f53e9ad",
   "metadata": {},
   "outputs": [],
   "source": [
    "class Base_year_stats:\n",
    "    def __init__(self, \n",
    "                 \n",
    "                 \n",
    "                 \n",
    "    def get_yahoo_prices(self, ticker):\n",
    "    ''' получаем цены из yahoo_finance и меняем методом индекс\n",
    "    '''\n",
    "    ticker = yf.Ticker(ticker)\n",
    "\n",
    "    df = ticker.history(start=self.stime, end=self.ftime, interval='1mo')\n",
    "    x = pd.DataFrame(df)\n",
    "    x.rename(columns={\"Close\": self.tick}, inplace=True)\n",
    "    z = x.drop(columns=[\"Open\", \"High\", \"Low\", \"Volume\", \"Dividends\", \"Stock Splits\"])\n",
    "        \n",
    "    return z\n",
    "    \n",
    "    def _change_index_yahoo(self, df):\n",
    "        ''' сокращаем индекс из dataframe yahoo\n",
    "        '''\n",
    "\n",
    "        df_index = df.index.to_list()\n",
    "        for i in range(len(df_index)):\n",
    "            t = df_index[i].date()\n",
    "            df_index[i] = t.strftime('%Y-%m-%d')\n",
    "        df['Date_index'] = df_index\n",
    "        df = df.set_index('Date_index')\n",
    "        return df  \n",
    "    \n",
    "    def _get_years_prices(self, df, list_years):\n",
    "        ''' из датафрейма цен получает цены на начало года\n",
    "        '''\n",
    "        \n",
    "        # df = all_metrics_period()\n",
    "        # index_year = df.index.to_list()\n",
    "        \n",
    "        year_prices = []\n",
    "        for i in range(len(list_years)):\n",
    "            x = int(list_years[i])\n",
    "            x = str(x)\n",
    "            r = df.loc[f'{x}-01-01']\n",
    "            r = float(r)\n",
    "            year_prices.append(r)\n",
    "\n",
    "        return year_prices"
   ]
  }
 ],
 "metadata": {
  "kernelspec": {
   "display_name": "Python 3 (ipykernel)",
   "language": "python",
   "name": "python3"
  },
  "language_info": {
   "codemirror_mode": {
    "name": "ipython",
    "version": 3
   },
   "file_extension": ".py",
   "mimetype": "text/x-python",
   "name": "python",
   "nbconvert_exporter": "python",
   "pygments_lexer": "ipython3",
   "version": "3.11.0"
  }
 },
 "nbformat": 4,
 "nbformat_minor": 5
}
