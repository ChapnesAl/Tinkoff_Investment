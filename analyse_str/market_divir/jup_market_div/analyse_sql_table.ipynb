{
 "cells": [
  {
   "cell_type": "code",
   "execution_count": 1,
   "id": "b16bd05b-2586-49b2-877f-3b534314c44f",
   "metadata": {},
   "outputs": [],
   "source": [
    "import pandas as pd\n",
    "import sys\n",
    "import psycopg2\n",
    "import numpy as np"
   ]
  },
  {
   "cell_type": "code",
   "execution_count": 2,
   "id": "438e9c29-fd17-4c4a-b889-74bbf19215a3",
   "metadata": {},
   "outputs": [],
   "source": [
    "pd.set_option('display.max_rows', 1000)\n",
    "pd.set_option('display.max_columns', 500)\n",
    "pd.set_option('display.width', 1000)\n"
   ]
  },
  {
   "cell_type": "code",
   "execution_count": 3,
   "id": "89639a8d-e0d2-4d08-b7cb-99229fba8dfc",
   "metadata": {
    "tags": []
   },
   "outputs": [
    {
     "name": "stdout",
     "output_type": "stream",
     "text": [
      "Connecting to the PostgreSQL database...\n",
      "Connection successful\n"
     ]
    },
    {
     "data": {
      "text/html": [
       "<div>\n",
       "<style scoped>\n",
       "    .dataframe tbody tr th:only-of-type {\n",
       "        vertical-align: middle;\n",
       "    }\n",
       "\n",
       "    .dataframe tbody tr th {\n",
       "        vertical-align: top;\n",
       "    }\n",
       "\n",
       "    .dataframe thead th {\n",
       "        text-align: right;\n",
       "    }\n",
       "</style>\n",
       "<table border=\"1\" class=\"dataframe\">\n",
       "  <thead>\n",
       "    <tr style=\"text-align: right;\">\n",
       "      <th></th>\n",
       "      <th>id</th>\n",
       "      <th>p18_05_20_01</th>\n",
       "      <th>p19_05_20_06</th>\n",
       "      <th>p19_10_21_01</th>\n",
       "      <th>p20_05_21_10</th>\n",
       "      <th>p21_06_22_01</th>\n",
       "      <th>p22_01</th>\n",
       "      <th>option</th>\n",
       "    </tr>\n",
       "  </thead>\n",
       "  <tbody>\n",
       "  </tbody>\n",
       "</table>\n",
       "</div>"
      ],
      "text/plain": [
       "Empty DataFrame\n",
       "Columns: [id, p18_05_20_01, p19_05_20_06, p19_10_21_01, p20_05_21_10, p21_06_22_01, p22_01, option]\n",
       "Index: []"
      ]
     },
     "execution_count": 3,
     "metadata": {},
     "output_type": "execute_result"
    }
   ],
   "source": [
    "# Connection parameters, yours will be different\n",
    "param_dic = {\n",
    "    \"host\"      : \"stockschapnes.postgres.database.azure.com\",\n",
    "    \"database\"  : \"postgres\",\n",
    "    \"user\"      : \"chapnes\",\n",
    "    \"password\"  : \"House333!\",\n",
    "    \"port\" : \"5432\"\n",
    "}\n",
    "def connect(params_dic):\n",
    "    \"\"\" Connect to the PostgreSQL database server \"\"\"\n",
    "    conn = None\n",
    "    try:\n",
    "        # connect to the PostgreSQL server\n",
    "        print('Connecting to the PostgreSQL database...')\n",
    "        conn = psycopg2.connect(**params_dic)\n",
    "    except (Exception, psycopg2.DatabaseError) as error:\n",
    "        print(error)\n",
    "        sys.exit(1)\n",
    "    print(\"Connection successful\")\n",
    "    return conn\n",
    "\n",
    "\n",
    "\n",
    "\n",
    "def postgresql_to_dataframe(conn, select_query, column_names):\n",
    "    \"\"\"\n",
    "    Tranform a SELECT query into a pandas dataframe\n",
    "    \"\"\"\n",
    "    cursor = conn.cursor()\n",
    "    try:\n",
    "        cursor.execute(select_query)\n",
    "    except (Exception, psycopg2.DatabaseError) as error:\n",
    "        print(\"Error: %s\" % error)\n",
    "        cursor.close()\n",
    "        return 1\n",
    "\n",
    "    # Naturally we get a list of tupples\n",
    "    tupples = cursor.fetchall()\n",
    "    cursor.close()\n",
    "\n",
    "    # We just need to turn it into a pandas dataframe\n",
    "    df = pd.DataFrame(tupples, columns=column_names)\n",
    "    return df\n",
    "\n",
    "\n",
    "\n",
    "# Connect to the database\n",
    "conn = connect(param_dic)\n",
    "# column_names = [\"id\", \"source\", \"datetime\", \"mean_temp\"]\n",
    "column_names = [\"id\", \"p18_05_20_01\", \"p19_05_20_06\", \"p19_10_21_01\", \"p20_05_21_10\", \"p21_06_22_01\", \"p22_01\", \"option\"]\n",
    "\n",
    "# Execute the \"SELECT *\" query\n",
    "df = postgresql_to_dataframe(conn, \"select * from test_100_plus1\", column_names)\n",
    "\n",
    "\n",
    "df\n"
   ]
  },
  {
   "cell_type": "code",
   "execution_count": 4,
   "id": "ddb9fe0a-2e20-42be-b008-973ae5e2faba",
   "metadata": {},
   "outputs": [
    {
     "data": {
      "text/html": [
       "<div>\n",
       "<style scoped>\n",
       "    .dataframe tbody tr th:only-of-type {\n",
       "        vertical-align: middle;\n",
       "    }\n",
       "\n",
       "    .dataframe tbody tr th {\n",
       "        vertical-align: top;\n",
       "    }\n",
       "\n",
       "    .dataframe thead th {\n",
       "        text-align: right;\n",
       "    }\n",
       "</style>\n",
       "<table border=\"1\" class=\"dataframe\">\n",
       "  <thead>\n",
       "    <tr style=\"text-align: right;\">\n",
       "      <th></th>\n",
       "      <th>id</th>\n",
       "      <th>p18_05_20_01</th>\n",
       "      <th>p19_05_20_06</th>\n",
       "      <th>p19_10_21_01</th>\n",
       "      <th>p20_05_21_10</th>\n",
       "      <th>p21_06_22_01</th>\n",
       "      <th>p22_01</th>\n",
       "      <th>option</th>\n",
       "    </tr>\n",
       "  </thead>\n",
       "  <tbody>\n",
       "  </tbody>\n",
       "</table>\n",
       "</div>"
      ],
      "text/plain": [
       "Empty DataFrame\n",
       "Columns: [id, p18_05_20_01, p19_05_20_06, p19_10_21_01, p20_05_21_10, p21_06_22_01, p22_01, option]\n",
       "Index: []"
      ]
     },
     "execution_count": 4,
     "metadata": {},
     "output_type": "execute_result"
    }
   ],
   "source": [
    "df.head(10)"
   ]
  },
  {
   "cell_type": "code",
   "execution_count": 5,
   "id": "c42b9b7c-3a2a-4c1b-845c-19564a3f2bcc",
   "metadata": {
    "tags": []
   },
   "outputs": [
    {
     "data": {
      "text/html": [
       "<div>\n",
       "<style scoped>\n",
       "    .dataframe tbody tr th:only-of-type {\n",
       "        vertical-align: middle;\n",
       "    }\n",
       "\n",
       "    .dataframe tbody tr th {\n",
       "        vertical-align: top;\n",
       "    }\n",
       "\n",
       "    .dataframe thead th {\n",
       "        text-align: right;\n",
       "    }\n",
       "</style>\n",
       "<table border=\"1\" class=\"dataframe\">\n",
       "  <thead>\n",
       "    <tr style=\"text-align: right;\">\n",
       "      <th></th>\n",
       "      <th>id</th>\n",
       "      <th>p18_05_20_01</th>\n",
       "      <th>p19_05_20_06</th>\n",
       "      <th>p19_10_21_01</th>\n",
       "      <th>p20_05_21_10</th>\n",
       "      <th>p21_06_22_01</th>\n",
       "      <th>p22_01</th>\n",
       "      <th>option</th>\n",
       "    </tr>\n",
       "  </thead>\n",
       "  <tbody>\n",
       "  </tbody>\n",
       "</table>\n",
       "</div>"
      ],
      "text/plain": [
       "Empty DataFrame\n",
       "Columns: [id, p18_05_20_01, p19_05_20_06, p19_10_21_01, p20_05_21_10, p21_06_22_01, p22_01, option]\n",
       "Index: []"
      ]
     },
     "execution_count": 5,
     "metadata": {},
     "output_type": "execute_result"
    }
   ],
   "source": [
    "\n",
    "df_more_0_pre = df[(df.p18_05_20_01 > 0)\n",
    "                     & (df.p19_05_20_06 > 0)\n",
    "                     & (df.p19_10_21_01 > 0)\n",
    "                     & (df.p20_05_21_10 > 0)\n",
    "                     & (df.p21_06_22_01 > 0)\n",
    "                     & (df.p22_01 > 0)]\n",
    "\n",
    "\n",
    "df_more_0 = df_more_0_pre.copy()\n",
    "df_more_0"
   ]
  },
  {
   "cell_type": "code",
   "execution_count": 6,
   "id": "8d24c51d-9420-4ee3-9758-e018d9b840a9",
   "metadata": {},
   "outputs": [],
   "source": [
    "# df_more_minus_3['p18_05_20_01'] = df_more_minus_3['p18_05_20_01'].astype(float)\n",
    "# df_more_minus_3['p19_05_20_06'] = df_more_minus_3['p19_05_20_06'].astype(float)\n",
    "# df_more_minus_3['p19_10_21_01'] = df_more_minus_3['p19_10_21_01'].astype(float)\n",
    "# df_more_minus_3['p20_05_21_10'] = df_more_minus_3['p20_05_21_10'].astype(float)\n",
    "# df_more_minus_3['p21_06_22_01'] = df_more_minus_3['p21_06_22_01'].astype(float)\n",
    "# df_more_minus_3['p22_01'] = df_more_minus_3['p22_01'].astype(float)\n",
    "\n",
    "\n",
    "df_more_0['p18_05_20_01'] = df_more_0['p18_05_20_01'].astype(float)\n",
    "df_more_0['p19_05_20_06'] = df_more_0['p19_05_20_06'].astype(float)\n",
    "df_more_0['p19_10_21_01'] = df_more_0['p19_10_21_01'].astype(float)\n",
    "df_more_0['p20_05_21_10'] = df_more_0['p20_05_21_10'].astype(float)\n",
    "df_more_0['p21_06_22_01'] = df_more_0['p21_06_22_01'].astype(float)\n",
    "df_more_0['p22_01'] = df_more_0['p22_01'].astype(float)\n",
    "\n",
    "# df_more_minus_3['Sum'] = df_more_minus_3['p18_05_20_01'] + df_more_minus_3['p19_05_20_06'] + df_more_minus_3['p19_10_21_01'] + df_more_minus_3['p20_05_21_10'] + df_more_minus_3['p21_06_22_01'] + df_more_minus_3['p22_01'] \n",
    "\n",
    "# df_more_minus_3"
   ]
  },
  {
   "cell_type": "code",
   "execution_count": 7,
   "id": "67ad0cf8-2000-48ae-a54e-1b1065948603",
   "metadata": {
    "tags": []
   },
   "outputs": [
    {
     "data": {
      "text/html": [
       "<div>\n",
       "<style scoped>\n",
       "    .dataframe tbody tr th:only-of-type {\n",
       "        vertical-align: middle;\n",
       "    }\n",
       "\n",
       "    .dataframe tbody tr th {\n",
       "        vertical-align: top;\n",
       "    }\n",
       "\n",
       "    .dataframe thead th {\n",
       "        text-align: right;\n",
       "    }\n",
       "</style>\n",
       "<table border=\"1\" class=\"dataframe\">\n",
       "  <thead>\n",
       "    <tr style=\"text-align: right;\">\n",
       "      <th></th>\n",
       "      <th>id</th>\n",
       "      <th>p18_05_20_01</th>\n",
       "      <th>p19_05_20_06</th>\n",
       "      <th>p19_10_21_01</th>\n",
       "      <th>p20_05_21_10</th>\n",
       "      <th>p21_06_22_01</th>\n",
       "      <th>p22_01</th>\n",
       "      <th>option</th>\n",
       "      <th>Sum</th>\n",
       "    </tr>\n",
       "  </thead>\n",
       "  <tbody>\n",
       "  </tbody>\n",
       "</table>\n",
       "</div>"
      ],
      "text/plain": [
       "Empty DataFrame\n",
       "Columns: [id, p18_05_20_01, p19_05_20_06, p19_10_21_01, p20_05_21_10, p21_06_22_01, p22_01, option, Sum]\n",
       "Index: []"
      ]
     },
     "execution_count": 7,
     "metadata": {},
     "output_type": "execute_result"
    }
   ],
   "source": [
    "df_more_0['Sum'] = df_more_0['p18_05_20_01'] + df_more_0['p19_05_20_06'] + df_more_0['p19_10_21_01'] + df_more_0['p20_05_21_10'] + df_more_0['p21_06_22_01'] + df_more_0['p22_01'] \n",
    "df_more_0 = df_more_0.sort_values(by=['Sum'], ascending=False)\n",
    "df_more_0"
   ]
  },
  {
   "cell_type": "code",
   "execution_count": 8,
   "id": "989d65c6-a996-405b-a297-82ed60b0161c",
   "metadata": {},
   "outputs": [],
   "source": [
    "df_more_150 = df_more_0[(df_more_0.Sum > 130)]\n"
   ]
  },
  {
   "cell_type": "code",
   "execution_count": 9,
   "id": "09c656fb-c740-471d-847f-c61b8b7dccaf",
   "metadata": {},
   "outputs": [
    {
     "data": {
      "text/plain": [
       "array([], dtype=object)"
      ]
     },
     "execution_count": 9,
     "metadata": {},
     "output_type": "execute_result"
    }
   ],
   "source": [
    "df_more_150['option'].values"
   ]
  },
  {
   "cell_type": "code",
   "execution_count": 10,
   "id": "87ac6169-7b49-4c96-b52b-ecb5407ef1be",
   "metadata": {
    "tags": []
   },
   "outputs": [
    {
     "data": {
      "text/html": [
       "<div>\n",
       "<style scoped>\n",
       "    .dataframe tbody tr th:only-of-type {\n",
       "        vertical-align: middle;\n",
       "    }\n",
       "\n",
       "    .dataframe tbody tr th {\n",
       "        vertical-align: top;\n",
       "    }\n",
       "\n",
       "    .dataframe thead th {\n",
       "        text-align: right;\n",
       "    }\n",
       "</style>\n",
       "<table border=\"1\" class=\"dataframe\">\n",
       "  <thead>\n",
       "    <tr style=\"text-align: right;\">\n",
       "      <th></th>\n",
       "      <th>id</th>\n",
       "      <th>p18_05_20_01</th>\n",
       "      <th>p19_05_20_06</th>\n",
       "      <th>p19_10_21_01</th>\n",
       "      <th>p20_05_21_10</th>\n",
       "      <th>p21_06_22_01</th>\n",
       "      <th>p22_01</th>\n",
       "      <th>option</th>\n",
       "    </tr>\n",
       "  </thead>\n",
       "  <tbody>\n",
       "  </tbody>\n",
       "</table>\n",
       "</div>"
      ],
      "text/plain": [
       "Empty DataFrame\n",
       "Columns: [id, p18_05_20_01, p19_05_20_06, p19_10_21_01, p20_05_21_10, p21_06_22_01, p22_01, option]\n",
       "Index: []"
      ]
     },
     "execution_count": 10,
     "metadata": {},
     "output_type": "execute_result"
    }
   ],
   "source": [
    "df_less_0_pre = df[(df.p18_05_20_01 < 5)\n",
    "                     & (df.p19_05_20_06 < 5)\n",
    "                     & (df.p19_10_21_01 < 5)\n",
    "                     & (df.p20_05_21_10 < 5)\n",
    "                     & (df.p21_06_22_01 < 5)\n",
    "                     & (df.p22_01 < 5)]\n",
    "\n",
    "df_less_0 = df_less_0_pre.copy()\n",
    "df_less_0"
   ]
  },
  {
   "cell_type": "code",
   "execution_count": 11,
   "id": "e5ed7b9b-4c6a-470f-bb4f-c6a79ec5aa33",
   "metadata": {
    "tags": []
   },
   "outputs": [
    {
     "data": {
      "text/html": [
       "<div>\n",
       "<style scoped>\n",
       "    .dataframe tbody tr th:only-of-type {\n",
       "        vertical-align: middle;\n",
       "    }\n",
       "\n",
       "    .dataframe tbody tr th {\n",
       "        vertical-align: top;\n",
       "    }\n",
       "\n",
       "    .dataframe thead th {\n",
       "        text-align: right;\n",
       "    }\n",
       "</style>\n",
       "<table border=\"1\" class=\"dataframe\">\n",
       "  <thead>\n",
       "    <tr style=\"text-align: right;\">\n",
       "      <th></th>\n",
       "      <th>id</th>\n",
       "      <th>p18_05_20_01</th>\n",
       "      <th>p19_05_20_06</th>\n",
       "      <th>p19_10_21_01</th>\n",
       "      <th>p20_05_21_10</th>\n",
       "      <th>p21_06_22_01</th>\n",
       "      <th>p22_01</th>\n",
       "      <th>option</th>\n",
       "      <th>Sum</th>\n",
       "    </tr>\n",
       "  </thead>\n",
       "  <tbody>\n",
       "  </tbody>\n",
       "</table>\n",
       "</div>"
      ],
      "text/plain": [
       "Empty DataFrame\n",
       "Columns: [id, p18_05_20_01, p19_05_20_06, p19_10_21_01, p20_05_21_10, p21_06_22_01, p22_01, option, Sum]\n",
       "Index: []"
      ]
     },
     "execution_count": 11,
     "metadata": {},
     "output_type": "execute_result"
    }
   ],
   "source": [
    "df_less_0['Sum'] = df_less_0['p18_05_20_01'] + df_less_0['p19_05_20_06'] + df_less_0['p19_10_21_01'] + df_less_0['p20_05_21_10'] + df_less_0['p21_06_22_01'] + df_less_0['p22_01'] \n",
    "df_less_0 = df_less_0.sort_values(by=['Sum'], ascending=True)\n",
    "df_less_0"
   ]
  },
  {
   "cell_type": "code",
   "execution_count": 12,
   "id": "4f28de96-ee98-4f24-ab81-4a40788d621d",
   "metadata": {},
   "outputs": [],
   "source": [
    "df_less_150 = df_less_0[(df_less_0.Sum < -16)]"
   ]
  },
  {
   "cell_type": "code",
   "execution_count": 13,
   "id": "f40d3ab4-ea82-478e-bd30-a3120ec77026",
   "metadata": {},
   "outputs": [
    {
     "data": {
      "text/plain": [
       "array([], dtype=object)"
      ]
     },
     "execution_count": 13,
     "metadata": {},
     "output_type": "execute_result"
    }
   ],
   "source": [
    "df_less_150['option'].values"
   ]
  },
  {
   "cell_type": "code",
   "execution_count": null,
   "id": "e0abe1a4-2d70-4b6b-90cd-80888e693995",
   "metadata": {},
   "outputs": [],
   "source": []
  }
 ],
 "metadata": {
  "kernelspec": {
   "display_name": "Python 3 (ipykernel)",
   "language": "python",
   "name": "python3"
  },
  "language_info": {
   "codemirror_mode": {
    "name": "ipython",
    "version": 3
   },
   "file_extension": ".py",
   "mimetype": "text/x-python",
   "name": "python",
   "nbconvert_exporter": "python",
   "pygments_lexer": "ipython3",
   "version": "3.11.0"
  }
 },
 "nbformat": 4,
 "nbformat_minor": 5
}
