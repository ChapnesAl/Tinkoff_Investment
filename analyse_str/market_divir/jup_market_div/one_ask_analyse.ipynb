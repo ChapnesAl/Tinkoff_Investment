{
 "cells": [
  {
   "cell_type": "code",
   "execution_count": 1,
   "id": "b16bd05b-2586-49b2-877f-3b534314c44f",
   "metadata": {},
   "outputs": [],
   "source": [
    "import pandas as pd\n",
    "import sys\n",
    "import psycopg2\n",
    "import numpy as np"
   ]
  },
  {
   "cell_type": "code",
   "execution_count": 2,
   "id": "438e9c29-fd17-4c4a-b889-74bbf19215a3",
   "metadata": {},
   "outputs": [],
   "source": [
    "pd.set_option('display.max_rows', 1000)\n",
    "pd.set_option('display.max_columns', 500)\n",
    "pd.set_option('display.width', 1000)\n"
   ]
  },
  {
   "cell_type": "code",
   "execution_count": 3,
   "id": "89639a8d-e0d2-4d08-b7cb-99229fba8dfc",
   "metadata": {
    "tags": []
   },
   "outputs": [
    {
     "name": "stdout",
     "output_type": "stream",
     "text": [
      "Connecting to the PostgreSQL database...\n",
      "Connection successful\n"
     ]
    }
   ],
   "source": [
    "# Connection parameters, yours will be different\n",
    "param_dic = {\n",
    "    \"host\"      : \"stockschapnes.postgres.database.azure.com\",\n",
    "    \"database\"  : \"postgres\",\n",
    "    \"user\"      : \"chapnes\",\n",
    "    \"password\"  : \"House333!\",\n",
    "    \"port\" : \"5432\"\n",
    "}\n",
    "def connect(params_dic):\n",
    "    \"\"\" Connect to the PostgreSQL database server \"\"\"\n",
    "    conn = None\n",
    "    try:\n",
    "        # connect to the PostgreSQL server\n",
    "        print('Connecting to the PostgreSQL database...')\n",
    "        conn = psycopg2.connect(**params_dic)\n",
    "    except (Exception, psycopg2.DatabaseError) as error:\n",
    "        print(error)\n",
    "        sys.exit(1)\n",
    "    print(\"Connection successful\")\n",
    "    return conn\n",
    "\n",
    "\n",
    "\n",
    "\n",
    "def postgresql_to_dataframe(conn, select_query, column_names):\n",
    "    \"\"\"\n",
    "    Tranform a SELECT query into a pandas dataframe\n",
    "    \"\"\"\n",
    "    cursor = conn.cursor()\n",
    "    try:\n",
    "        cursor.execute(select_query)\n",
    "    except (Exception, psycopg2.DatabaseError) as error:\n",
    "        print(\"Error: %s\" % error)\n",
    "        cursor.close()\n",
    "        return 1\n",
    "\n",
    "    # Naturally we get a list of tupples\n",
    "    tupples = cursor.fetchall()\n",
    "    cursor.close()\n",
    "\n",
    "    # We just need to turn it into a pandas dataframe\n",
    "    df = pd.DataFrame(tupples, columns=column_names)\n",
    "    return df\n",
    "\n",
    "\n",
    "\n",
    "# Connect to the database\n",
    "conn = connect(param_dic)\n",
    "# column_names = [\"id\", \"source\", \"datetime\", \"mean_temp\"]\n",
    "column_names = [\"id\", \"p18_05_20_01\", \"p19_05_20_06\", \"p19_10_21_01\", \"p20_05_21_10\", \"p21_06_22_01\", \"p22_01\", \"option\"]\n",
    "\n",
    "# Execute the \"SELECT *\" query\n",
    "# df = postgresql_to_dataframe(conn, \"select * from test_100_beta_more_09\", column_names)\n",
    "\n",
    "\n",
    "\n",
    "# test_100 = postgresql_to_dataframe(conn, \"select * from test_100_common_cl_5\", column_names)\n",
    "# test_100 = postgresql_to_dataframe(conn, \"select * from test_100_common_cl_2\", column_names)\n",
    "# test_100 = postgresql_to_dataframe(conn, \"select * from cr_test_100_common_cl_2\", column_names)\n",
    "# test_100 = postgresql_to_dataframe(conn, \"select * from cr_test_100_new_cl_2\", column_names)\n",
    "# test_100 = postgresql_to_dataframe(conn, \"select * from cr_test_100_common_cl_4\", column_names)\n",
    "# test_100 = postgresql_to_dataframe(conn, \"select * from cr_test_100_common_cl_3\", column_names)\n",
    "test_100 = postgresql_to_dataframe(conn, \"select * from test_day_100_common_cl_4\", column_names)\n",
    "\n",
    "\n",
    "# df"
   ]
  },
  {
   "cell_type": "code",
   "execution_count": 4,
   "id": "6f41df2f-8b42-4964-9e40-c57b54bf3090",
   "metadata": {
    "tags": []
   },
   "outputs": [
    {
     "data": {
      "text/html": [
       "<div>\n",
       "<style scoped>\n",
       "    .dataframe tbody tr th:only-of-type {\n",
       "        vertical-align: middle;\n",
       "    }\n",
       "\n",
       "    .dataframe tbody tr th {\n",
       "        vertical-align: top;\n",
       "    }\n",
       "\n",
       "    .dataframe thead th {\n",
       "        text-align: right;\n",
       "    }\n",
       "</style>\n",
       "<table border=\"1\" class=\"dataframe\">\n",
       "  <thead>\n",
       "    <tr style=\"text-align: right;\">\n",
       "      <th></th>\n",
       "      <th>id</th>\n",
       "      <th>p18_05_20_01</th>\n",
       "      <th>p19_05_20_06</th>\n",
       "      <th>p19_10_21_01</th>\n",
       "      <th>p20_05_21_10</th>\n",
       "      <th>p21_06_22_01</th>\n",
       "      <th>p22_01</th>\n",
       "      <th>option</th>\n",
       "    </tr>\n",
       "  </thead>\n",
       "  <tbody>\n",
       "    <tr>\n",
       "      <th>0</th>\n",
       "      <td>1</td>\n",
       "      <td>13.883370680683003</td>\n",
       "      <td>9.716101420387</td>\n",
       "      <td>68.26629246201362</td>\n",
       "      <td>54.46348701819803</td>\n",
       "      <td>-14.600031988391207</td>\n",
       "      <td>-10.000280778660972</td>\n",
       "      <td>gf_copy.iloc[ind[i], 4] &gt; gf_copy.iloc[ind[i] ...</td>\n",
       "    </tr>\n",
       "    <tr>\n",
       "      <th>1</th>\n",
       "      <td>2</td>\n",
       "      <td>2.7467012350404447</td>\n",
       "      <td>-6.1894353752980455</td>\n",
       "      <td>11.512833676127316</td>\n",
       "      <td>18.302276275246836</td>\n",
       "      <td>3.9823315082047697</td>\n",
       "      <td>-11.551606814445009</td>\n",
       "      <td>gf_copy.iloc[ind[i], 4] &gt; gf_copy.iloc[ind[i] ...</td>\n",
       "    </tr>\n",
       "    <tr>\n",
       "      <th>2</th>\n",
       "      <td>3</td>\n",
       "      <td>12.94909161864859</td>\n",
       "      <td>1.7243540167811355</td>\n",
       "      <td>14.810890471271284</td>\n",
       "      <td>23.592668492966066</td>\n",
       "      <td>7.554279872254024</td>\n",
       "      <td>-4.756054241349841</td>\n",
       "      <td>gf_copy.iloc[ind[i], 4] &gt; gf_copy.iloc[ind[i] ...</td>\n",
       "    </tr>\n",
       "  </tbody>\n",
       "</table>\n",
       "</div>"
      ],
      "text/plain": [
       "   id        p18_05_20_01         p19_05_20_06        p19_10_21_01        p20_05_21_10         p21_06_22_01               p22_01                                             option\n",
       "0   1  13.883370680683003       9.716101420387   68.26629246201362   54.46348701819803  -14.600031988391207  -10.000280778660972  gf_copy.iloc[ind[i], 4] > gf_copy.iloc[ind[i] ...\n",
       "1   2  2.7467012350404447  -6.1894353752980455  11.512833676127316  18.302276275246836   3.9823315082047697  -11.551606814445009  gf_copy.iloc[ind[i], 4] > gf_copy.iloc[ind[i] ...\n",
       "2   3   12.94909161864859   1.7243540167811355  14.810890471271284  23.592668492966066    7.554279872254024   -4.756054241349841  gf_copy.iloc[ind[i], 4] > gf_copy.iloc[ind[i] ..."
      ]
     },
     "execution_count": 4,
     "metadata": {},
     "output_type": "execute_result"
    }
   ],
   "source": [
    "test_100.head(3)"
   ]
  },
  {
   "cell_type": "code",
   "execution_count": 5,
   "id": "c42b9b7c-3a2a-4c1b-845c-19564a3f2bcc",
   "metadata": {
    "tags": []
   },
   "outputs": [],
   "source": [
    "def get_plus_results(df):\n",
    "    df_more_0_pre = df[(df.p18_05_20_01 > 0)\n",
    "                         & (df.p19_05_20_06 > 0)\n",
    "                         & (df.p19_10_21_01 > 0)\n",
    "                         & (df.p20_05_21_10 > 0)\n",
    "                         & (df.p21_06_22_01 > 0)\n",
    "                         & (df.p22_01 > 0)]\n",
    "\n",
    "\n",
    "    df_more_0 = df_more_0_pre.copy()\n",
    "    \n",
    "    df_more_0['p18_05_20_01'] = df_more_0['p18_05_20_01'].astype(float)\n",
    "    df_more_0['p19_05_20_06'] = df_more_0['p19_05_20_06'].astype(float)\n",
    "    df_more_0['p19_10_21_01'] = df_more_0['p19_10_21_01'].astype(float)\n",
    "    df_more_0['p20_05_21_10'] = df_more_0['p20_05_21_10'].astype(float)\n",
    "    df_more_0['p21_06_22_01'] = df_more_0['p21_06_22_01'].astype(float)\n",
    "    df_more_0['p22_01'] = df_more_0['p22_01'].astype(float)    \n",
    "    \n",
    "    df_more_0['Sum'] = df_more_0['p18_05_20_01'] + df_more_0['p19_05_20_06'] + df_more_0['p19_10_21_01'] + df_more_0['p20_05_21_10'] + df_more_0['p21_06_22_01'] + df_more_0['p22_01'] \n",
    "    df_more_0 = df_more_0.sort_values(by=['Sum'], ascending=False)\n",
    "    return df_more_0\n",
    "    \n",
    "    \n",
    "\n",
    "more_0 = get_plus_results(test_100)\n"
   ]
  },
  {
   "cell_type": "code",
   "execution_count": 6,
   "id": "989d65c6-a996-405b-a297-82ed60b0161c",
   "metadata": {},
   "outputs": [],
   "source": [
    "def get_plus_options(df):\n",
    "    df_more_150 = df[(df.Sum > 50)]\n",
    "    return df_more_150['option'].values\n",
    "\n",
    "\n",
    "plus = get_plus_options(more_0)\n",
    "\n"
   ]
  },
  {
   "cell_type": "code",
   "execution_count": 7,
   "id": "a7bd3254-543c-463d-b706-911c9b9c6c28",
   "metadata": {},
   "outputs": [
    {
     "data": {
      "text/plain": [
       "array(['gf_copy.iloc[ind[i], 4] > (gf_copy.iloc[ind[i] - 1, 4] + 3)',\n",
       "       'gf_copy.iloc[ind[i], 4] > (gf_copy.iloc[ind[i] - 1, 4] + 1)',\n",
       "       'gf_copy.iloc[ind[i], 4] > (gf_copy.iloc[ind[i] - 1, 4] + 1)  > (gf_copy.iloc[ind[i] - 2, 4] - 1)',\n",
       "       'gf_copy.iloc[ind[i], 4] > (gf_copy.iloc[ind[i] - 1, 4] + 1.5) and gf_copy.iloc[ind[i] - 1, 4] > (gf_copy.iloc[ind[i] - 2, 4] - 2)',\n",
       "       'gf_copy.iloc[ind[i], 4] > (gf_copy.iloc[ind[i] - 1, 4] + 1.5) and gf_copy.iloc[ind[i] - 1, 4] > (gf_copy.iloc[ind[i] - 2, 4] - 1.5)'],\n",
       "      dtype=object)"
      ]
     },
     "execution_count": 7,
     "metadata": {},
     "output_type": "execute_result"
    }
   ],
   "source": [
    "plus"
   ]
  },
  {
   "cell_type": "code",
   "execution_count": 8,
   "id": "57952d6a-474f-4b05-b230-c8026112440c",
   "metadata": {},
   "outputs": [
    {
     "data": {
      "text/html": [
       "<div>\n",
       "<style scoped>\n",
       "    .dataframe tbody tr th:only-of-type {\n",
       "        vertical-align: middle;\n",
       "    }\n",
       "\n",
       "    .dataframe tbody tr th {\n",
       "        vertical-align: top;\n",
       "    }\n",
       "\n",
       "    .dataframe thead th {\n",
       "        text-align: right;\n",
       "    }\n",
       "</style>\n",
       "<table border=\"1\" class=\"dataframe\">\n",
       "  <thead>\n",
       "    <tr style=\"text-align: right;\">\n",
       "      <th></th>\n",
       "      <th>id</th>\n",
       "      <th>p18_05_20_01</th>\n",
       "      <th>p19_05_20_06</th>\n",
       "      <th>p19_10_21_01</th>\n",
       "      <th>p20_05_21_10</th>\n",
       "      <th>p21_06_22_01</th>\n",
       "      <th>p22_01</th>\n",
       "      <th>option</th>\n",
       "      <th>Sum</th>\n",
       "    </tr>\n",
       "  </thead>\n",
       "  <tbody>\n",
       "    <tr>\n",
       "      <th>9</th>\n",
       "      <td>10</td>\n",
       "      <td>0.039371</td>\n",
       "      <td>49.893315</td>\n",
       "      <td>69.231603</td>\n",
       "      <td>25.272671</td>\n",
       "      <td>0.134057</td>\n",
       "      <td>18.992392</td>\n",
       "      <td>gf_copy.iloc[ind[i], 4] &gt; (gf_copy.iloc[ind[i]...</td>\n",
       "      <td>163.563409</td>\n",
       "    </tr>\n",
       "    <tr>\n",
       "      <th>5</th>\n",
       "      <td>6</td>\n",
       "      <td>6.478673</td>\n",
       "      <td>32.603955</td>\n",
       "      <td>56.093278</td>\n",
       "      <td>31.112447</td>\n",
       "      <td>2.146903</td>\n",
       "      <td>10.745133</td>\n",
       "      <td>gf_copy.iloc[ind[i], 4] &gt; (gf_copy.iloc[ind[i]...</td>\n",
       "      <td>139.180389</td>\n",
       "    </tr>\n",
       "    <tr>\n",
       "      <th>25</th>\n",
       "      <td>26</td>\n",
       "      <td>2.868761</td>\n",
       "      <td>1.118211</td>\n",
       "      <td>23.193176</td>\n",
       "      <td>27.076674</td>\n",
       "      <td>4.757566</td>\n",
       "      <td>7.138146</td>\n",
       "      <td>gf_copy.iloc[ind[i], 4] &gt; (gf_copy.iloc[ind[i]...</td>\n",
       "      <td>66.152534</td>\n",
       "    </tr>\n",
       "    <tr>\n",
       "      <th>34</th>\n",
       "      <td>35</td>\n",
       "      <td>1.323218</td>\n",
       "      <td>12.333924</td>\n",
       "      <td>21.568512</td>\n",
       "      <td>21.033864</td>\n",
       "      <td>1.466699</td>\n",
       "      <td>8.330800</td>\n",
       "      <td>gf_copy.iloc[ind[i], 4] &gt; (gf_copy.iloc[ind[i]...</td>\n",
       "      <td>66.057017</td>\n",
       "    </tr>\n",
       "    <tr>\n",
       "      <th>31</th>\n",
       "      <td>32</td>\n",
       "      <td>0.785478</td>\n",
       "      <td>12.333918</td>\n",
       "      <td>21.676684</td>\n",
       "      <td>21.142058</td>\n",
       "      <td>1.454378</td>\n",
       "      <td>7.387814</td>\n",
       "      <td>gf_copy.iloc[ind[i], 4] &gt; (gf_copy.iloc[ind[i]...</td>\n",
       "      <td>64.780331</td>\n",
       "    </tr>\n",
       "  </tbody>\n",
       "</table>\n",
       "</div>"
      ],
      "text/plain": [
       "    id  p18_05_20_01  p19_05_20_06  p19_10_21_01  p20_05_21_10  p21_06_22_01     p22_01                                             option         Sum\n",
       "9   10      0.039371     49.893315     69.231603     25.272671      0.134057  18.992392  gf_copy.iloc[ind[i], 4] > (gf_copy.iloc[ind[i]...  163.563409\n",
       "5    6      6.478673     32.603955     56.093278     31.112447      2.146903  10.745133  gf_copy.iloc[ind[i], 4] > (gf_copy.iloc[ind[i]...  139.180389\n",
       "25  26      2.868761      1.118211     23.193176     27.076674      4.757566   7.138146  gf_copy.iloc[ind[i], 4] > (gf_copy.iloc[ind[i]...   66.152534\n",
       "34  35      1.323218     12.333924     21.568512     21.033864      1.466699   8.330800  gf_copy.iloc[ind[i], 4] > (gf_copy.iloc[ind[i]...   66.057017\n",
       "31  32      0.785478     12.333918     21.676684     21.142058      1.454378   7.387814  gf_copy.iloc[ind[i], 4] > (gf_copy.iloc[ind[i]...   64.780331"
      ]
     },
     "execution_count": 8,
     "metadata": {},
     "output_type": "execute_result"
    }
   ],
   "source": [
    "more_0"
   ]
  },
  {
   "cell_type": "code",
   "execution_count": 9,
   "id": "9e77ff6a-5926-41ee-8644-596bb6d4531a",
   "metadata": {},
   "outputs": [],
   "source": [
    "# more_0.iloc[0,7]"
   ]
  },
  {
   "cell_type": "code",
   "execution_count": 10,
   "id": "87ac6169-7b49-4c96-b52b-ecb5407ef1be",
   "metadata": {
    "tags": []
   },
   "outputs": [],
   "source": [
    "def get_minus_results(df):\n",
    "\n",
    "\n",
    "    df_less_0_pre = df[(df.p18_05_20_01 < 5)\n",
    "                         & (df.p19_05_20_06 < 5)\n",
    "                         & (df.p19_10_21_01 < 5)\n",
    "                         & (df.p20_05_21_10 < 5)\n",
    "                         & (df.p21_06_22_01 < 5)\n",
    "                         & (df.p22_01 < 5)]\n",
    "\n",
    "    df_less_0 = df_less_0_pre.copy()\n",
    "    \n",
    "    df_less_0['Sum'] = df_less_0['p18_05_20_01'] + df_less_0['p19_05_20_06'] + df_less_0['p19_10_21_01'] + df_less_0['p20_05_21_10'] + df_less_0['p21_06_22_01'] + df_less_0['p22_01'] \n",
    "    df_less_0 = df_less_0.sort_values(by=['Sum'], ascending=True)\n",
    "    \n",
    "    return df_less_0\n",
    "\n",
    "\n",
    "\n",
    "\n",
    "less_5 = get_minus_results(test_100)\n"
   ]
  },
  {
   "cell_type": "code",
   "execution_count": 11,
   "id": "e0abe1a4-2d70-4b6b-90cd-80888e693995",
   "metadata": {},
   "outputs": [],
   "source": [
    "def get_minus_options(df):\n",
    "    df_less_150 = df[(df.Sum < -16)]\n",
    "    return df_less_150['option'].values\n",
    "\n",
    "\n",
    "\n",
    "minus = get_minus_options(less_5)\n"
   ]
  },
  {
   "cell_type": "code",
   "execution_count": 12,
   "id": "44b13b79-b4bd-4bf1-bc84-e5c65ee6cebd",
   "metadata": {},
   "outputs": [
    {
     "data": {
      "text/plain": [
       "array([], dtype=object)"
      ]
     },
     "execution_count": 12,
     "metadata": {},
     "output_type": "execute_result"
    }
   ],
   "source": [
    "minus"
   ]
  },
  {
   "cell_type": "code",
   "execution_count": 13,
   "id": "08463b34-a640-4666-80ae-1eabe6a81d14",
   "metadata": {
    "tags": []
   },
   "outputs": [
    {
     "data": {
      "text/html": [
       "<div>\n",
       "<style scoped>\n",
       "    .dataframe tbody tr th:only-of-type {\n",
       "        vertical-align: middle;\n",
       "    }\n",
       "\n",
       "    .dataframe tbody tr th {\n",
       "        vertical-align: top;\n",
       "    }\n",
       "\n",
       "    .dataframe thead th {\n",
       "        text-align: right;\n",
       "    }\n",
       "</style>\n",
       "<table border=\"1\" class=\"dataframe\">\n",
       "  <thead>\n",
       "    <tr style=\"text-align: right;\">\n",
       "      <th></th>\n",
       "      <th>id</th>\n",
       "      <th>p18_05_20_01</th>\n",
       "      <th>p19_05_20_06</th>\n",
       "      <th>p19_10_21_01</th>\n",
       "      <th>p20_05_21_10</th>\n",
       "      <th>p21_06_22_01</th>\n",
       "      <th>p22_01</th>\n",
       "      <th>option</th>\n",
       "      <th>Sum</th>\n",
       "    </tr>\n",
       "  </thead>\n",
       "  <tbody>\n",
       "  </tbody>\n",
       "</table>\n",
       "</div>"
      ],
      "text/plain": [
       "Empty DataFrame\n",
       "Columns: [id, p18_05_20_01, p19_05_20_06, p19_10_21_01, p20_05_21_10, p21_06_22_01, p22_01, option, Sum]\n",
       "Index: []"
      ]
     },
     "execution_count": 13,
     "metadata": {},
     "output_type": "execute_result"
    }
   ],
   "source": [
    "less_5"
   ]
  },
  {
   "cell_type": "code",
   "execution_count": null,
   "id": "91f2638a-2a80-4d8f-96f6-ed5d02983f4a",
   "metadata": {},
   "outputs": [],
   "source": []
  },
  {
   "cell_type": "code",
   "execution_count": null,
   "id": "1869a4c4-8455-413b-9d22-cc59545f1ada",
   "metadata": {},
   "outputs": [],
   "source": []
  }
 ],
 "metadata": {
  "kernelspec": {
   "display_name": "Python 3 (ipykernel)",
   "language": "python",
   "name": "python3"
  },
  "language_info": {
   "codemirror_mode": {
    "name": "ipython",
    "version": 3
   },
   "file_extension": ".py",
   "mimetype": "text/x-python",
   "name": "python",
   "nbconvert_exporter": "python",
   "pygments_lexer": "ipython3",
   "version": "3.11.0"
  }
 },
 "nbformat": 4,
 "nbformat_minor": 5
}
