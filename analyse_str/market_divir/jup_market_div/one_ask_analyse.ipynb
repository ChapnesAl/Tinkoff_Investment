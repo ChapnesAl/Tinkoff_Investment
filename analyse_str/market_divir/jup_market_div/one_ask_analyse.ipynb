{
 "cells": [
  {
   "cell_type": "code",
   "execution_count": 1,
   "id": "b16bd05b-2586-49b2-877f-3b534314c44f",
   "metadata": {},
   "outputs": [],
   "source": [
    "import pandas as pd\n",
    "import sys\n",
    "import psycopg2\n",
    "import numpy as np"
   ]
  },
  {
   "cell_type": "code",
   "execution_count": 2,
   "id": "438e9c29-fd17-4c4a-b889-74bbf19215a3",
   "metadata": {},
   "outputs": [],
   "source": [
    "pd.set_option('display.max_rows', 1000)\n",
    "pd.set_option('display.max_columns', 500)\n",
    "pd.set_option('display.width', 1000)\n"
   ]
  },
  {
   "cell_type": "code",
   "execution_count": 3,
   "id": "89639a8d-e0d2-4d08-b7cb-99229fba8dfc",
   "metadata": {
    "tags": []
   },
   "outputs": [
    {
     "name": "stdout",
     "output_type": "stream",
     "text": [
      "Connecting to the PostgreSQL database...\n",
      "Connection successful\n"
     ]
    }
   ],
   "source": [
    "# Connection parameters, yours will be different\n",
    "param_dic = {\n",
    "    \"host\"      : \"stockschapnes.postgres.database.azure.com\",\n",
    "    \"database\"  : \"postgres\",\n",
    "    \"user\"      : \"chapnes\",\n",
    "    \"password\"  : \"House333!\",\n",
    "    \"port\" : \"5432\"\n",
    "}\n",
    "def connect(params_dic):\n",
    "    \"\"\" Connect to the PostgreSQL database server \"\"\"\n",
    "    conn = None\n",
    "    try:\n",
    "        # connect to the PostgreSQL server\n",
    "        print('Connecting to the PostgreSQL database...')\n",
    "        conn = psycopg2.connect(**params_dic)\n",
    "    except (Exception, psycopg2.DatabaseError) as error:\n",
    "        print(error)\n",
    "        sys.exit(1)\n",
    "    print(\"Connection successful\")\n",
    "    return conn\n",
    "\n",
    "\n",
    "\n",
    "\n",
    "def postgresql_to_dataframe(conn, select_query, column_names):\n",
    "    \"\"\"\n",
    "    Tranform a SELECT query into a pandas dataframe\n",
    "    \"\"\"\n",
    "    cursor = conn.cursor()\n",
    "    try:\n",
    "        cursor.execute(select_query)\n",
    "    except (Exception, psycopg2.DatabaseError) as error:\n",
    "        print(\"Error: %s\" % error)\n",
    "        cursor.close()\n",
    "        return 1\n",
    "\n",
    "    # Naturally we get a list of tupples\n",
    "    tupples = cursor.fetchall()\n",
    "    cursor.close()\n",
    "\n",
    "    # We just need to turn it into a pandas dataframe\n",
    "    df = pd.DataFrame(tupples, columns=column_names)\n",
    "    return df\n",
    "\n",
    "\n",
    "\n",
    "# Connect to the database\n",
    "conn = connect(param_dic)\n",
    "# column_names = [\"id\", \"source\", \"datetime\", \"mean_temp\"]\n",
    "column_names = [\"id\", \"p18_05_20_01\", \"p19_05_20_06\", \"p19_10_21_01\", \"p20_05_21_10\", \"p21_06_22_01\", \"p22_01\", \"option\"]\n",
    "\n",
    "# Execute the \"SELECT *\" query\n",
    "# df = postgresql_to_dataframe(conn, \"select * from test_100_beta_more_09\", column_names)\n",
    "\n",
    "\n",
    "\n",
    "# test_100 = postgresql_to_dataframe(conn, \"select * from test_100_common_cl_5\", column_names)\n",
    "# test_100 = postgresql_to_dataframe(conn, \"select * from test_100_common_cl_2\", column_names)\n",
    "# test_100 = postgresql_to_dataframe(conn, \"select * from cr_test_100_common_cl_2\", column_names)\n",
    "# test_100 = postgresql_to_dataframe(conn, \"select * from cr_test_100_new_cl_2\", column_names)\n",
    "# test_100 = postgresql_to_dataframe(conn, \"select * from cr_test_100_common_cl_4\", column_names)\n",
    "test_100 = postgresql_to_dataframe(conn, \"select * from cr_test_100_common_cl_3\", column_names)\n",
    "\n",
    "\n",
    "# df"
   ]
  },
  {
   "cell_type": "code",
   "execution_count": 4,
   "id": "6f41df2f-8b42-4964-9e40-c57b54bf3090",
   "metadata": {
    "tags": []
   },
   "outputs": [
    {
     "data": {
      "text/html": [
       "<div>\n",
       "<style scoped>\n",
       "    .dataframe tbody tr th:only-of-type {\n",
       "        vertical-align: middle;\n",
       "    }\n",
       "\n",
       "    .dataframe tbody tr th {\n",
       "        vertical-align: top;\n",
       "    }\n",
       "\n",
       "    .dataframe thead th {\n",
       "        text-align: right;\n",
       "    }\n",
       "</style>\n",
       "<table border=\"1\" class=\"dataframe\">\n",
       "  <thead>\n",
       "    <tr style=\"text-align: right;\">\n",
       "      <th></th>\n",
       "      <th>id</th>\n",
       "      <th>p18_05_20_01</th>\n",
       "      <th>p19_05_20_06</th>\n",
       "      <th>p19_10_21_01</th>\n",
       "      <th>p20_05_21_10</th>\n",
       "      <th>p21_06_22_01</th>\n",
       "      <th>p22_01</th>\n",
       "      <th>option</th>\n",
       "    </tr>\n",
       "  </thead>\n",
       "  <tbody>\n",
       "    <tr>\n",
       "      <th>0</th>\n",
       "      <td>1</td>\n",
       "      <td>-13.075130880804494</td>\n",
       "      <td>30.959579416747683</td>\n",
       "      <td>95.00143826532903</td>\n",
       "      <td>145.1587487415157</td>\n",
       "      <td>64.60661954335427</td>\n",
       "      <td>-16.966948031426696</td>\n",
       "      <td>gf_copy.iloc[ind[i], 4] &gt; gf_copy.iloc[ind[i] ...</td>\n",
       "    </tr>\n",
       "    <tr>\n",
       "      <th>1</th>\n",
       "      <td>2</td>\n",
       "      <td>-11.349311463161618</td>\n",
       "      <td>24.929034711343633</td>\n",
       "      <td>63.53055177619799</td>\n",
       "      <td>73.64547529022998</td>\n",
       "      <td>61.40280139477397</td>\n",
       "      <td>-11.914410323971811</td>\n",
       "      <td>gf_copy.iloc[ind[i], 4] &gt; gf_copy.iloc[ind[i] ...</td>\n",
       "    </tr>\n",
       "    <tr>\n",
       "      <th>2</th>\n",
       "      <td>3</td>\n",
       "      <td>0.4660648667426994</td>\n",
       "      <td>20.739366246172125</td>\n",
       "      <td>32.63373342157467</td>\n",
       "      <td>69.1398216733222</td>\n",
       "      <td>63.249696691443745</td>\n",
       "      <td>-7.090287497076191</td>\n",
       "      <td>gf_copy.iloc[ind[i], 4] &gt; gf_copy.iloc[ind[i] ...</td>\n",
       "    </tr>\n",
       "  </tbody>\n",
       "</table>\n",
       "</div>"
      ],
      "text/plain": [
       "   id         p18_05_20_01        p19_05_20_06       p19_10_21_01       p20_05_21_10        p21_06_22_01               p22_01                                             option\n",
       "0   1  -13.075130880804494  30.959579416747683  95.00143826532903  145.1587487415157   64.60661954335427  -16.966948031426696  gf_copy.iloc[ind[i], 4] > gf_copy.iloc[ind[i] ...\n",
       "1   2  -11.349311463161618  24.929034711343633  63.53055177619799  73.64547529022998   61.40280139477397  -11.914410323971811  gf_copy.iloc[ind[i], 4] > gf_copy.iloc[ind[i] ...\n",
       "2   3   0.4660648667426994  20.739366246172125  32.63373342157467   69.1398216733222  63.249696691443745   -7.090287497076191  gf_copy.iloc[ind[i], 4] > gf_copy.iloc[ind[i] ..."
      ]
     },
     "execution_count": 4,
     "metadata": {},
     "output_type": "execute_result"
    }
   ],
   "source": [
    "test_100.head(3)"
   ]
  },
  {
   "cell_type": "code",
   "execution_count": 5,
   "id": "c42b9b7c-3a2a-4c1b-845c-19564a3f2bcc",
   "metadata": {
    "tags": []
   },
   "outputs": [],
   "source": [
    "def get_plus_results(df):\n",
    "    df_more_0_pre = df[(df.p18_05_20_01 > 0)\n",
    "                         & (df.p19_05_20_06 > 0)\n",
    "                         & (df.p19_10_21_01 > 0)\n",
    "                         & (df.p20_05_21_10 > 0)\n",
    "                         & (df.p21_06_22_01 > 0)\n",
    "                         & (df.p22_01 > 0)]\n",
    "\n",
    "\n",
    "    df_more_0 = df_more_0_pre.copy()\n",
    "    \n",
    "    df_more_0['p18_05_20_01'] = df_more_0['p18_05_20_01'].astype(float)\n",
    "    df_more_0['p19_05_20_06'] = df_more_0['p19_05_20_06'].astype(float)\n",
    "    df_more_0['p19_10_21_01'] = df_more_0['p19_10_21_01'].astype(float)\n",
    "    df_more_0['p20_05_21_10'] = df_more_0['p20_05_21_10'].astype(float)\n",
    "    df_more_0['p21_06_22_01'] = df_more_0['p21_06_22_01'].astype(float)\n",
    "    df_more_0['p22_01'] = df_more_0['p22_01'].astype(float)    \n",
    "    \n",
    "    df_more_0['Sum'] = df_more_0['p18_05_20_01'] + df_more_0['p19_05_20_06'] + df_more_0['p19_10_21_01'] + df_more_0['p20_05_21_10'] + df_more_0['p21_06_22_01'] + df_more_0['p22_01'] \n",
    "    df_more_0 = df_more_0.sort_values(by=['Sum'], ascending=False)\n",
    "    return df_more_0\n",
    "    \n",
    "    \n",
    "\n",
    "more_0 = get_plus_results(test_100)\n"
   ]
  },
  {
   "cell_type": "code",
   "execution_count": 6,
   "id": "989d65c6-a996-405b-a297-82ed60b0161c",
   "metadata": {},
   "outputs": [],
   "source": [
    "def get_plus_options(df):\n",
    "    df_more_150 = df[(df.Sum > 50)]\n",
    "    return df_more_150['option'].values\n",
    "\n",
    "\n",
    "plus = get_plus_options(more_0)\n",
    "\n"
   ]
  },
  {
   "cell_type": "code",
   "execution_count": 7,
   "id": "a7bd3254-543c-463d-b706-911c9b9c6c28",
   "metadata": {},
   "outputs": [
    {
     "data": {
      "text/plain": [
       "array(['gf_copy.iloc[ind[i], 4] > (gf_copy.iloc[ind[i] - 1, 4] + 1.5) and gf_copy.iloc[ind[i], 4] > 1 and gf_copy.iloc[ind[i] - 1, 4] < -3.5'],\n",
       "      dtype=object)"
      ]
     },
     "execution_count": 7,
     "metadata": {},
     "output_type": "execute_result"
    }
   ],
   "source": [
    "plus"
   ]
  },
  {
   "cell_type": "code",
   "execution_count": 8,
   "id": "57952d6a-474f-4b05-b230-c8026112440c",
   "metadata": {},
   "outputs": [
    {
     "data": {
      "text/html": [
       "<div>\n",
       "<style scoped>\n",
       "    .dataframe tbody tr th:only-of-type {\n",
       "        vertical-align: middle;\n",
       "    }\n",
       "\n",
       "    .dataframe tbody tr th {\n",
       "        vertical-align: top;\n",
       "    }\n",
       "\n",
       "    .dataframe thead th {\n",
       "        text-align: right;\n",
       "    }\n",
       "</style>\n",
       "<table border=\"1\" class=\"dataframe\">\n",
       "  <thead>\n",
       "    <tr style=\"text-align: right;\">\n",
       "      <th></th>\n",
       "      <th>id</th>\n",
       "      <th>p18_05_20_01</th>\n",
       "      <th>p19_05_20_06</th>\n",
       "      <th>p19_10_21_01</th>\n",
       "      <th>p20_05_21_10</th>\n",
       "      <th>p21_06_22_01</th>\n",
       "      <th>p22_01</th>\n",
       "      <th>option</th>\n",
       "      <th>Sum</th>\n",
       "    </tr>\n",
       "  </thead>\n",
       "  <tbody>\n",
       "    <tr>\n",
       "      <th>154</th>\n",
       "      <td>155</td>\n",
       "      <td>8.270003</td>\n",
       "      <td>10.131868</td>\n",
       "      <td>7.312729</td>\n",
       "      <td>15.88721</td>\n",
       "      <td>10.752772</td>\n",
       "      <td>7.281581</td>\n",
       "      <td>gf_copy.iloc[ind[i], 4] &gt; (gf_copy.iloc[ind[i]...</td>\n",
       "      <td>59.636164</td>\n",
       "    </tr>\n",
       "  </tbody>\n",
       "</table>\n",
       "</div>"
      ],
      "text/plain": [
       "      id  p18_05_20_01  p19_05_20_06  p19_10_21_01  p20_05_21_10  p21_06_22_01    p22_01                                             option        Sum\n",
       "154  155      8.270003     10.131868      7.312729      15.88721     10.752772  7.281581  gf_copy.iloc[ind[i], 4] > (gf_copy.iloc[ind[i]...  59.636164"
      ]
     },
     "execution_count": 8,
     "metadata": {},
     "output_type": "execute_result"
    }
   ],
   "source": [
    "more_0"
   ]
  },
  {
   "cell_type": "code",
   "execution_count": 9,
   "id": "9e77ff6a-5926-41ee-8644-596bb6d4531a",
   "metadata": {},
   "outputs": [],
   "source": [
    "# more_0.iloc[0,7]"
   ]
  },
  {
   "cell_type": "code",
   "execution_count": 10,
   "id": "87ac6169-7b49-4c96-b52b-ecb5407ef1be",
   "metadata": {
    "tags": []
   },
   "outputs": [],
   "source": [
    "def get_minus_results(df):\n",
    "\n",
    "\n",
    "    df_less_0_pre = df[(df.p18_05_20_01 < 5)\n",
    "                         & (df.p19_05_20_06 < 5)\n",
    "                         & (df.p19_10_21_01 < 5)\n",
    "                         & (df.p20_05_21_10 < 5)\n",
    "                         & (df.p21_06_22_01 < 5)\n",
    "                         & (df.p22_01 < 5)]\n",
    "\n",
    "    df_less_0 = df_less_0_pre.copy()\n",
    "    \n",
    "    df_less_0['Sum'] = df_less_0['p18_05_20_01'] + df_less_0['p19_05_20_06'] + df_less_0['p19_10_21_01'] + df_less_0['p20_05_21_10'] + df_less_0['p21_06_22_01'] + df_less_0['p22_01'] \n",
    "    df_less_0 = df_less_0.sort_values(by=['Sum'], ascending=True)\n",
    "    \n",
    "    return df_less_0\n",
    "\n",
    "\n",
    "\n",
    "\n",
    "less_5 = get_minus_results(test_100)\n"
   ]
  },
  {
   "cell_type": "code",
   "execution_count": 11,
   "id": "e0abe1a4-2d70-4b6b-90cd-80888e693995",
   "metadata": {},
   "outputs": [],
   "source": [
    "def get_minus_options(df):\n",
    "    df_less_150 = df[(df.Sum < -16)]\n",
    "    return df_less_150['option'].values\n",
    "\n",
    "\n",
    "\n",
    "minus = get_minus_options(less_5)\n"
   ]
  },
  {
   "cell_type": "code",
   "execution_count": 12,
   "id": "44b13b79-b4bd-4bf1-bc84-e5c65ee6cebd",
   "metadata": {},
   "outputs": [
    {
     "data": {
      "text/plain": [
       "array([], dtype=object)"
      ]
     },
     "execution_count": 12,
     "metadata": {},
     "output_type": "execute_result"
    }
   ],
   "source": [
    "minus"
   ]
  },
  {
   "cell_type": "code",
   "execution_count": 13,
   "id": "08463b34-a640-4666-80ae-1eabe6a81d14",
   "metadata": {
    "tags": []
   },
   "outputs": [
    {
     "data": {
      "text/html": [
       "<div>\n",
       "<style scoped>\n",
       "    .dataframe tbody tr th:only-of-type {\n",
       "        vertical-align: middle;\n",
       "    }\n",
       "\n",
       "    .dataframe tbody tr th {\n",
       "        vertical-align: top;\n",
       "    }\n",
       "\n",
       "    .dataframe thead th {\n",
       "        text-align: right;\n",
       "    }\n",
       "</style>\n",
       "<table border=\"1\" class=\"dataframe\">\n",
       "  <thead>\n",
       "    <tr style=\"text-align: right;\">\n",
       "      <th></th>\n",
       "      <th>id</th>\n",
       "      <th>p18_05_20_01</th>\n",
       "      <th>p19_05_20_06</th>\n",
       "      <th>p19_10_21_01</th>\n",
       "      <th>p20_05_21_10</th>\n",
       "      <th>p21_06_22_01</th>\n",
       "      <th>p22_01</th>\n",
       "      <th>option</th>\n",
       "      <th>Sum</th>\n",
       "    </tr>\n",
       "  </thead>\n",
       "  <tbody>\n",
       "  </tbody>\n",
       "</table>\n",
       "</div>"
      ],
      "text/plain": [
       "Empty DataFrame\n",
       "Columns: [id, p18_05_20_01, p19_05_20_06, p19_10_21_01, p20_05_21_10, p21_06_22_01, p22_01, option, Sum]\n",
       "Index: []"
      ]
     },
     "execution_count": 13,
     "metadata": {},
     "output_type": "execute_result"
    }
   ],
   "source": [
    "less_5"
   ]
  },
  {
   "cell_type": "code",
   "execution_count": null,
   "id": "91f2638a-2a80-4d8f-96f6-ed5d02983f4a",
   "metadata": {},
   "outputs": [],
   "source": []
  },
  {
   "cell_type": "code",
   "execution_count": null,
   "id": "1869a4c4-8455-413b-9d22-cc59545f1ada",
   "metadata": {},
   "outputs": [],
   "source": []
  }
 ],
 "metadata": {
  "kernelspec": {
   "display_name": "Python 3 (ipykernel)",
   "language": "python",
   "name": "python3"
  },
  "language_info": {
   "codemirror_mode": {
    "name": "ipython",
    "version": 3
   },
   "file_extension": ".py",
   "mimetype": "text/x-python",
   "name": "python",
   "nbconvert_exporter": "python",
   "pygments_lexer": "ipython3",
   "version": "3.10.4"
  }
 },
 "nbformat": 4,
 "nbformat_minor": 5
}
