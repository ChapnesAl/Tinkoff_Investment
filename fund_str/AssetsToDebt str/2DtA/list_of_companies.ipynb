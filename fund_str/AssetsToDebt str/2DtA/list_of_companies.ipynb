{
 "cells": [
  {
   "cell_type": "markdown",
   "id": "e67ff71c-eb04-48c6-a0f1-7ae7fb831a56",
   "metadata": {},
   "source": [
    "IT"
   ]
  },
  {
   "cell_type": "code",
   "execution_count": null,
   "id": "03981b3d-cd7a-4a09-91c6-ad825eaec2d6",
   "metadata": {},
   "outputs": [],
   "source": [
    "''' IT LIST - 36%'''\n",
    "# tickers_list = ['ACLS', 'LPL', 'RELY', 'GWRE', 'PAYC', 'NCNO', 'APH', 'AVT', 'COUP', 'AMAT'] \n",
    "# tickers_list = ['VNT', 'AMD', 'BR', 'ON', 'NET', 'NTAP', 'BAH', 'HPQ', 'PAY', 'BIGC', 'GLW']\n",
    "# tickers_list = ['WK', 'GDEV', 'AI', 'APPF', 'BDC', 'VRNS', 'DBX', 'SLAB', 'ANSS', 'ATEX', 'OSIS', 'CGNX', 'XM', 'PRGS', 'SUMO']\n",
    "# tickers_list = ['MKSI', 'SAIC', 'SITM', 'CDW', 'ZM', 'POWI', 'LPSN', 'GTLB', 'TEL', 'SPNS', 'NEWR', 'ABNB', 'APPN'] \n",
    "# tickers_list = ['TRMB', 'SHOP', 'SKLZ', 'ALRM', 'SNOW', 'ZBRA', 'DIOD', 'CSGS', 'INTU', 'RAMP', 'TCX', 'UCTT'] # 5 row\n",
    "# tickers_list = ['QTWO', 'VRSN', 'CACI', 'MDB', 'NOK', 'IDCC', 'TWOU', 'ESTC', 'SQ', 'OLED', 'AFRM']\n",
    "# tickers_list = ['ADP', 'FARO', 'EVBG', 'RSKD', 'YEXT', 'KD', 'VMW', 'NABL', 'ARW', 'WDAY', 'LFUS', 'KNBE', 'TTD', 'RPD', 'MA']\n",
    "# tickers_list =  ['SMAR', 'GLBE', 'DT', 'PLTK', 'MNDY', 'AEIS', 'TSM', 'SLP', 'VRT', 'AKAM', 'IBM', 'MRVL', 'ITRI', 'ACIW'] \n",
    "# tickers_list = ['CLSK', 'CGNT', 'BOX', 'NTGR', 'SWI', 'FOUR', 'AMKR', 'BFH', 'SNX', 'MSFT', 'TER', 'QCOM', 'POSH', 'SAP', 'GRMN']\n",
    "# tickers_list = ['LRCX', 'ALGM', 'INTC', 'ENTG', 'PAYX', 'LDOS', 'SPLK', 'AAPL', 'FIS', 'BL', 'WISH', 'QRVO'] # 10 row\n",
    "# tickers_list = ['BILL', 'IPGP', 'BMI', 'QLYS', 'TTMI', 'EEFT', 'KEYS', 'MSTR', 'CTSH', 'UI', 'RNG', 'DCT']\n",
    "# tickers_list = ['STNE', 'CRNC', 'JNPR', 'FTNT', 'TEAM', 'INSG', 'CSCO', 'WIX', 'FSLY', 'CHKP', 'AYX', 'ALTR', 'EPAM', 'AMBA']\n",
    "# tickers_list =  ['CDAY', 'CRUS', 'CEVA', 'ENV', 'ZD', 'PUBM', 'PSN', 'MEI', 'META', 'WOLF', 'CFLT', 'NXPI', 'KLIC', 'VLDR', 'TLS', 'MSI']\n",
    "# tickers_list =  ['SYNA', 'PLUS', 'BSY', 'PYPL', 'ADSK', 'AZPN', 'SPSC', 'FORM', 'DOCU', 'VPG', 'CRWD', 'WDC', 'MVIS','ADBE', 'VSAT', 'GDRX', 'DNB', 'PLTR', 'FIVN', 'NTCT', 'FROG'] \n",
    "# tickers_list = ['ADBE', 'COP', 'AMAT', 'MFGP', 'FISV', 'ASAN', 'ALIT', 'DAVA', 'RIOT', 'NCR', 'SMTC', 'EXLS', 'JKHY', 'ORCL', 'APPS', 'U', 'FICO', 'WEX', 'BKI', 'TXN', 'GDDY', 'CRSR', 'MANH', 'LITE', 'MANH', 'TENB'] # 16,5%  15 row\n",
    "# tickers_list = ['CLVT', 'XRX', 'ATEN', 'PEGA', 'ANET', 'GEN', 'SNPS', 'NOW', 'MPWR', 'LSCC', 'SCSC', 'TYL', 'TDC', 'DDOG', 'GLOB', 'ZS', 'SSNC', 'CDNS', 'OKTA', 'NTNX']\n",
    "# tickers_list = ['COHU', 'NATI', 'DDD', 'LSPD', 'PI', 'PINS', 'HUBS', 'DELL', 'AOSL', 'PTC', 'DXC', 'PAR', 'CRM', 'CVLT', 'SPT', 'CIEN', 'FFIV', 'MXL', 'NSSC', 'VRNT', 'MMS', 'ADI', 'STX'] # 17,4%\n",
    "# tickers_list = ['MCHP', 'ONTO', 'IT', 'CYBR', 'WU', 'ZUO', 'SWKS', 'PAGS', 'LAZR', 'LOGI', 'UPWK', 'EGHT', 'NVDA', 'GPN', 'BLKB', 'TWLO']\n",
    "\n",
    "\n",
    "''' extra1 - ?%  ---> 5rows'''\n",
    "# tickers_list = ['ACLS', 'LPL', 'RELY', 'GWRE', 'PAYC', 'NCNO', 'APH', 'AVT', 'COUP', 'AMAT', 'VNT', 'AMD', 'BR', 'ON', 'NET', 'NTAP', 'BAH', 'HPQ', 'PAY', 'BIGC', 'GLW', 'WK', 'GDEV', 'AI', 'APPF', 'BDC', 'VRNS', 'DBX', 'SLAB', 'ANSS', 'ATEX', 'OSIS', 'CGNX', 'XM', 'PRGS', 'SUMO', 'MKSI', 'SAIC', 'SITM', 'CDW', 'ZM', 'POWI', 'LPSN', 'GTLB', 'TEL', 'SPNS', 'NEWR', 'ABNB', 'APPN', 'TRMB', 'SHOP', 'SKLZ', 'ALRM', 'SNOW', 'ZBRA', 'DIOD', 'CSGS', 'INTU', 'RAMP', 'TCX', 'UCTT']\n",
    "''' extra2 - ?%  ---> 10rows'''\n",
    "# tickers_list = ['QTWO', 'VRSN', 'CACI', 'MDB', 'NOK', 'IDCC', 'TWOU', 'ESTC', 'SQ', 'OLED', 'AFRM', 'ADP', 'FARO', 'EVBG', 'RSKD', 'YEXT', 'KD', 'VMW', 'NABL', 'ARW', 'WDAY', 'LFUS', 'KNBE', 'TTD', 'RPD', 'MA', 'SMAR', 'GLBE', 'DT', 'PLTK', 'MNDY', 'AEIS', 'TSM', 'SLP', 'VRT', 'AKAM', 'IBM', 'MRVL', 'ITRI', 'ACIW', 'CLSK', 'CGNT', 'BOX', 'NTGR', 'SWI', 'FOUR', 'AMKR', 'BFH', 'SNX', 'MSFT', 'TER', 'QCOM', 'POSH', 'SAP', 'GRMN', 'BILL', 'IPGP', 'BMI', 'QLYS', 'TTMI', 'EEFT', 'KEYS', 'MSTR', 'CTSH', 'UI', 'RNG', 'DCT']\n",
    "''' extra3 - ?%  ---> 15rows'''\n",
    "# tickers_list = ['BILL', 'IPGP', 'BMI', 'QLYS', 'TTMI', 'EEFT', 'KEYS', 'MSTR', 'CTSH', 'UI', 'RNG', 'DCT', 'STNE', 'CRNC', 'JNPR', 'FTNT', 'TEAM', 'INSG', 'CSCO', 'WIX', 'FSLY', 'CHKP', 'AYX', 'ALTR', 'EPAM', 'AMBA', 'CDAY', 'CRUS', 'CEVA', 'ENV', 'ZD', 'PUBM', 'PSN', 'MEI', 'META', 'WOLF', 'CFLT', 'NXPI', 'KLIC', 'VLDR', 'TLS', 'MSI', 'SYNA', 'PLUS', 'BSY', 'PYPL', 'ADSK', 'AZPN', 'SPSC', 'FORM', 'DOCU', 'VPG', 'CRWD', 'WDC', 'MVIS','ADBE', 'VSAT', 'GDRX', 'DNB', 'PLTR', 'FIVN', 'NTCT', 'FROG', 'ADBE', 'COP', 'AMAT', 'MFGP', 'FISV', 'ASAN', 'ALIT', 'DAVA', 'RIOT', 'NCR', 'SMTC', 'EXLS', 'JKHY', 'ORCL', 'APPS', 'U', 'FICO', 'WEX', 'BKI', 'TXN', 'GDDY', 'CRSR', 'MANH', 'LITE', 'MANH', 'TENB']\n",
    "\n",
    "''' extra98 - 55,9% '''\n",
    "# tickers_list = ['WK', 'GDEV', 'AI', 'APPF', 'BDC', 'VRNS', 'DBX', 'SLAB', 'ANSS', 'ATEX', 'OSIS', 'CGNX', 'XM', 'PRGS', 'SUMO', 'ADP', 'FARO', 'EVBG', 'RSKD', 'YEXT', 'KD', 'VMW', 'NABL', 'ARW', 'WDAY', 'LFUS', 'KNBE', 'TTD', 'RPD', 'MA', 'CLVT', 'XRX', 'ATEN', 'PEGA', 'ANET', 'GEN', 'SNPS', 'NOW', 'MPWR', 'LSCC', 'SCSC', 'TYL', 'TDC', 'DDOG', 'GLOB', 'ZS', 'SSNC', 'CDNS', 'OKTA', 'NTNX']\n",
    "''' extra99 - 48% '''\n",
    "# tickers_list = ['MKSI', 'SAIC', 'SITM', 'CDW', 'ZM', 'POWI', 'LPSN', 'GTLB', 'TEL', 'SPNS', 'NEWR', 'ABNB', 'APPN', 'SMAR', 'GLBE', 'DT', 'PLTK', 'MNDY', 'AEIS', 'TSM', 'SLP', 'VRT', 'AKAM', 'IBM', 'MRVL', 'ITRI', 'ACIW', 'ACLS', 'LPL', 'RELY', 'GWRE', 'PAYC', 'NCNO', 'APH', 'AVT', 'COUP', 'AMAT', 'QTWO', 'VRSN', 'CACI', 'MDB', 'NOK', 'IDCC', 'TWOU', 'ESTC', 'SQ', 'OLED', 'AFRM']\n",
    "\n"
   ]
  },
  {
   "cell_type": "markdown",
   "id": "b5dcf3f5-3fab-473f-a5c7-62fb0306181b",
   "metadata": {},
   "source": [
    "UTILITIES  - 8%"
   ]
  },
  {
   "cell_type": "code",
   "execution_count": null,
   "id": "b244ac39-fd49-48a5-88b7-a31f7ee766a6",
   "metadata": {},
   "outputs": [],
   "source": [
    "tickers_list = ['ALE', 'FTCI', 'ARRY', 'PPL', 'STEM', 'CNP', 'SJW', 'UGI', 'EIX', 'CWT', 'NI', 'DUK', 'AWR', 'AWK', 'SRE', 'HE', 'NRG', 'HYLN', 'CMS', 'XEL', 'AES', 'NJR', 'EXC', 'PEG', 'UTL', 'NFG', 'NWE', 'ED', 'D', 'ATO', 'AVA'] # 8%\n",
    "'SO', 'AEE', 'WEC', 'NEE', 'KEP', 'MDU', 'MSEX', 'ES', 'CWEN', 'PCG', 'ETR', 'FE', 'WTRG', 'AEP', 'EVRG', 'POR', 'IDA', 'PNW', 'LNT'] "
   ]
  },
  {
   "cell_type": "markdown",
   "id": "342b5605-98eb-488b-a7b5-04085f0352fa",
   "metadata": {},
   "source": [
    "CONSUMER LIST - 15%"
   ]
  },
  {
   "cell_type": "code",
   "execution_count": null,
   "id": "0ca7de14-51b0-42e5-ab0c-3ed2e9cc4bb1",
   "metadata": {},
   "outputs": [],
   "source": [
    "tickers_list = ['THS', 'DPZ', 'WGO', 'ETD', 'PZZA', 'DG', 'RH', 'BWA', 'CENTA', 'BJ', 'IRBT', 'AOUT', 'HEAR', 'YUMC', 'TPR', 'MBUU', 'CROX', 'SIG', 'CWH', 'DLTR', 'GTX', 'CHGG', 'LOW', 'AZO', 'MELI', 'UAA', 'HOG'] # 36,5%\n",
    "tickers_list =  ['MED', 'PSMT', 'YUM', 'ASO', 'ORLY', 'PRTS', 'PLCE', 'JBSS', 'WH', 'FLWS', 'LEGH', 'ANF', 'MDC', 'RCII', 'YETI', 'HHR', 'GPS', 'WMG', 'VSTO', 'TPH', 'AAP', 'MKC', 'MHK', 'OSTK', 'CRMT', 'TOL', 'NVR', 'DASH', 'EAT'] #4\n",
    "tickers_list = ['HZO', 'CPB', 'CHD', 'BBWI', 'ZUMZ', 'MODG', 'POOL', 'QUOT', 'FL', 'ANDE', 'UDMY', 'SONO', 'MLCO', 'COKE', 'CVCO', 'SAH', 'BROS', 'BKNG', 'ETSY', 'NKE', 'FTDR', 'KHC', 'JOUT', 'UNFI', 'STRA', 'CASY', 'STAA', 'CRI', 'CVGW', 'VC', 'MOV', 'HIBB'] #10% \n",
    "'SAM', 'TNL', 'SPB@US', 'JWN', 'RL', 'SMPL', 'KMX', 'TAP', 'SLVM', 'VIPS', 'GO', 'URBN', 'HBI', 'CENT', 'PHM', 'CNXN', 'BG', 'BLMN', 'REYN', 'GM', 'MCRI', 'WKHS', 'AEO', 'KO', 'ANAB', 'SCI', 'PCTY', 'LEN', 'WBA', 'SHLS', 'MGM', 'SHAK', 'PTON', 'MGPI', 'FLO', 'GNTX', 'LVS', 'BYND', 'KR', 'LANC', 'PPC', 'DUOL', 'BJRI', 'TGT', 'SONY', 'BBY', 'CCL', 'SSTK', 'TJX', 'KSS', 'THO', 'LOPE', 'FNKO', 'FVRR', 'USFD', 'MO', 'DAN', 'JD', 'HAS', 'DKNG', 'OFIX', 'LEVI', 'ACI', 'TXRH', 'H', 'BLNK', 'BURL', 'JJSF', 'SFIX', 'WING', 'NUS', 'CELH', 'OLLI', 'PLAY', 'VAC', 'HRL', 'SJM', 'SKX', 'PII', 'MTH', 'DORM', 'CHH', 'MNST', 'CLX', 'CPS', 'VZIO', 'CAG', 'WW', 'MLKN', 'MAR', 'TTCF', 'HLT', 'TSCO', 'LCII', 'HAIN', 'F', 'WMT', 'TSN', 'QRTEA', 'BUD', 'BZUN', 'DRQ', 'FBIN', 'APPH', 'DRI', 'IBP', 'BGS', 'WCC', 'PFGC', 'PETQ', 'WYNN', 'FTCH', 'BC', 'KTB', 'PAG', 'TM', 'ROST', 'COTY', 'W', 'FRPT', 'TMHC', 'SBH', 'SHOO', 'BRBR', 'PEP', 'DLTH', 'MHO', 'ULTA', 'LEA', 'ZWS', 'USNA', 'MTN', 'RCL', 'TAL', 'RACE', 'DECK', 'COUR', 'WDFC', 'PNTG', 'ADM', 'UA', 'MAT', 'EL', 'GHC', 'WHR', 'ABG', 'RRR', 'AN', 'PCRX', 'LKQ', 'HD', 'IPAR', 'GES', 'SBUX', 'TWNK', 'CPRI', 'CBRL', 'ZIP', 'PG', 'KOPN', 'FND', 'M', 'SYY', 'LRN', 'ATGE', 'NTCO', 'POST', 'DKS', 'FSR', 'METC', 'SFM', 'SNBR', 'HSY', 'BH', 'KDP', 'GIS', 'VFC', 'BTI', 'DHI', 'HRB', 'KBH', 'STZ', 'GT', 'CVNA', 'FIGS', 'KMB', 'PLNT', 'VSCO', 'MGA', 'CPNG', 'CALM', 'DAR', 'HGV', 'CHDN', 'LW', 'COST', 'VERU', 'CZR', 'JBL', 'OTIS', 'THRM', 'FIZZ', 'GPI', 'MCD', 'HLF', 'CL', 'XPEL', 'LEG', 'LI', 'MDLZ', 'JAMF', 'TTM', 'CMG', 'HCC', 'JACK', 'WWW', 'INGR', 'PM', 'BLD', 'EYE', 'MNRO', 'GPRO', 'EBAY', 'BF.B', 'LGIH', 'GCO', 'WSM', 'DM', 'K', 'GPC', 'EXPE', 'ENR', 'BFAM', 'APEI', 'XNCR', 'BIG', 'PVH', 'CHWY', 'NWL', 'BOOT', 'GMS', 'BBBY', 'LULU', 'COLM', 'ARMK', 'WRBY', 'TPX', 'AAN', 'LAD', 'CHEF', 'HTHT', 'AMZN', 'FOXF', 'BABA', 'STLA', 'AZEK', 'RVLV', 'LPX', 'RRGB', 'TSLA', 'RGR', 'VUZI']\n"
   ]
  },
  {
   "cell_type": "markdown",
   "id": "0888d71e-fd21-4d44-a470-4dfa168cfbb2",
   "metadata": {},
   "source": [
    "FINANCIAL LIST - 50%"
   ]
  },
  {
   "cell_type": "code",
   "execution_count": null,
   "id": "ae2ae289-4da9-4fbf-9fcc-73851bc0f4d3",
   "metadata": {},
   "outputs": [],
   "source": [
    "tickers_list = ['SLM', 'AJG', 'C', 'WTW', 'BOH', 'FAF', 'STWD', 'NTRS', 'ARI', 'ZION', 'CLBK', 'GS', 'MCO', 'CNXC', 'FFIN', 'ECPG', 'HIG', 'RKT', 'VIRT', 'BXMT', 'ORI', 'KEY', 'BLK', 'NIC'] #40\n",
    "tickers_list = ['CB', 'COLB', 'FLT', 'WRLD', 'AON', 'SIGI', 'BMO', 'COIN', 'CBU', 'MKTX', 'HBAN', 'PSEC', 'CNNE', 'RE', 'AIG', 'TRV', 'DLO', 'THG', 'CG', 'NWLI', 'NU', 'CNO', 'BHF', 'KMPR', 'COOP', 'AGO', 'ALLY', 'AMG', 'WABC', 'PMT', 'SYF', 'AFL', 'CINF'] #59%\n",
    "tickers_list = ['MARA', 'UNM', 'INDB', 'UMBF', 'PFSI', 'PFG', 'PNFP', 'PIPR', 'MET', 'ICE', 'FNF', 'EVR', 'APO', 'FHI', 'AFG', 'UPST', 'BEN', 'LYLT', 'EHTH', 'RF', 'VRTS', 'GBCI', 'COFS', 'USB', 'JHG', 'SI', 'ABCB', 'BOKF', 'NYCB', 'IBTX', 'HASI', 'CBSH', 'ARCC']\n",
    "tickers_list = ['CMA', 'FRC', 'SRC', 'CACC', 'TW', 'CHCO', 'PNC', 'SLQT', 'FRME', 'MMC', 'WTFC', 'XP', 'IVZ', 'COF', 'AMP', 'PRG', 'ABR', 'SCHW', 'RDN', 'SPGI', 'ACGL', 'PGR', 'AXP', 'GSHD', 'WFC', 'SIVB', 'NDAQ', 'MS', 'FCFS'] #97\n",
    "tickers_list = ['FOCS', 'TRUP', 'HLNE', 'NMIH', 'EVER', 'LC', 'TFC', 'MTB', 'EQH', 'FCNCA', 'DFS', 'WBS', 'RY', 'BKU', 'MKL', 'ERIE', 'STT', 'TCBI', 'OMF', 'LPLA', 'RRBI', 'AIZ', 'IBN', 'ESGR', 'GL', 'WRB', 'CNS', 'MQ', 'APAM', 'JPM', 'MTG', 'RJF', 'CME'] #42\n",
    "# 'SBNY', 'HLI', 'UBS', 'TROW', 'SOFI', 'MC', 'SF', 'L', 'VOYA', 'HOOD', 'TCS', 'JEF', 'BX', 'BRO', 'IBKR', 'EWBC', 'GATX', 'MORN', 'KNSL', 'AX', 'CFG', 'PRI', 'PRU', 'FITB', 'LPRO', 'AMSF', 'BK', 'BAC', 'TREE', 'V', 'FDS', 'NAVI', 'CFR', 'RNR', 'MSCI', 'RGA', 'LNC', 'CM', 'PB', 'KKR', 'SEIC', 'WAL', 'UBSI', 'ALL', 'FRHC', 'PJT', 'PRAA', 'COWN', 'TPG', 'WAFD', 'SBCF', 'GDOT', 'SSB']"
   ]
  },
  {
   "cell_type": "markdown",
   "id": "b842fd3d-e6b5-4910-a318-cc2835acab74",
   "metadata": {},
   "source": [
    "ELECTROCARS 40% "
   ]
  },
  {
   "cell_type": "code",
   "execution_count": null,
   "id": "6ef129ce-4bc9-4255-821e-0a39ec9104ed",
   "metadata": {},
   "outputs": [],
   "source": [
    "tickers_list =  ['RRX', 'ARVL', 'LCID', 'ALV', 'CHPT']  # 40% sum"
   ]
  },
  {
   "cell_type": "markdown",
   "id": "782aeb27-4a87-4c16-bf26-909f65b18808",
   "metadata": {},
   "source": [
    "GREEN ENERGY - 79%"
   ]
  },
  {
   "cell_type": "code",
   "execution_count": null,
   "id": "6ca2b76a-3558-45cb-981b-d77d3d02dcac",
   "metadata": {},
   "outputs": [],
   "source": [
    "tickers_list = ['ORA', 'FSLR', 'RUN', 'NOVA', 'GTLS', 'SEDG'] # 79%"
   ]
  }
 ],
 "metadata": {
  "kernelspec": {
   "display_name": "Python 3 (ipykernel)",
   "language": "python",
   "name": "python3"
  },
  "language_info": {
   "codemirror_mode": {
    "name": "ipython",
    "version": 3
   },
   "file_extension": ".py",
   "mimetype": "text/x-python",
   "name": "python",
   "nbconvert_exporter": "python",
   "pygments_lexer": "ipython3",
   "version": "3.11.0"
  }
 },
 "nbformat": 4,
 "nbformat_minor": 5
}
