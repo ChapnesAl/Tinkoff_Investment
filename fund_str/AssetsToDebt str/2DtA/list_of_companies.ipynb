{
 "cells": [
  {
   "cell_type": "markdown",
   "id": "e67ff71c-eb04-48c6-a0f1-7ae7fb831a56",
   "metadata": {},
   "source": [
    "IT - 50%"
   ]
  },
  {
   "cell_type": "code",
   "execution_count": null,
   "id": "03981b3d-cd7a-4a09-91c6-ad825eaec2d6",
   "metadata": {},
   "outputs": [],
   "source": [
    "\n",
    "# tickers_list = ['ACLS', 'LPL', 'RELY', 'GWRE', 'PAYC', 'NCNO', 'APH', 'AVT', 'COUP', 'AMAT'] \n",
    "# tickers_list = ['VNT', 'AMD', 'BR', 'ON', 'NET', 'NTAP', 'BAH', 'HPQ', 'PAY', 'BIGC', 'GLW']\n",
    "# tickers_list = ['WK', 'GDEV', 'AI', 'APPF', 'BDC', 'VRNS', 'DBX', 'SLAB', 'ANSS', 'ATEX', 'OSIS', 'CGNX', 'XM', 'PRGS', 'SUMO']\n",
    "# tickers_list = ['MKSI', 'SAIC', 'SITM', 'CDW', 'ZM', 'POWI', 'LPSN', 'GTLB', 'TEL', 'SPNS', 'NEWR', 'ABNB', 'APPN'] \n",
    "# tickers_list = ['TRMB', 'SHOP', 'SKLZ', 'ALRM', 'SNOW', 'ZBRA', 'DIOD', 'CSGS', 'INTU', 'RAMP', 'TCX', 'UCTT'] # 5 row\n",
    "# tickers_list = ['QTWO', 'VRSN', 'CACI', 'MDB', 'NOK', 'IDCC', 'TWOU', 'ESTC', 'SQ', 'OLED', 'AFRM']\n",
    "# tickers_list = ['ADP', 'FARO', 'EVBG', 'RSKD', 'YEXT', 'KD', 'VMW', 'NABL', 'ARW', 'WDAY', 'LFUS', 'KNBE', 'TTD', 'RPD', 'MA']\n",
    "# tickers_list =  ['SMAR', 'GLBE', 'DT', 'PLTK', 'MNDY', 'AEIS', 'TSM', 'SLP', 'VRT', 'AKAM', 'IBM', 'MRVL', 'ITRI', 'ACIW'] \n",
    "# tickers_list = ['CLSK', 'CGNT', 'BOX', 'NTGR', 'SWI', 'FOUR', 'AMKR', 'BFH', 'SNX', 'MSFT', 'TER', 'QCOM', 'POSH', 'SAP', 'GRMN']\n",
    "# tickers_list = ['LRCX', 'ALGM', 'INTC', 'ENTG', 'PAYX', 'LDOS', 'SPLK', 'AAPL', 'FIS', 'BL', 'WISH', 'QRVO'] # 10 row\n",
    "# tickers_list = ['BILL', 'IPGP', 'BMI', 'QLYS', 'TTMI', 'EEFT', 'KEYS', 'MSTR', 'CTSH', 'UI', 'RNG', 'DCT']\n",
    "# tickers_list = ['STNE', 'CRNC', 'JNPR', 'FTNT', 'TEAM', 'INSG', 'CSCO', 'WIX', 'FSLY', 'CHKP', 'AYX', 'ALTR', 'EPAM', 'AMBA']\n",
    "# tickers_list =  ['CDAY', 'CRUS', 'CEVA', 'ENV', 'ZD', 'PUBM', 'PSN', 'MEI', 'META', 'WOLF', 'CFLT', 'NXPI', 'KLIC', 'VLDR', 'TLS', 'MSI']\n",
    "# tickers_list =  ['SYNA', 'PLUS', 'BSY', 'PYPL', 'ADSK', 'AZPN', 'SPSC', 'FORM', 'DOCU', 'VPG', 'CRWD', 'WDC', 'MVIS','ADBE', 'VSAT', 'GDRX', 'DNB', 'PLTR', 'FIVN', 'NTCT', 'FROG'] \n",
    "# tickers_list = ['ADBE', 'COP', 'AMAT', 'MFGP', 'FISV', 'ASAN', 'ALIT', 'DAVA', 'RIOT', 'NCR', 'SMTC', 'EXLS', 'JKHY', 'ORCL', 'APPS', 'U', 'FICO', 'WEX', 'BKI', 'TXN', 'GDDY', 'CRSR', 'MANH', 'LITE', 'MANH', 'TENB'] # 16,5%  15 row\n",
    "# tickers_list = ['CLVT', 'XRX', 'ATEN', 'PEGA', 'ANET', 'GEN', 'SNPS', 'NOW', 'MPWR', 'LSCC', 'SCSC', 'TYL', 'TDC', 'DDOG', 'GLOB', 'ZS', 'SSNC', 'CDNS', 'OKTA', 'NTNX']\n",
    "# tickers_list = ['COHU', 'NATI', 'DDD', 'LSPD', 'PI', 'PINS', 'HUBS', 'DELL', 'AOSL', 'PTC', 'DXC', 'PAR', 'CRM', 'CVLT', 'SPT', 'CIEN', 'FFIV', 'MXL', 'NSSC', 'VRNT', 'MMS', 'ADI', 'STX'] # 17,4%\n",
    "# tickers_list = ['MCHP', 'ONTO', 'IT', 'CYBR', 'WU', 'ZUO', 'SWKS', 'PAGS', 'LAZR', 'LOGI', 'UPWK', 'EGHT', 'NVDA', 'GPN', 'BLKB', 'TWLO']\n",
    "\n",
    "\n",
    "''' extra1 - ?%  ---> 5rows'''\n",
    "# tickers_list = ['ACLS', 'LPL', 'RELY', 'GWRE', 'PAYC', 'NCNO', 'APH', 'AVT', 'COUP', 'AMAT', 'VNT', 'AMD', 'BR', 'ON', 'NET', 'NTAP', 'BAH', 'HPQ', 'PAY', 'BIGC', 'GLW', 'WK', 'GDEV', 'AI', 'APPF', 'BDC', 'VRNS', 'DBX', 'SLAB', 'ANSS', 'ATEX', 'OSIS', 'CGNX', 'XM', 'PRGS', 'SUMO', 'MKSI', 'SAIC', 'SITM', 'CDW', 'ZM', 'POWI', 'LPSN', 'GTLB', 'TEL', 'SPNS', 'NEWR', 'ABNB', 'APPN', 'TRMB', 'SHOP', 'SKLZ', 'ALRM', 'SNOW', 'ZBRA', 'DIOD', 'CSGS', 'INTU', 'RAMP', 'TCX', 'UCTT']\n",
    "''' extra2 - ?%  ---> 10rows'''\n",
    "# tickers_list = ['QTWO', 'VRSN', 'CACI', 'MDB', 'NOK', 'IDCC', 'TWOU', 'ESTC', 'SQ', 'OLED', 'AFRM', 'ADP', 'FARO', 'EVBG', 'RSKD', 'YEXT', 'KD', 'VMW', 'NABL', 'ARW', 'WDAY', 'LFUS', 'KNBE', 'TTD', 'RPD', 'MA', 'SMAR', 'GLBE', 'DT', 'PLTK', 'MNDY', 'AEIS', 'TSM', 'SLP', 'VRT', 'AKAM', 'IBM', 'MRVL', 'ITRI', 'ACIW', 'CLSK', 'CGNT', 'BOX', 'NTGR', 'SWI', 'FOUR', 'AMKR', 'BFH', 'SNX', 'MSFT', 'TER', 'QCOM', 'POSH', 'SAP', 'GRMN', 'BILL', 'IPGP', 'BMI', 'QLYS', 'TTMI', 'EEFT', 'KEYS', 'MSTR', 'CTSH', 'UI', 'RNG', 'DCT']\n",
    "''' extra3 - ?%  ---> 15rows'''\n",
    "# tickers_list = ['BILL', 'IPGP', 'BMI', 'QLYS', 'TTMI', 'EEFT', 'KEYS', 'MSTR', 'CTSH', 'UI', 'RNG', 'DCT', 'STNE', 'CRNC', 'JNPR', 'FTNT', 'TEAM', 'INSG', 'CSCO', 'WIX', 'FSLY', 'CHKP', 'AYX', 'ALTR', 'EPAM', 'AMBA', 'CDAY', 'CRUS', 'CEVA', 'ENV', 'ZD', 'PUBM', 'PSN', 'MEI', 'META', 'WOLF', 'CFLT', 'NXPI', 'KLIC', 'VLDR', 'TLS', 'MSI', 'SYNA', 'PLUS', 'BSY', 'PYPL', 'ADSK', 'AZPN', 'SPSC', 'FORM', 'DOCU', 'VPG', 'CRWD', 'WDC', 'MVIS','ADBE', 'VSAT', 'GDRX', 'DNB', 'PLTR', 'FIVN', 'NTCT', 'FROG', 'ADBE', 'COP', 'AMAT', 'MFGP', 'FISV', 'ASAN', 'ALIT', 'DAVA', 'RIOT', 'NCR', 'SMTC', 'EXLS', 'JKHY', 'ORCL', 'APPS', 'U', 'FICO', 'WEX', 'BKI', 'TXN', 'GDDY', 'CRSR', 'MANH', 'LITE', 'MANH', 'TENB']\n",
    "\n",
    "''' extra98 - 55,9% '''\n",
    "# tickers_list = ['WK', 'GDEV', 'AI', 'APPF', 'BDC', 'VRNS', 'DBX', 'SLAB', 'ANSS', 'ATEX', 'OSIS', 'CGNX', 'XM', 'PRGS', 'SUMO', 'ADP', 'FARO', 'EVBG', 'RSKD', 'YEXT', 'KD', 'VMW', 'NABL', 'ARW', 'WDAY', 'LFUS', 'KNBE', 'TTD', 'RPD', 'MA', 'CLVT', 'XRX', 'ATEN', 'PEGA', 'ANET', 'GEN', 'SNPS', 'NOW', 'MPWR', 'LSCC', 'SCSC', 'TYL', 'TDC', 'DDOG', 'GLOB', 'ZS', 'SSNC', 'CDNS', 'OKTA', 'NTNX']\n",
    "''' extra99 - 48% '''\n",
    "# tickers_list = ['MKSI', 'SAIC', 'SITM', 'CDW', 'ZM', 'POWI', 'LPSN', 'GTLB', 'TEL', 'SPNS', 'NEWR', 'ABNB', 'APPN', 'SMAR', 'GLBE', 'DT', 'PLTK', 'MNDY', 'AEIS', 'TSM', 'SLP', 'VRT', 'AKAM', 'IBM', 'MRVL', 'ITRI', 'ACIW', 'ACLS', 'LPL', 'RELY', 'GWRE', 'PAYC', 'NCNO', 'APH', 'AVT', 'COUP', 'AMAT', 'QTWO', 'VRSN', 'CACI', 'MDB', 'NOK', 'IDCC', 'TWOU', 'ESTC', 'SQ', 'OLED', 'AFRM']\n",
    "\n"
   ]
  },
  {
   "cell_type": "markdown",
   "id": "b5dcf3f5-3fab-473f-a5c7-62fb0306181b",
   "metadata": {},
   "source": [
    "UTILITIES  - 8%"
   ]
  },
  {
   "cell_type": "code",
   "execution_count": null,
   "id": "b244ac39-fd49-48a5-88b7-a31f7ee766a6",
   "metadata": {},
   "outputs": [],
   "source": [
    "tickers_list = ['ALE', 'FTCI', 'ARRY', 'PPL', 'STEM', 'CNP', 'SJW', 'UGI', 'EIX', 'CWT', 'NI', 'DUK', 'AWR', 'AWK', 'SRE', 'HE', 'NRG', 'HYLN', 'CMS', 'XEL', 'AES', 'NJR', 'EXC', 'PEG', 'UTL', 'NFG', 'NWE', 'ED', 'D', 'ATO', 'AVA'] # 8%\n",
    "'SO', 'AEE', 'WEC', 'NEE', 'KEP', 'MDU', 'MSEX', 'ES', 'CWEN', 'PCG', 'ETR', 'FE', 'WTRG', 'AEP', 'EVRG', 'POR', 'IDA', 'PNW', 'LNT'] "
   ]
  },
  {
   "cell_type": "markdown",
   "id": "342b5605-98eb-488b-a7b5-04085f0352fa",
   "metadata": {},
   "source": [
    "CONSUMER LIST - 15%"
   ]
  },
  {
   "cell_type": "code",
   "execution_count": null,
   "id": "0ca7de14-51b0-42e5-ab0c-3ed2e9cc4bb1",
   "metadata": {},
   "outputs": [],
   "source": [
    "tickers_list = ['THS', 'DPZ', 'WGO', 'ETD', 'PZZA', 'DG', 'RH', 'BWA', 'CENTA', 'BJ', 'IRBT', 'AOUT', 'HEAR', 'YUMC', 'TPR', 'MBUU', 'CROX', 'SIG', 'CWH', 'DLTR', 'GTX', 'CHGG', 'LOW', 'AZO', 'MELI', 'UAA', 'HOG'] # 36,5%\n",
    "tickers_list =  ['MED', 'PSMT', 'YUM', 'ASO', 'ORLY', 'PRTS', 'PLCE', 'JBSS', 'WH', 'FLWS', 'LEGH', 'ANF', 'MDC', 'RCII', 'YETI', 'HHR', 'GPS', 'WMG', 'VSTO', 'TPH', 'AAP', 'MKC', 'MHK', 'OSTK', 'CRMT', 'TOL', 'NVR', 'DASH', 'EAT'] #4\n",
    "tickers_list = ['HZO', 'CPB', 'CHD', 'BBWI', 'ZUMZ', 'MODG', 'POOL', 'QUOT', 'FL', 'ANDE', 'UDMY', 'SONO', 'MLCO', 'COKE', 'CVCO', 'SAH', 'BROS', 'BKNG', 'ETSY', 'NKE', 'FTDR', 'KHC', 'JOUT', 'UNFI', 'STRA', 'CASY', 'STAA', 'CRI', 'CVGW', 'VC', 'MOV', 'HIBB'] #10% \n",
    "'SAM', 'TNL', 'SPB@US', 'JWN', 'RL', 'SMPL', 'KMX', 'TAP', 'SLVM', 'VIPS', 'GO', 'URBN', 'HBI', 'CENT', 'PHM', 'CNXN', 'BG', 'BLMN', 'REYN', 'GM', 'MCRI', 'WKHS', 'AEO', 'KO', 'ANAB', 'SCI', 'PCTY', 'LEN', 'WBA', 'SHLS', 'MGM', 'SHAK', 'PTON', 'MGPI', 'FLO', 'GNTX', 'LVS', 'BYND', 'KR', 'LANC', 'PPC', 'DUOL', 'BJRI', 'TGT', 'SONY', 'BBY', 'CCL', 'SSTK', 'TJX', 'KSS', 'THO', 'LOPE', 'FNKO', 'FVRR', 'USFD', 'MO', 'DAN', 'JD', 'HAS', 'DKNG', 'OFIX', 'LEVI', 'ACI', 'TXRH', 'H', 'BLNK', 'BURL', 'JJSF', 'SFIX', 'WING', 'NUS', 'CELH', 'OLLI', 'PLAY', 'VAC', 'HRL', 'SJM', 'SKX', 'PII', 'MTH', 'DORM', 'CHH', 'MNST', 'CLX', 'CPS', 'VZIO', 'CAG', 'WW', 'MLKN', 'MAR', 'TTCF', 'HLT', 'TSCO', 'LCII', 'HAIN', 'F', 'WMT', 'TSN', 'QRTEA', 'BUD', 'BZUN', 'DRQ', 'FBIN', 'APPH', 'DRI', 'IBP', 'BGS', 'WCC', 'PFGC', 'PETQ', 'WYNN', 'FTCH', 'BC', 'KTB', 'PAG', 'TM', 'ROST', 'COTY', 'W', 'FRPT', 'TMHC', 'SBH', 'SHOO', 'BRBR', 'PEP', 'DLTH', 'MHO', 'ULTA', 'LEA', 'ZWS', 'USNA', 'MTN', 'RCL', 'TAL', 'RACE', 'DECK', 'COUR', 'WDFC', 'PNTG', 'ADM', 'UA', 'MAT', 'EL', 'GHC', 'WHR', 'ABG', 'RRR', 'AN', 'PCRX', 'LKQ', 'HD', 'IPAR', 'GES', 'SBUX', 'TWNK', 'CPRI', 'CBRL', 'ZIP', 'PG', 'KOPN', 'FND', 'M', 'SYY', 'LRN', 'ATGE', 'NTCO', 'POST', 'DKS', 'FSR', 'METC', 'SFM', 'SNBR', 'HSY', 'BH', 'KDP', 'GIS', 'VFC', 'BTI', 'DHI', 'HRB', 'KBH', 'STZ', 'GT', 'CVNA', 'FIGS', 'KMB', 'PLNT', 'VSCO', 'MGA', 'CPNG', 'CALM', 'DAR', 'HGV', 'CHDN', 'LW', 'COST', 'VERU', 'CZR', 'JBL', 'OTIS', 'THRM', 'FIZZ', 'GPI', 'MCD', 'HLF', 'CL', 'XPEL', 'LEG', 'LI', 'MDLZ', 'JAMF', 'TTM', 'CMG', 'HCC', 'JACK', 'WWW', 'INGR', 'PM', 'BLD', 'EYE', 'MNRO', 'GPRO', 'EBAY', 'BF.B', 'LGIH', 'GCO', 'WSM', 'DM', 'K', 'GPC', 'EXPE', 'ENR', 'BFAM', 'APEI', 'XNCR', 'BIG', 'PVH', 'CHWY', 'NWL', 'BOOT', 'GMS', 'BBBY', 'LULU', 'COLM', 'ARMK', 'WRBY', 'TPX', 'AAN', 'LAD', 'CHEF', 'HTHT', 'AMZN', 'FOXF', 'BABA', 'STLA', 'AZEK', 'RVLV', 'LPX', 'RRGB', 'TSLA', 'RGR', 'VUZI']\n"
   ]
  },
  {
   "cell_type": "markdown",
   "id": "0888d71e-fd21-4d44-a470-4dfa168cfbb2",
   "metadata": {},
   "source": [
    "FINANCIAL LIST - 50%"
   ]
  },
  {
   "cell_type": "code",
   "execution_count": null,
   "id": "ae2ae289-4da9-4fbf-9fcc-73851bc0f4d3",
   "metadata": {},
   "outputs": [],
   "source": [
    "tickers_list = ['SLM', 'AJG', 'C', 'WTW', 'BOH', 'FAF', 'STWD', 'NTRS', 'ARI', 'ZION', 'CLBK', 'GS', 'MCO', 'CNXC', 'FFIN', 'ECPG', 'HIG', 'RKT', 'VIRT', 'BXMT', 'ORI', 'KEY', 'BLK', 'NIC'] #40\n",
    "tickers_list = ['CB', 'COLB', 'FLT', 'WRLD', 'AON', 'SIGI', 'BMO', 'COIN', 'CBU', 'MKTX', 'HBAN', 'PSEC', 'CNNE', 'RE', 'AIG', 'TRV', 'DLO', 'THG', 'CG', 'NWLI', 'NU', 'CNO', 'BHF', 'KMPR', 'COOP', 'AGO', 'ALLY', 'AMG', 'WABC', 'PMT', 'SYF', 'AFL', 'CINF'] #59%\n",
    "tickers_list = ['MARA', 'UNM', 'INDB', 'UMBF', 'PFSI', 'PFG', 'PNFP', 'PIPR', 'MET', 'ICE', 'FNF', 'EVR', 'APO', 'FHI', 'AFG', 'UPST', 'BEN', 'LYLT', 'EHTH', 'RF', 'VRTS', 'GBCI', 'COFS', 'USB', 'JHG', 'SI', 'ABCB', 'BOKF', 'NYCB', 'IBTX', 'HASI', 'CBSH', 'ARCC']\n",
    "tickers_list = ['CMA', 'FRC', 'SRC', 'CACC', 'TW', 'CHCO', 'PNC', 'SLQT', 'FRME', 'MMC', 'WTFC', 'XP', 'IVZ', 'COF', 'AMP', 'PRG', 'ABR', 'SCHW', 'RDN', 'SPGI', 'ACGL', 'PGR', 'AXP', 'GSHD', 'WFC', 'SIVB', 'NDAQ', 'MS', 'FCFS'] #97\n",
    "tickers_list = ['FOCS', 'TRUP', 'HLNE', 'NMIH', 'EVER', 'LC', 'TFC', 'MTB', 'EQH', 'FCNCA', 'DFS', 'WBS', 'RY', 'BKU', 'MKL', 'ERIE', 'STT', 'TCBI', 'OMF', 'LPLA', 'RRBI', 'AIZ', 'IBN', 'ESGR', 'GL', 'WRB', 'CNS', 'MQ', 'APAM', 'JPM', 'MTG', 'RJF', 'CME'] #42\n",
    "# 'SBNY', 'HLI', 'UBS', 'TROW', 'SOFI', 'MC', 'SF', 'L', 'VOYA', 'HOOD', 'TCS', 'JEF', 'BX', 'BRO', 'IBKR', 'EWBC', 'GATX', 'MORN', 'KNSL', 'AX', 'CFG', 'PRI', 'PRU', 'FITB', 'LPRO', 'AMSF', 'BK', 'BAC', 'TREE', 'V', 'FDS', 'NAVI', 'CFR', 'RNR', 'MSCI', 'RGA', 'LNC', 'CM', 'PB', 'KKR', 'SEIC', 'WAL', 'UBSI', 'ALL', 'FRHC', 'PJT', 'PRAA', 'COWN', 'TPG', 'WAFD', 'SBCF', 'GDOT', 'SSB']"
   ]
  },
  {
   "cell_type": "markdown",
   "id": "b842fd3d-e6b5-4910-a318-cc2835acab74",
   "metadata": {},
   "source": [
    "ELECTROCARS 40% "
   ]
  },
  {
   "cell_type": "code",
   "execution_count": null,
   "id": "6ef129ce-4bc9-4255-821e-0a39ec9104ed",
   "metadata": {},
   "outputs": [],
   "source": [
    "tickers_list =  ['RRX', 'ARVL', 'LCID', 'ALV', 'CHPT']  # 40% sum"
   ]
  },
  {
   "cell_type": "markdown",
   "id": "782aeb27-4a87-4c16-bf26-909f65b18808",
   "metadata": {},
   "source": [
    "GREEN ENERGY - 79%"
   ]
  },
  {
   "cell_type": "code",
   "execution_count": null,
   "id": "6ca2b76a-3558-45cb-981b-d77d3d02dcac",
   "metadata": {},
   "outputs": [],
   "source": [
    "tickers_list = ['ORA', 'FSLR', 'RUN', 'NOVA', 'GTLS', 'SEDG'] # 79%"
   ]
  },
  {
   "cell_type": "markdown",
   "id": "156d297a-5401-4b08-b260-bc340604c0cf",
   "metadata": {},
   "source": [
    "ENERGY - 45% "
   ]
  },
  {
   "cell_type": "code",
   "execution_count": null,
   "id": "00ee1949-549f-417e-a55d-b1b921bf7d10",
   "metadata": {},
   "outputs": [],
   "source": [
    "tickers_list = ['APA', 'CNX', 'SWX', 'HAL', 'OVV', 'VAL', 'BLDP', 'VTS', 'SLB', 'FCEL', 'GEVO', 'ET', 'COP', 'VST', 'OGE', 'OKE', 'NOV', 'MUR', 'OGS', 'XOM', 'SJI', 'PDCE', 'PDS', 'SR', 'OXY', 'SWN', 'MGY', 'TRGP', 'OII', 'AMR', 'ENPH', 'CLB', 'UUUU', 'AM', 'NFE', 'RRC', 'BKR', 'VLO', 'LNG'] # 23%\n",
    "tickers_list =  ['KMI', 'PXD', 'SU', 'WHD', 'CVX', 'DVN', 'FANG', 'ARCH', 'INT', 'MPC', 'DK', 'PBA', 'ENB', 'VTNR', 'PUMP', 'CTRA', 'RIG', 'CEG', 'EOG', 'SHEL', 'BE', 'CNQ', 'PBF', 'CCJ', 'CLR', 'HES', 'WTTR', 'CHX', 'FTI', 'WMB', 'REX', 'VET', 'TTE', 'MRO', 'HP', 'PSX', 'ETRN', 'OIS', 'EQT'] # 77%"
   ]
  },
  {
   "cell_type": "markdown",
   "id": "c3661bf4-892e-4996-ba0f-6e2a5cf153ee",
   "metadata": {},
   "source": [
    "HEALTH CARE"
   ]
  },
  {
   "cell_type": "code",
   "execution_count": null,
   "id": "47f0d8d0-b024-49b4-944c-0464e7164a6b",
   "metadata": {},
   "outputs": [],
   "source": [
    "tickers_list = ['PKI', 'SLDB', 'AMPH', 'MDT', 'DNLI', 'MTD', 'ALEC', 'AVIR', 'KDNY', 'GILD', 'BCRX', 'MLAB', 'INO', 'OGN', 'BMY', 'AVTR', 'CHE', 'TVTX', 'TGTX', 'PODD', 'VXRT', 'FATE', 'SYNH', 'HUM', 'ABC', 'CVM', 'EW', 'IGMS', 'SNY', 'FLGT', 'DXCM', 'AORT', 'RXRX', 'SAGE', 'EGRX', 'CERE', 'AZTA', 'BDTX'] # 73%\n",
    "tickers_list = ['ILMN', 'ZBH', 'HSKA', 'CRL', 'SDGR', 'QDEL', 'TDOC', 'IART', 'USPH', 'KIDS', 'RDY', 'NTLA', 'WAT', 'DGX', 'UHS', 'CSII', 'AXSM', 'VREX', 'ITGR', 'TCRR', 'TRHC', 'A', 'EBS', 'HOLX', 'ANIK', 'AFMD', 'ZTS', 'PACB', 'CDNA', 'MOH', 'OSUR', 'AVNS', 'ALT', 'SGMO', 'CAH', 'ABBV', 'DMTK'] # 100%\n",
    "'ZYXI', 'RETA', 'GTHX', 'ALLO', 'CYRX', 'DVA', 'RMD', 'ORMP', 'NVRO', 'MASI', 'IDXX', 'WST', 'UTHR', 'MD', 'ZNTL', 'EMBC', 'CNMD', 'ARCT', 'SAVA', 'ICLR', 'TWST', 'MCK', 'ATRC', 'BLI', 'CGEN', 'ITCI', 'CTLT', 'IRWD', 'GMED', 'GEHC', 'ACAD', 'NUVA', 'PGNY', 'ZYNE', 'AMTI', 'VCEL', 'AVXL', 'SRDX', 'BNTX', 'SILK', 'ENTA', 'INMD', 'VCYT', 'NARI', 'RARE', 'CI', 'INCY', 'ALLK', 'BDX', 'NRIX', 'HRTX', 'DOCS', 'IONS', 'MRNA', 'NVS', 'BNGO', 'PRTA', 'AGIO', 'HALO', 'MMSI', 'AUPH', 'INGN', 'ELAN', 'TAK', 'CARA', 'ARVN', 'BTAI', 'PBH', 'XENE', 'NVAX', 'SKIN', 'LH', 'BIO', 'IOVA', 'KOD', 'QNCX', 'ONEM', 'ADUS', 'GKOS', 'NVST', 'ABMD', 'ACMR', 'HAE', 'QGEN', 'EAR', 'BSX', 'SWAV', 'JNJ', 'EVH', 'MDGL', 'FGEN', 'ABCL', 'MRK', 'ELV', 'XRAY', 'GOSS', 'AMGN', 'MRVI', 'ESPR', 'INVA', 'ARWR', 'AXGN', 'NTRA', 'AERI', 'RYTM', 'OSH', 'AMEH', 'ATRA', 'NVTA', 'CORT', 'LLY', 'ATRI', 'CRVL', 'RVMD', 'BAX', 'INSM', 'FULC', 'NEO', 'LFST', 'TSVT', 'ALGN', 'NVCR', 'ZIMV', 'MDRX', 'MYGN', 'TFX', 'EXAS', 'TXG', 'ISRG', 'LYEL', 'SUPN', 'DNA', 'VEEV', 'BLUE', 'HQY', 'BBIO', 'BYSI', 'ICPT', 'STE', 'SGEN', 'ALXO', 'SRPT', 'ICUI', 'BIIB', 'COO', 'CLOV', 'CHRS', 'AMN', 'HSIC', 'PEN', 'HCAT', 'BPMC', 'AMED', 'NKTR', 'RGNX', 'SYK', 'PTCT', 'AWH', 'HRMY', 'AXNX', 'EXEL', 'ISEE', 'DCPH', 'DHR', 'ROG', 'PDCO', 'PCVX', 'BRKR', 'EDIT', 'PRAX', 'TCMD', 'ENOV', 'FOLD', 'MRTX', 'ALC', 'CVS', 'RCUS', 'OMCL', 'SWTX', 'RXDX', 'LGND', 'BEAM', 'PINC', 'TMO', 'ALNY', 'GH', 'VNDA', 'CNC', 'ARQT', 'BMRN', 'APLS', 'CRSP', 'VTRS', 'VIR', 'IQV', 'REGN', 'KRYS', 'KRTX', 'UNH', 'AZN', 'APLT', 'ADPT', 'HIMS', 'VRTX', 'MODV', 'LHCG', 'ABT', 'ANIP', 'IRTC', 'NBIX', 'HCA', 'INSP', 'MEDP', 'NEOG', 'PFE', 'GRPH', 'TNDM', 'RGEN', 'RLAY', 'LNTH', 'CYTK']\n"
   ]
  },
  {
   "cell_type": "markdown",
   "id": "874864cb-4cc0-400c-b731-5e635c541363",
   "metadata": {},
   "source": [
    "MATERIALS"
   ]
  },
  {
   "cell_type": "code",
   "execution_count": null,
   "id": "7e9e1bb0-920b-4060-9f98-ce3d3c02587d",
   "metadata": {},
   "outputs": [],
   "source": [
    "tickers_list = ['RIO', 'IP', 'CTVA', 'DOW', 'VMC', 'SMG', 'NTR', 'RGLD', 'WLK', 'NEM', 'DD', 'PPG', 'ALB', 'PLL', 'ASH', 'FUL', 'GEF', 'AEM', 'RS', 'IOSP', 'AVY', 'MATV', 'MOS', 'EMN', 'GPK', 'UEC', 'AVNT', 'LTHM', 'BERY', 'SCL', 'CMC', 'SEE', 'ATI', 'STLD', 'ARNC', 'APD', 'HUN', 'ECL', 'AG', 'NUE', 'LAC', 'KALU'] # 28%\n",
    "'CBT', 'NEU', 'OI', 'EXP', 'SXT', 'OLN', 'CCK', 'KWR', 'RPM', 'CE', 'WPM', 'BALL', 'CC', 'FMC', 'LICY', 'VALE', 'SLGN', 'MP', 'AXTA', 'ATR', 'LYB', 'VVV', 'SHW', 'MLM', 'IFF', 'SRI', 'KGC', 'CMP', 'AMCR', 'PAAS', 'MUSA', 'MTX', 'CRS', 'GOLD', 'SCCO', 'AA', 'MTRN', 'CLF', 'NGVT', 'WRK', 'BCPC', 'FCX', 'LIN', 'CF', 'X', 'BCC', 'ASIX']\n"
   ]
  },
  {
   "cell_type": "markdown",
   "id": "2be04887-5bca-4b1c-bc03-e0d13eebd176",
   "metadata": {},
   "source": [
    "INDASTRIAL"
   ]
  },
  {
   "cell_type": "code",
   "execution_count": null,
   "id": "c4f4013d-91b5-4c5f-b620-fa5f1f2f3634",
   "metadata": {},
   "outputs": [],
   "source": [
    "tickers_list = ['HUBB', 'ZIM', 'GVA', 'R', 'KEX', 'SNA', 'CSGP', 'GXO', 'ABM', 'WSO', 'CAT', 'MIDD', 'LYFT', 'SPR', 'SXI', 'PLXS', 'TT', 'UPS', 'FDX', 'CNI', 'SITE', 'HA', 'CSWI', 'UNP', 'JBHT', 'ODFL', 'AXON', 'CTAS', 'TKR', 'HCSG', 'NSP', 'LMT', 'VVX', 'BLDR', 'AJRD', 'PRLB', 'CHRW', 'BBSI', 'LII', 'AIR', 'BWXT'] #42,\n",
    "'CMI', 'RTX', 'VMI', 'ALG', 'TDG', 'WTS', 'PKG', 'AGCO', 'HXL', 'ASTR', 'HWM', 'CPRT', 'CSL', 'SWK', 'CWST', 'GGG', 'PLUG', 'FLR', 'NVEE', 'HCCI', 'CEA', 'EFX', 'QS', 'BA', 'HON', 'TTC', 'ESAB', 'CNHI', 'IEX', 'BECN', 'RBC', 'VRTV', 'NDSN', 'UFPI', 'ALK', 'MAS', 'SAIA', 'HSC', 'SRCL', 'JELD', 'ZNH', 'FELE', 'ENS', 'ALLE', 'AAWW', 'ALGT', 'VICR', 'DLX', 'WWD', 'ITW', 'SAVE', 'ROP', 'PATK', 'TXT', 'TEX', 'OSK', 'HII', 'WSC', 'JBT', 'DY', 'PH', 'EXPO', 'CMCO', 'LUV', 'ROL', 'AVAV', 'TTEK', 'BCO', 'NPK', 'GE', 'WIRE', 'UNF', 'SWBI', 'ASGN', 'DNOW', 'VRSK', 'EAF', 'ICFI', 'TNC', 'AIT', 'ROCK', 'ACM', 'AAL', 'LNN', 'MAN', 'DOV', 'KTOS', 'TRU', 'ROK', 'TFII', 'XYL', 'UNVR', 'ESE', 'ITT', 'ATKR', 'OC', 'HURN', 'JCI', 'GWW', 'MMM', 'SON', 'AMWD', 'WAB', 'NKLA', 'GBX', 'SPCE', 'MSA', 'HEI', 'NSC', 'URI', 'EMR', 'IAA', 'CSX', 'RIDE', 'DAL', 'KAI', 'MATX', 'FORR', 'AWI', 'WERN', 'MGRC', 'RKLB', 'REZI', 'PBI', 'NOC', 'TNET', 'PGTI', 'LECO', 'LASR', 'UBER', 'FTV', 'ALSN', 'GNRC', 'GOGL', 'LSTR', 'SP', 'LHX', 'UAL', 'AER', 'MSM', 'CARR', 'FCN', 'EME', 'CAR', 'CW', 'JOBY', 'KNX', 'TDY', 'MRC', 'IR', 'EXPD', 'CR', 'CP', 'ENVX', 'DCI', 'KMT', 'FWRD', 'HUBG', 'DE', 'ATRO', 'AIN', 'GD', 'AME', 'WOR', 'CLH', 'FAST', 'ETN', 'TPIC', 'TREX', 'RXO', 'APTV', 'AAON', 'FLS', 'PCAR']\n"
   ]
  },
  {
   "cell_type": "markdown",
   "id": "36d312e0-204f-4bb7-bd99-a341f2288993",
   "metadata": {},
   "source": [
    "TELECOM"
   ]
  },
  {
   "cell_type": "code",
   "execution_count": null,
   "id": "b9ff8f24-b6c7-440b-a32a-a58d67a59892",
   "metadata": {},
   "outputs": [],
   "source": [
    "['NWSA', 'GTN', 'SPOT', 'DIS', 'NXST', 'CABO', 'PARA', 'PRFT', 'WBD', 'EA', 'SKM', 'IAC', 'MSGS', 'OMC', 'GOOGL', 'NYT', 'MANU', 'LUMN', 'SNAP', 'AMCX', 'TMUS', 'TRI', 'USM', 'T', 'ATNI', 'PD', 'DISH', 'MSGE', 'SHEN', 'YY', 'ATUS', 'CHTR', 'SIRI', 'BILI', 'MOMO', 'ROKU', 'ZG', 'ATVI', 'Z', 'SOHU', 'NFLX', 'ASTS', 'CARG', 'VEON', 'ZI', 'WB', 'TTWO', 'SBGI', 'BAND', 'WWE', 'TDS', 'NWS', 'CNK', 'YELP', 'VZ', 'NTES', 'BIDU', 'LYV', 'LBRDK', 'FOX', 'CMCSA', 'CARS', 'CCOI', 'BCE', 'QNST', 'IPG', 'IRDM', 'TWTR', 'MTCH', 'ANGI', 'CDLX', 'TRIP', 'FOXA', 'TGNA', 'SATS', 'GOOG']\n"
   ]
  },
  {
   "cell_type": "markdown",
   "id": "decd6c4c-c35f-4482-abe4-d261e7c4653a",
   "metadata": {},
   "source": [
    "ECOMATERIALS"
   ]
  },
  {
   "cell_type": "code",
   "execution_count": null,
   "id": "33542547-e441-44e1-95dd-135fc8f32b99",
   "metadata": {},
   "outputs": [],
   "source": [
    "['WCN', 'RSG', 'DNMR', 'WM']"
   ]
  },
  {
   "cell_type": "markdown",
   "id": "536b1475-2f1b-4bb0-993e-5b55b8d2dd8b",
   "metadata": {},
   "source": [
    "REAL ESTATE"
   ]
  },
  {
   "cell_type": "code",
   "execution_count": null,
   "id": "0cb92919-39ea-44d9-95b5-d496cd191a7b",
   "metadata": {},
   "outputs": [],
   "source": [
    "['APLE', 'IRM', 'SKY', 'ELS', 'PSA', 'COLD', 'FRT', 'O', 'WELL', 'BXP', 'KRC', 'CPT', 'CXW', 'NHI', 'CBRE', 'UDR', 'IIPR', 'JLL', 'RYN', 'SBAC', 'GLPI', 'SPG', 'AVB', 'BRX', 'FR', 'HHC', 'ONL', 'STAG', 'SKT', 'SBRA', 'SLG', 'INVH', 'AMH', 'MAA', 'AMT', 'EQR', 'FRPH', 'REG', 'EXR', 'CCS', 'LSI', 'HST', 'WY', 'EQIX', 'HIW', 'MMI', 'AIV', 'EGP', 'DEI', 'DLR', 'AGNC', 'STOR', 'PLD', 'PCH', 'GNL', 'RDFN', 'GRBK', 'MPW', 'KRG', 'OHI', 'KIM', 'CUBE', 'EXPI', 'VNO', 'MAC', 'TRNO', 'ARE', 'CORR', 'ESS', 'NLY', 'AIRC', 'CCI', 'RITM', 'VTR', 'CUZ', 'HR', 'PEAK', 'WPC', 'CLDT']\n"
   ]
  },
  {
   "cell_type": "code",
   "execution_count": null,
   "id": "53abebc9-5767-4d4b-8aa1-10fa25da02ae",
   "metadata": {},
   "outputs": [],
   "source": []
  },
  {
   "cell_type": "code",
   "execution_count": null,
   "id": "a994e645-d4af-4f3f-aacb-8a77818aebdc",
   "metadata": {},
   "outputs": [],
   "source": []
  }
 ],
 "metadata": {
  "kernelspec": {
   "display_name": "Python 3 (ipykernel)",
   "language": "python",
   "name": "python3"
  },
  "language_info": {
   "codemirror_mode": {
    "name": "ipython",
    "version": 3
   },
   "file_extension": ".py",
   "mimetype": "text/x-python",
   "name": "python",
   "nbconvert_exporter": "python",
   "pygments_lexer": "ipython3",
   "version": "3.11.0"
  }
 },
 "nbformat": 4,
 "nbformat_minor": 5
}
