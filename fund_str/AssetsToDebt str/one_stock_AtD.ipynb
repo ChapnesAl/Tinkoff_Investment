{
 "cells": [
  {
   "cell_type": "code",
   "execution_count": 1,
   "id": "9a440012-4e93-449a-bff9-794306feed5c",
   "metadata": {},
   "outputs": [],
   "source": [
    "import fundamentalanalysis as fa\n",
    "import numpy as np\n",
    "import pandas as pd\n",
    "import matplotlib.pyplot as plt\n",
    "import yfinance as yf\n",
    "import datetime\n",
    "import statistics as st\n",
    "from matplotlib.pyplot import figure\n",
    "\n",
    "%matplotlib inline "
   ]
  },
  {
   "cell_type": "code",
   "execution_count": 2,
   "id": "aa9ae502-4b3c-4c15-a789-0cc966baf809",
   "metadata": {},
   "outputs": [],
   "source": [
    "pd.set_option('display.max_rows', 1000)\n",
    "pd.set_option('display.max_columns', 500)\n",
    "pd.set_option('display.width', 1000)"
   ]
  },
  {
   "cell_type": "code",
   "execution_count": 3,
   "id": "baa98a8c-194e-4809-a9f9-6aa16f370159",
   "metadata": {},
   "outputs": [],
   "source": [
    "# api_key = '00ef9804fcde0edd93b1b4821ee2f06a'\n",
    "api_key = 'c81352430e2fe3c941faf0814227562b'"
   ]
  },
  {
   "cell_type": "markdown",
   "id": "0fe65990-fc13-45ec-9508-87a23f7a42e5",
   "metadata": {},
   "source": [
    "data"
   ]
  },
  {
   "cell_type": "code",
   "execution_count": 4,
   "id": "4b1bdc0a-da08-44c8-b993-1a48ed60f87e",
   "metadata": {},
   "outputs": [],
   "source": [
    "\n",
    "''' Колонки '''\n",
    "ticker = 'PATH'\n",
    "# ticker = 'AAPL'\n",
    "\n",
    "\n",
    "\n",
    "''' для фильтрации'''\n",
    "filt_start_date = '1999'\n",
    "filt_finish_date = '2022'\n",
    "\n",
    "\n",
    "''' время '''\n",
    "stime=f'{str(int(filt_start_date)-1)}-01-01'\n",
    "ftime='2023-02-01'\n",
    "period = '1mo'  # '1d' '1wk'"
   ]
  },
  {
   "cell_type": "markdown",
   "id": "79440eb9-764c-46fb-bb92-fda6b5ed771f",
   "metadata": {},
   "source": [
    "ticker and stock data"
   ]
  },
  {
   "cell_type": "code",
   "execution_count": 5,
   "id": "963f3857-7f10-4f04-874a-74cffc5be623",
   "metadata": {},
   "outputs": [
    {
     "data": {
      "text/html": [
       "<div>\n",
       "<style scoped>\n",
       "    .dataframe tbody tr th:only-of-type {\n",
       "        vertical-align: middle;\n",
       "    }\n",
       "\n",
       "    .dataframe tbody tr th {\n",
       "        vertical-align: top;\n",
       "    }\n",
       "\n",
       "    .dataframe thead th {\n",
       "        text-align: right;\n",
       "    }\n",
       "</style>\n",
       "<table border=\"1\" class=\"dataframe\">\n",
       "  <thead>\n",
       "    <tr style=\"text-align: right;\">\n",
       "      <th></th>\n",
       "      <th>PATH</th>\n",
       "    </tr>\n",
       "    <tr>\n",
       "      <th>Date</th>\n",
       "      <th></th>\n",
       "    </tr>\n",
       "  </thead>\n",
       "  <tbody>\n",
       "    <tr>\n",
       "      <th>2022-11-01 00:00:00-04:00</th>\n",
       "      <td>12.47</td>\n",
       "    </tr>\n",
       "    <tr>\n",
       "      <th>2022-12-01 00:00:00-05:00</th>\n",
       "      <td>12.71</td>\n",
       "    </tr>\n",
       "    <tr>\n",
       "      <th>2023-01-01 00:00:00-05:00</th>\n",
       "      <td>14.57</td>\n",
       "    </tr>\n",
       "  </tbody>\n",
       "</table>\n",
       "</div>"
      ],
      "text/plain": [
       "                            PATH\n",
       "Date                            \n",
       "2022-11-01 00:00:00-04:00  12.47\n",
       "2022-12-01 00:00:00-05:00  12.71\n",
       "2023-01-01 00:00:00-05:00  14.57"
      ]
     },
     "execution_count": 5,
     "metadata": {},
     "output_type": "execute_result"
    }
   ],
   "source": [
    "def get_data_from_ticker(tick, stime, ftime, interval=period):\n",
    "    ticker = yf.Ticker(tick)\n",
    "\n",
    "    df = ticker.history(start=stime, end=ftime, interval=interval)\n",
    "    x = pd.DataFrame(df)\n",
    "    x.rename(columns={\"Close\": tick}, inplace=True)\n",
    "    z = x.drop(columns=[\"Open\", \"High\", \"Low\", \"Volume\", \"Dividends\", \"Stock Splits\"])\n",
    "    return z\n",
    "\n",
    "df = get_data_from_ticker(ticker, stime, None, period)\n",
    "df_market = get_data_from_ticker('^GSPC', stime, None, period)\n",
    "df.tail(3)"
   ]
  },
  {
   "cell_type": "markdown",
   "id": "2b1fcad7-2b4e-46f0-bb2f-b456de97d701",
   "metadata": {},
   "source": [
    "change index to add in metriks df"
   ]
  },
  {
   "cell_type": "code",
   "execution_count": 6,
   "id": "2cdc33ac-b9c0-4bd4-89f4-1e32fce31148",
   "metadata": {},
   "outputs": [
    {
     "data": {
      "text/html": [
       "<div>\n",
       "<style scoped>\n",
       "    .dataframe tbody tr th:only-of-type {\n",
       "        vertical-align: middle;\n",
       "    }\n",
       "\n",
       "    .dataframe tbody tr th {\n",
       "        vertical-align: top;\n",
       "    }\n",
       "\n",
       "    .dataframe thead th {\n",
       "        text-align: right;\n",
       "    }\n",
       "</style>\n",
       "<table border=\"1\" class=\"dataframe\">\n",
       "  <thead>\n",
       "    <tr style=\"text-align: right;\">\n",
       "      <th></th>\n",
       "      <th>PATH</th>\n",
       "    </tr>\n",
       "    <tr>\n",
       "      <th>Date_index</th>\n",
       "      <th></th>\n",
       "    </tr>\n",
       "  </thead>\n",
       "  <tbody>\n",
       "    <tr>\n",
       "      <th>2021-05-01</th>\n",
       "      <td>79.820000</td>\n",
       "    </tr>\n",
       "    <tr>\n",
       "      <th>2021-06-01</th>\n",
       "      <td>67.930000</td>\n",
       "    </tr>\n",
       "    <tr>\n",
       "      <th>2021-07-01</th>\n",
       "      <td>62.560001</td>\n",
       "    </tr>\n",
       "  </tbody>\n",
       "</table>\n",
       "</div>"
      ],
      "text/plain": [
       "                 PATH\n",
       "Date_index           \n",
       "2021-05-01  79.820000\n",
       "2021-06-01  67.930000\n",
       "2021-07-01  62.560001"
      ]
     },
     "execution_count": 6,
     "metadata": {},
     "output_type": "execute_result"
    }
   ],
   "source": [
    "def change_index(df):\n",
    "    df_index = df.index.to_list()\n",
    "    for i in range(len(df_index)):\n",
    "        t = df_index[i].date()\n",
    "        df_index[i] = t.strftime('%Y-%m-%d')\n",
    "    df['Date_index'] = df_index\n",
    "    df = df.set_index('Date_index')\n",
    "    return df\n",
    "\n",
    "df = change_index(df)\n",
    "df_market  = change_index(df_market)\n",
    "df.head(3)"
   ]
  },
  {
   "cell_type": "markdown",
   "id": "2a288b0a-aa35-4cc3-9c7c-d0a910197c0b",
   "metadata": {},
   "source": [
    "key_metrics"
   ]
  },
  {
   "cell_type": "code",
   "execution_count": 7,
   "id": "6ee8ca69-e68c-4c8d-8cb0-2f06aad10841",
   "metadata": {},
   "outputs": [
    {
     "data": {
      "text/html": [
       "<div>\n",
       "<style scoped>\n",
       "    .dataframe tbody tr th:only-of-type {\n",
       "        vertical-align: middle;\n",
       "    }\n",
       "\n",
       "    .dataframe tbody tr th {\n",
       "        vertical-align: top;\n",
       "    }\n",
       "\n",
       "    .dataframe thead th {\n",
       "        text-align: right;\n",
       "    }\n",
       "</style>\n",
       "<table border=\"1\" class=\"dataframe\">\n",
       "  <thead>\n",
       "    <tr style=\"text-align: right;\">\n",
       "      <th></th>\n",
       "      <th>averageInventory</th>\n",
       "      <th>averagePayables</th>\n",
       "      <th>averageReceivables</th>\n",
       "      <th>bookValuePerShare</th>\n",
       "      <th>capexPerShare</th>\n",
       "      <th>capexToDepreciation</th>\n",
       "      <th>capexToOperatingCashFlow</th>\n",
       "      <th>capexToRevenue</th>\n",
       "      <th>cashPerShare</th>\n",
       "      <th>currentRatio</th>\n",
       "      <th>daysOfInventoryOnHand</th>\n",
       "      <th>daysPayablesOutstanding</th>\n",
       "      <th>daysSalesOutstanding</th>\n",
       "      <th>debtToAssets</th>\n",
       "      <th>debtToEquity</th>\n",
       "      <th>dividendYield</th>\n",
       "      <th>earningsYield</th>\n",
       "      <th>enterpriseValue</th>\n",
       "      <th>enterpriseValueOverEBITDA</th>\n",
       "      <th>evToFreeCashFlow</th>\n",
       "      <th>evToOperatingCashFlow</th>\n",
       "      <th>evToSales</th>\n",
       "      <th>freeCashFlowPerShare</th>\n",
       "      <th>freeCashFlowYield</th>\n",
       "      <th>grahamNetNet</th>\n",
       "      <th>grahamNumber</th>\n",
       "      <th>incomeQuality</th>\n",
       "      <th>intangiblesToTotalAssets</th>\n",
       "      <th>interestCoverage</th>\n",
       "      <th>interestDebtPerShare</th>\n",
       "      <th>inventoryTurnover</th>\n",
       "      <th>investedCapital</th>\n",
       "      <th>marketCap</th>\n",
       "      <th>netCurrentAssetValue</th>\n",
       "      <th>netDebtToEBITDA</th>\n",
       "      <th>netIncomePerShare</th>\n",
       "      <th>operatingCashFlowPerShare</th>\n",
       "      <th>payablesTurnover</th>\n",
       "      <th>payoutRatio</th>\n",
       "      <th>pbRatio</th>\n",
       "      <th>peRatio</th>\n",
       "      <th>period</th>\n",
       "      <th>pfcfRatio</th>\n",
       "      <th>pocfratio</th>\n",
       "      <th>priceToSalesRatio</th>\n",
       "      <th>ptbRatio</th>\n",
       "      <th>receivablesTurnover</th>\n",
       "      <th>researchAndDdevelopementToRevenue</th>\n",
       "      <th>returnOnTangibleAssets</th>\n",
       "      <th>revenuePerShare</th>\n",
       "      <th>roe</th>\n",
       "      <th>roic</th>\n",
       "      <th>salesGeneralAndAdministrativeToRevenue</th>\n",
       "      <th>shareholdersEquityPerShare</th>\n",
       "      <th>stockBasedCompensationToRevenue</th>\n",
       "      <th>tangibleAssetValue</th>\n",
       "      <th>tangibleBookValuePerShare</th>\n",
       "      <th>workingCapital</th>\n",
       "    </tr>\n",
       "  </thead>\n",
       "  <tbody>\n",
       "    <tr>\n",
       "      <th>2022</th>\n",
       "      <td>None</td>\n",
       "      <td>9098500</td>\n",
       "      <td>277290500</td>\n",
       "      <td>3.905044</td>\n",
       "      <td>-0.026536</td>\n",
       "      <td>-0.553859</td>\n",
       "      <td>0.237614</td>\n",
       "      <td>-0.014637</td>\n",
       "      <td>3.789681</td>\n",
       "      <td>4.31715</td>\n",
       "      <td>0</td>\n",
       "      <td>24.889115</td>\n",
       "      <td>137.815673</td>\n",
       "      <td>0.252885</td>\n",
       "      <td>0.025934</td>\n",
       "      <td>None</td>\n",
       "      <td>-0.031474</td>\n",
       "      <td>14981754005.709999</td>\n",
       "      <td>-30.969906</td>\n",
       "      <td>-220.245417</td>\n",
       "      <td>-272.578899</td>\n",
       "      <td>16.790945</td>\n",
       "      <td>-0.138212</td>\n",
       "      <td>-0.004073</td>\n",
       "      <td>2.981285</td>\n",
       "      <td>9.686608</td>\n",
       "      <td>0.104575</td>\n",
       "      <td>0.02736</td>\n",
       "      <td>-141.071811</td>\n",
       "      <td>0.111642</td>\n",
       "      <td>None</td>\n",
       "      <td>0.026742</td>\n",
       "      <td>16699082005.709999</td>\n",
       "      <td>1626768000</td>\n",
       "      <td>3.550017</td>\n",
       "      <td>-1.067911</td>\n",
       "      <td>-0.111676</td>\n",
       "      <td>14.665046</td>\n",
       "      <td>0</td>\n",
       "      <td>8.688763</td>\n",
       "      <td>-31.772311</td>\n",
       "      <td>FY</td>\n",
       "      <td>-245.491701</td>\n",
       "      <td>-303.824064</td>\n",
       "      <td>18.715657</td>\n",
       "      <td>8.688763</td>\n",
       "      <td>2.648465</td>\n",
       "      <td>0.310066</td>\n",
       "      <td>-0.210061</td>\n",
       "      <td>1.812921</td>\n",
       "      <td>-0.27347</td>\n",
       "      <td>-0.244967</td>\n",
       "      <td>0.28018</td>\n",
       "      <td>3.905044</td>\n",
       "      <td>0.577845</td>\n",
       "      <td>1851536000</td>\n",
       "      <td>3.76204</td>\n",
       "      <td>1749800000</td>\n",
       "    </tr>\n",
       "  </tbody>\n",
       "</table>\n",
       "</div>"
      ],
      "text/plain": [
       "     averageInventory averagePayables averageReceivables bookValuePerShare capexPerShare capexToDepreciation capexToOperatingCashFlow capexToRevenue cashPerShare currentRatio daysOfInventoryOnHand daysPayablesOutstanding daysSalesOutstanding debtToAssets debtToEquity dividendYield earningsYield     enterpriseValue enterpriseValueOverEBITDA evToFreeCashFlow evToOperatingCashFlow  evToSales freeCashFlowPerShare freeCashFlowYield grahamNetNet grahamNumber incomeQuality intangiblesToTotalAssets interestCoverage interestDebtPerShare inventoryTurnover investedCapital           marketCap netCurrentAssetValue netDebtToEBITDA netIncomePerShare operatingCashFlowPerShare payablesTurnover payoutRatio   pbRatio    peRatio period   pfcfRatio   pocfratio priceToSalesRatio  ptbRatio receivablesTurnover researchAndDdevelopementToRevenue returnOnTangibleAssets revenuePerShare      roe      roic salesGeneralAndAdministrativeToRevenue shareholdersEquityPerShare stockBasedCompensationToRevenue  \\\n",
       "2022             None         9098500          277290500          3.905044     -0.026536           -0.553859                 0.237614      -0.014637     3.789681      4.31715                     0               24.889115           137.815673     0.252885     0.025934          None     -0.031474  14981754005.709999                -30.969906      -220.245417           -272.578899  16.790945            -0.138212         -0.004073     2.981285     9.686608      0.104575                  0.02736      -141.071811             0.111642              None        0.026742  16699082005.709999           1626768000        3.550017         -1.067911                 -0.111676        14.665046           0  8.688763 -31.772311     FY -245.491701 -303.824064         18.715657  8.688763            2.648465                          0.310066              -0.210061        1.812921 -0.27347 -0.244967                                0.28018                   3.905044                        0.577845   \n",
       "\n",
       "     tangibleAssetValue tangibleBookValuePerShare workingCapital  \n",
       "2022         1851536000                   3.76204     1749800000  "
      ]
     },
     "execution_count": 7,
     "metadata": {},
     "output_type": "execute_result"
    }
   ],
   "source": [
    "key_metrics = fa.key_metrics(ticker, api_key, period='annual')\n",
    "df_key_metr = key_metrics.T\n",
    "df_key_metr.head(3)"
   ]
  },
  {
   "cell_type": "code",
   "execution_count": 8,
   "id": "1879028a-0c66-435a-9037-bb2641e4351a",
   "metadata": {},
   "outputs": [],
   "source": [
    "df_key_metr = df_key_metr.loc[filt_finish_date:filt_start_date].copy(deep=True)\n",
    "index_years = df_key_metr.index.to_list()"
   ]
  },
  {
   "cell_type": "code",
   "execution_count": 9,
   "id": "154422c3-afb6-4c2e-98f8-164dff17dca2",
   "metadata": {},
   "outputs": [],
   "source": [
    "def get_price_from_df(df, list_dates):\n",
    "    new_list = []\n",
    "    for i in range(len(list_dates)):\n",
    "        x = int(list_dates[i])\n",
    "        x += 1\n",
    "        x = str(x)\n",
    "        r = df.loc[f'{x}-01-01']\n",
    "        r = float(r)\n",
    "        new_list.append(r)\n",
    "        \n",
    "    return new_list\n",
    "        \n",
    "stock_year_prices = get_price_from_df(df, index_years)\n",
    "stock_year_market_prices = get_price_from_df(df_market, index_years)"
   ]
  },
  {
   "cell_type": "code",
   "execution_count": 10,
   "id": "b9d92aeb-1aae-4dd0-b116-c00b3f1f860e",
   "metadata": {},
   "outputs": [],
   "source": [
    "df_key_metr[ticker] = list(stock_year_prices)\n",
    "df_key_metr['SNP'] = list(stock_year_market_prices)\n",
    "df_key_metr.drop('period', axis=1, inplace=True)"
   ]
  },
  {
   "cell_type": "markdown",
   "id": "4e4be899-dd86-45bd-be6f-821bb685245d",
   "metadata": {},
   "source": [
    "add_percent_columns"
   ]
  },
  {
   "cell_type": "code",
   "execution_count": 11,
   "id": "f0338786-e185-48d6-84c6-128ec83e8753",
   "metadata": {},
   "outputs": [],
   "source": [
    "def change_percent_all_columns(df):\n",
    "    x = df.columns.to_list()\n",
    "    for i in range(len(x)):\n",
    "        v = df[x[i]].to_list()\n",
    "        l = []\n",
    "        for y in range(len(v)):\n",
    "            try:\n",
    "                # if y != len(v):\n",
    "                #     vv = (v[y] / (v[y+1] / 100)) - 100\n",
    "                #     l.append(vv)\n",
    "                #     # print(vv)\n",
    "                if y != len(v):\n",
    "                    if v[y] < 0 and v[y+1] > 0:\n",
    "                        l.append('Minus')\n",
    "                    elif v[y] > 0 and v[y+1] < 0:\n",
    "                        l.append('Plus')\n",
    "                    else:\n",
    "                        vv = (v[y] / (v[y+1] / 100)) - 100\n",
    "                        l.append(vv)  \n",
    "                else:\n",
    "                    vv = 0\n",
    "                    l.append(vv)\n",
    "                    # print(vv)\n",
    "            except:\n",
    "                l.append(0)\n",
    "        df[f'change % {x[i]}'] = l\n",
    "    return df\n",
    "\n",
    "df_with_changes_key = change_percent_all_columns(df_key_metr)"
   ]
  },
  {
   "cell_type": "markdown",
   "id": "e0fc4e6c-a48e-413c-b0d6-9aaa4d164a10",
   "metadata": {},
   "source": [
    "Vizualization key_metrics"
   ]
  },
  {
   "cell_type": "code",
   "execution_count": 12,
   "id": "d2dfcd76-ab4b-4749-9552-8bc7b33df191",
   "metadata": {},
   "outputs": [],
   "source": [
    "df_with_changes_key = df_with_changes_key.reindex(index=df_with_changes_key.index[::-1])"
   ]
  },
  {
   "cell_type": "code",
   "execution_count": 13,
   "id": "0208436e-7878-40c6-bc21-e717877cda95",
   "metadata": {},
   "outputs": [],
   "source": [
    "''' necessary columns '''\n",
    "\n",
    "km0 = f'{ticker}'\n",
    "km1 = f'change % {ticker}'\n",
    "km2 = 'SNP'\n",
    "km3 = 'change % SNP'\n",
    "km4 = 'change % debtToAssets'"
   ]
  },
  {
   "cell_type": "code",
   "execution_count": 14,
   "id": "ba88c3f4-120d-47af-8cae-f47a31f3d039",
   "metadata": {},
   "outputs": [
    {
     "data": {
      "image/png": "[encoded data removed]",
      "text/plain": [
       "<Figure size 3000x600 with 1 Axes>"
      ]
     },
     "metadata": {},
     "output_type": "display_data"
    }
   ],
   "source": [
    "# plot size\n",
    "figure(figsize=(20,4), dpi=150)\n",
    "plt.axhline(y=0, linestyle='-')\n",
    "\n",
    "\n",
    "# Set the title and axis labels\n",
    "plt.title('Percent')\n",
    "plt.xlabel('Date')\n",
    "plt.ylabel('Percent')\n",
    "\n",
    "\n",
    "# Plot \n",
    "plt.plot(df_with_changes_key[km1],lw=1, label=km1)\n",
    "plt.plot(df_with_changes_key[km3],'g',lw=1, label=km3)\n",
    "plt.plot(df_with_changes_key[km4],'r',lw=1, label=km4)\n",
    "\n",
    "# Add a legend to the axis\n",
    "plt.legend()\n",
    "\n",
    "plt.show()"
   ]
  },
  {
   "cell_type": "code",
   "execution_count": null,
   "id": "bfd90cf9-4665-4db6-b31c-2ed5811d748a",
   "metadata": {},
   "outputs": [],
   "source": []
  },
  {
   "cell_type": "code",
   "execution_count": null,
   "id": "34bd1923-bac6-4547-bf76-a1f6f83ef79b",
   "metadata": {},
   "outputs": [],
   "source": []
  }
 ],
 "metadata": {
  "kernelspec": {
   "display_name": "Python 3 (ipykernel)",
   "language": "python",
   "name": "python3"
  },
  "language_info": {
   "codemirror_mode": {
    "name": "ipython",
    "version": 3
   },
   "file_extension": ".py",
   "mimetype": "text/x-python",
   "name": "python",
   "nbconvert_exporter": "python",
   "pygments_lexer": "ipython3",
   "version": "3.11.0"
  },
  "toc-autonumbering": true,
  "toc-showmarkdowntxt": true
 },
 "nbformat": 4,
 "nbformat_minor": 5
}
