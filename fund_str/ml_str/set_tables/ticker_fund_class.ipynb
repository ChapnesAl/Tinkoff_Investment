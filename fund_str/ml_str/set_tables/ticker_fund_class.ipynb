{
 "cells": [
  {
   "cell_type": "code",
   "execution_count": 1,
   "id": "e83728f0-e57f-4e57-8487-49954b11cb9b",
   "metadata": {},
   "outputs": [],
   "source": [
    "# external api\n",
    "import fundamentalanalysis as fa\n",
    "import yfinance as yf\n",
    "\n",
    "# data analytic \n",
    "import numpy as np\n",
    "import pandas as pd\n",
    "\n",
    "# additional liberies\n",
    "import datetime\n",
    "import statistics as st"
   ]
  },
  {
   "cell_type": "code",
   "execution_count": 2,
   "id": "845aee5b-9ba7-4fe7-aaa7-eb32ecf9e009",
   "metadata": {},
   "outputs": [],
   "source": [
    "pd.set_option('display.max_rows', 1000)\n",
    "pd.set_option('display.max_columns', 500)\n",
    "pd.set_option('display.width', 1000)"
   ]
  },
  {
   "cell_type": "code",
   "execution_count": 3,
   "id": "41237e21-6b4a-4985-94ee-4fe985cae8e5",
   "metadata": {},
   "outputs": [],
   "source": [
    "api_key = '00ef9804fcde0edd93b1b4821ee2f06a'  #job.chap@icloud.com\n",
    "# api_key = 'c81352430e2fe3c941faf0814227562b'  #jobs.chaps@gmail.com\n",
    "# api_key = 'a765d11740cccfb61177da0ad8699d1e'  #job.chap@gmail.com"
   ]
  },
  {
   "cell_type": "code",
   "execution_count": 6,
   "id": "80014434-526a-49bc-8e39-0b48fed8b03d",
   "metadata": {},
   "outputs": [],
   "source": [
    "''' Тикеры '''\n",
    "tick = 'F'  # поменял название переменно ticker на tick, для настройки по одной акции\n",
    "\n",
    "''' для фильтрации'''\n",
    "# filt_start_date = '2000'\n",
    "# filt_finish_date = '2022'\n",
    "\n",
    "\n",
    "''' время '''\n",
    "stime = '2000-01-01'\n",
    "ftime = '2023-02-01'\n",
    "period = '1mo'  # '1d' '1wk'"
   ]
  },
  {
   "cell_type": "code",
   "execution_count": 10,
   "id": "e0db11d0-79ce-4af5-ad9c-c56ddc294771",
   "metadata": {},
   "outputs": [
    {
     "data": {
      "text/plain": [
       "'2000'"
      ]
     },
     "execution_count": 10,
     "metadata": {},
     "output_type": "execute_result"
    }
   ],
   "source": [
    "stime[:4]"
   ]
  },
  {
   "cell_type": "code",
   "execution_count": 58,
   "id": "ecbec9c7-f398-4238-bef8-71c643049aad",
   "metadata": {},
   "outputs": [],
   "source": [
    "class Fund_ticker:\n",
    "    def __init__(self, tick, stime, ftime, api_key_fund):\n",
    "        self.tick = tick\n",
    "        self.stime = stime\n",
    "        self.ftime = ftime\n",
    "        self.api_key_fund = api_key_fund\n",
    "        \n",
    "    def get_key_metr(self):\n",
    "        ''' получаем df с key_metrics\n",
    "        '''\n",
    "        key_metrics = fa.key_metrics(self.tick, self.api_key_fund, period='annual')\n",
    "        return key_metrics.T\n",
    "    \n",
    "    def get_income_statement(self):\n",
    "        ''' получаем df с income_statement\n",
    "        '''        \n",
    "        income_statement = fa.income_statement(self.tick, self.api_key_fund, period='annual')\n",
    "        return income_statement.T\n",
    "        \n",
    "    \n",
    "    def get_balance_sheet_statement(self):\n",
    "        ''' получаем df с balance_sheet_statement\n",
    "        '''  \n",
    "        balance_sheet_statement = fa.balance_sheet_statement(self.tick, self.api_key_fund, period='annual')\n",
    "\n",
    "        return balance_sheet_statement.T\n",
    "\n",
    "    def get_cash_flow_statement(self):   \n",
    "        ''' получаем df с cash_flow_statement\n",
    "        '''    \n",
    "        cash_flow_statement = fa.cash_flow_statement(self.tick, self.api_key_fund, period='annual')\n",
    "        return cash_flow_statement.T\n",
    "\n",
    "    def get_financial_ratios(self):    \n",
    "        ''' получаем df с financial_ratios\n",
    "        '''\n",
    "        financial_ratios = fa.financial_ratios(self.tick, self.api_key_fund, period='annual')\n",
    "        return financial_ratios.T\n",
    "\n",
    "    def get_financial_statement_growth(self):\n",
    "        ''' получаем df с financial_statement_growth\n",
    "        ''' \n",
    "        financial_statement_growth = fa.financial_statement_growth(self.tick, self.api_key_fund, period='annual')\n",
    "        return financial_statement_growth.T\n",
    "    \n",
    "    \n",
    "    def all_metrics(self):\n",
    "        ''' конкатенация метрик со всех полученных таблиц со значениями\n",
    "        '''\n",
    "        df_km = self.get_key_metr()\n",
    "        df_is = self.get_income_statement()\n",
    "        df_bss = self.get_balance_sheet_statement()\n",
    "        df_cfs = self.get_cash_flow_statement()\n",
    "        df_fr = self.get_financial_ratios()\n",
    "        df_fsg = self.get_financial_statement_growth()\n",
    "        \n",
    "        df_all_fa_columns = pd.concat([df_km,\n",
    "                                       df_is,\n",
    "                                       df_bss,\n",
    "                                       df_cfs,\n",
    "                                       df_fr,\n",
    "                                       df_fsg\n",
    "                                       ], axis=1)\n",
    "        \n",
    "        ''' убраем дубликаты колонок '''\n",
    "        df_all_fa_columns = df_all_fa_columns.loc[:,~pd.concat([df_km,\n",
    "                                                                df_is,\n",
    "                                                                df_bss,\n",
    "                                                                df_cfs,\n",
    "                                                                df_fr,\n",
    "                                                                df_fsg\n",
    "                                                                ], axis=1).columns.duplicated()]\n",
    "        \n",
    "        \n",
    "        ''' удаляются не используемые колонки '''\n",
    "        df_all_fa_columns = df_all_fa_columns.drop(['period', 'reportedCurrency', 'cik', 'fillingDate', 'calendarYear', 'link', 'finalLink'], axis=1)        \n",
    "        \n",
    "        return df_all_fa_columns\n",
    "\n",
    "\n",
    "        \n",
    "    \n",
    "    \n",
    "        \n",
    "    \n",
    "        \n",
    "    "
   ]
  },
  {
   "cell_type": "code",
   "execution_count": 59,
   "id": "11e161e8-d2f8-4949-8383-08a2540271ec",
   "metadata": {},
   "outputs": [],
   "source": [
    "x = Fund_ticker(tick, stime, ftime, api_key).all_metrics()"
   ]
  },
  {
   "cell_type": "code",
   "execution_count": 60,
   "id": "54926435-5f3e-483a-80cb-00bf82d3e29a",
   "metadata": {},
   "outputs": [
    {
     "data": {
      "text/plain": [
       "(38, 234)"
      ]
     },
     "execution_count": 60,
     "metadata": {},
     "output_type": "execute_result"
    }
   ],
   "source": [
    "x.shape"
   ]
  },
  {
   "cell_type": "code",
   "execution_count": null,
   "id": "29fe36ad-38f5-46ba-b203-5adbcfb1a357",
   "metadata": {},
   "outputs": [],
   "source": []
  }
 ],
 "metadata": {
  "kernelspec": {
   "display_name": "Python 3 (ipykernel)",
   "language": "python",
   "name": "python3"
  },
  "language_info": {
   "codemirror_mode": {
    "name": "ipython",
    "version": 3
   },
   "file_extension": ".py",
   "mimetype": "text/x-python",
   "name": "python",
   "nbconvert_exporter": "python",
   "pygments_lexer": "ipython3",
   "version": "3.11.0"
  }
 },
 "nbformat": 4,
 "nbformat_minor": 5
}
