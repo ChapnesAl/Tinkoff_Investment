{
 "cells": [
  {
   "cell_type": "code",
   "execution_count": 1,
   "id": "a4d028c3-4bf5-4cdc-a3f8-e4cab7565890",
   "metadata": {},
   "outputs": [],
   "source": [
    "import pandas as pd\n",
    "import yfinance as yf\n",
    "import seaborn as sns\n",
    "import matplotlib.pyplot as plt\n",
    "import matplotlib.ticker as ticker\n",
    "\n",
    "\n",
    "%matplotlib inline  "
   ]
  },
  {
   "cell_type": "code",
   "execution_count": 2,
   "id": "a9ce8d4f-03f5-4041-b7d4-f0db39b960da",
   "metadata": {},
   "outputs": [],
   "source": [
    "pd.set_option('display.max_rows', 100)\n",
    "pd.set_option('display.max_columns', 50)\n",
    "pd.set_option('display.width', 1000)"
   ]
  },
  {
   "cell_type": "code",
   "execution_count": 10,
   "id": "14dc6f58-1538-461d-adaa-4dcbe5a17306",
   "metadata": {},
   "outputs": [],
   "source": [
    "y_tick = yf.Ticker('AAPL').info"
   ]
  },
  {
   "cell_type": "code",
   "execution_count": 13,
   "id": "ba8ae2e4-0a7b-483c-8525-2eee0a69fcfb",
   "metadata": {},
   "outputs": [],
   "source": [
    "d_tick = yf.Ticker('AAPL').dividends"
   ]
  },
  {
   "cell_type": "code",
   "execution_count": 14,
   "id": "492a3008-4bf8-4960-b848-48775a558a97",
   "metadata": {},
   "outputs": [
    {
     "data": {
      "text/plain": [
       "Date\n",
       "1987-05-11    0.000536\n",
       "1987-08-10    0.000536\n",
       "1987-11-17    0.000714\n",
       "1988-02-12    0.000714\n",
       "1988-05-16    0.000714\n",
       "1988-08-15    0.000714\n",
       "1988-11-21    0.000893\n",
       "1989-02-17    0.000893\n",
       "1989-05-22    0.000893\n",
       "1989-08-21    0.000893\n",
       "1989-11-17    0.000982\n",
       "1990-02-16    0.000982\n",
       "1990-05-21    0.000982\n",
       "1990-08-20    0.000982\n",
       "1990-11-16    0.001071\n",
       "1991-02-15    0.001071\n",
       "1991-05-20    0.001071\n",
       "1991-08-19    0.001071\n",
       "1991-11-18    0.001071\n",
       "1992-02-14    0.001071\n",
       "1992-06-01    0.001071\n",
       "1992-08-17    0.001071\n",
       "1992-11-30    0.001071\n",
       "1993-02-12    0.001071\n",
       "1993-05-28    0.001071\n",
       "1993-08-16    0.001071\n",
       "1993-11-19    0.001071\n",
       "1994-02-07    0.001071\n",
       "1994-05-27    0.001071\n",
       "1994-08-15    0.001071\n",
       "1994-11-18    0.001071\n",
       "1995-02-13    0.001071\n",
       "1995-05-26    0.001071\n",
       "1995-08-16    0.001071\n",
       "1995-11-21    0.001071\n",
       "2012-08-09    0.094643\n",
       "2012-11-07    0.094643\n",
       "2013-02-07    0.094643\n",
       "2013-05-09    0.108929\n",
       "2013-08-08    0.108929\n",
       "2013-11-06    0.108929\n",
       "2014-02-06    0.108929\n",
       "2014-05-08    0.117500\n",
       "2014-08-07    0.117500\n",
       "2014-11-06    0.117500\n",
       "2015-02-05    0.117500\n",
       "2015-05-07    0.130000\n",
       "2015-08-06    0.130000\n",
       "2015-11-05    0.130000\n",
       "2016-02-04    0.130000\n",
       "2016-05-05    0.142500\n",
       "2016-08-04    0.142500\n",
       "2016-11-03    0.142500\n",
       "2017-02-09    0.142500\n",
       "2017-05-11    0.157500\n",
       "2017-08-10    0.157500\n",
       "2017-11-10    0.157500\n",
       "2018-02-09    0.157500\n",
       "2018-05-11    0.182500\n",
       "2018-08-10    0.182500\n",
       "2018-11-08    0.182500\n",
       "2019-02-08    0.182500\n",
       "2019-05-10    0.192500\n",
       "2019-08-09    0.192500\n",
       "2019-11-07    0.192500\n",
       "2020-02-07    0.192500\n",
       "2020-05-08    0.205000\n",
       "2020-08-07    0.205000\n",
       "2020-11-06    0.205000\n",
       "2021-02-05    0.205000\n",
       "2021-05-07    0.220000\n",
       "2021-08-06    0.220000\n",
       "2021-11-05    0.220000\n",
       "2022-02-04    0.220000\n",
       "2022-05-06    0.230000\n",
       "2022-08-05    0.230000\n",
       "2022-11-04    0.230000\n",
       "Name: Dividends, dtype: float64"
      ]
     },
     "execution_count": 14,
     "metadata": {},
     "output_type": "execute_result"
    }
   ],
   "source": [
    "d_tick"
   ]
  },
  {
   "cell_type": "code",
   "execution_count": null,
   "id": "7a96367b-95c6-44e6-8fe6-28b5d8fefa16",
   "metadata": {},
   "outputs": [],
   "source": []
  }
 ],
 "metadata": {
  "kernelspec": {
   "display_name": "Python 3 (ipykernel)",
   "language": "python",
   "name": "python3"
  },
  "language_info": {
   "codemirror_mode": {
    "name": "ipython",
    "version": 3
   },
   "file_extension": ".py",
   "mimetype": "text/x-python",
   "name": "python",
   "nbconvert_exporter": "python",
   "pygments_lexer": "ipython3",
   "version": "3.10.4"
  }
 },
 "nbformat": 4,
 "nbformat_minor": 5
}
