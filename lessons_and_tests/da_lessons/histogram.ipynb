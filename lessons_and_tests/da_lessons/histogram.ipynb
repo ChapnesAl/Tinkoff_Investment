{
 "cells": [
  {
   "cell_type": "code",
   "execution_count": 58,
   "id": "3dda8de4-03a5-49c3-a497-e87384f2f53c",
   "metadata": {},
   "outputs": [],
   "source": [
    "import numpy as np\n",
    "import pandas as pd\n",
    "import yfinance as yf\n",
    "\n",
    "import matplotlib.pyplot as plt\n",
    "\n",
    "\n",
    "%matplotlib inline  "
   ]
  },
  {
   "cell_type": "code",
   "execution_count": 16,
   "id": "b259a308-6be5-4c30-b3ba-47555d441e80",
   "metadata": {},
   "outputs": [],
   "source": [
    "pd.set_option('display.max_rows', 1000)\n",
    "pd.set_option('display.max_columns', 500)\n",
    "pd.set_option('display.width', 1000)"
   ]
  },
  {
   "cell_type": "code",
   "execution_count": 17,
   "id": "484ebd89-db25-411b-af69-ad23ffd13788",
   "metadata": {},
   "outputs": [],
   "source": [
    "market_ticker = '^GSPC'\n",
    "stock_ticker = 'acn'\n",
    "\n",
    "stime='2022-01-01'\n",
    "ftime=None"
   ]
  },
  {
   "cell_type": "code",
   "execution_count": 21,
   "id": "f616c355-f0c3-43a8-9796-d071c9ed0f52",
   "metadata": {},
   "outputs": [
    {
     "data": {
      "text/html": [
       "<div>\n",
       "<style scoped>\n",
       "    .dataframe tbody tr th:only-of-type {\n",
       "        vertical-align: middle;\n",
       "    }\n",
       "\n",
       "    .dataframe tbody tr th {\n",
       "        vertical-align: top;\n",
       "    }\n",
       "\n",
       "    .dataframe thead th {\n",
       "        text-align: right;\n",
       "    }\n",
       "</style>\n",
       "<table border=\"1\" class=\"dataframe\">\n",
       "  <thead>\n",
       "    <tr style=\"text-align: right;\">\n",
       "      <th></th>\n",
       "      <th>^GSPC</th>\n",
       "      <th>acn</th>\n",
       "    </tr>\n",
       "    <tr>\n",
       "      <th>Date</th>\n",
       "      <th></th>\n",
       "      <th></th>\n",
       "    </tr>\n",
       "  </thead>\n",
       "  <tbody>\n",
       "    <tr>\n",
       "      <th>2021-12-31</th>\n",
       "      <td>4766.180176</td>\n",
       "      <td>408.970642</td>\n",
       "    </tr>\n",
       "    <tr>\n",
       "      <th>2022-01-03</th>\n",
       "      <td>4796.560059</td>\n",
       "      <td>401.729431</td>\n",
       "    </tr>\n",
       "    <tr>\n",
       "      <th>2022-01-04</th>\n",
       "      <td>4793.540039</td>\n",
       "      <td>398.858551</td>\n",
       "    </tr>\n",
       "  </tbody>\n",
       "</table>\n",
       "</div>"
      ],
      "text/plain": [
       "                  ^GSPC         acn\n",
       "Date                               \n",
       "2021-12-31  4766.180176  408.970642\n",
       "2022-01-03  4796.560059  401.729431\n",
       "2022-01-04  4793.540039  398.858551"
      ]
     },
     "execution_count": 21,
     "metadata": {},
     "output_type": "execute_result"
    }
   ],
   "source": [
    "def get_data_from_ticker(tick, stime, ftime, interval='1d'):\n",
    "    ticker = yf.Ticker(tick)\n",
    "    # df = ticker.history(start='2021-01-01', end='2022-06-30')\n",
    "    # df = ticker.history(start='2021-01-01', end='2022-07-26')\n",
    "    # df = ticker.history(start='2020-01-01', end='2021-01-01')\n",
    "    # df = ticker.history(start='2022-05-28')\n",
    "    df = ticker.history(start=stime, end=ftime, interval=interval)\n",
    "    x = pd.DataFrame(df)\n",
    "    x.rename(columns={\"Close\": tick}, inplace=True)\n",
    "    z = x.drop(columns=[\"Open\", \"High\", \"Low\", \"Volume\", \"Dividends\", \"Stock Splits\"])\n",
    "    return z\n",
    "\n",
    "gf = pd.DataFrame(get_data_from_ticker(market_ticker, stime, ftime))\n",
    "sf = pd.DataFrame(get_data_from_ticker(stock_ticker, stime, ftime))\n",
    "gf[stock_ticker] = sf[stock_ticker]\n",
    "\n",
    "\n",
    "gf.head(3)"
   ]
  },
  {
   "cell_type": "code",
   "execution_count": 23,
   "id": "fb55cff4-2c6f-4b4d-b948-ff28eac620ef",
   "metadata": {},
   "outputs": [
    {
     "data": {
      "text/html": [
       "<div>\n",
       "<style scoped>\n",
       "    .dataframe tbody tr th:only-of-type {\n",
       "        vertical-align: middle;\n",
       "    }\n",
       "\n",
       "    .dataframe tbody tr th {\n",
       "        vertical-align: top;\n",
       "    }\n",
       "\n",
       "    .dataframe thead th {\n",
       "        text-align: right;\n",
       "    }\n",
       "</style>\n",
       "<table border=\"1\" class=\"dataframe\">\n",
       "  <thead>\n",
       "    <tr style=\"text-align: right;\">\n",
       "      <th></th>\n",
       "      <th>^GSPC</th>\n",
       "      <th>acn</th>\n",
       "      <th>% update ^GSPC</th>\n",
       "    </tr>\n",
       "    <tr>\n",
       "      <th>Date</th>\n",
       "      <th></th>\n",
       "      <th></th>\n",
       "      <th></th>\n",
       "    </tr>\n",
       "  </thead>\n",
       "  <tbody>\n",
       "    <tr>\n",
       "      <th>2021-12-31</th>\n",
       "      <td>4766.180176</td>\n",
       "      <td>408.970642</td>\n",
       "      <td>0.000000</td>\n",
       "    </tr>\n",
       "    <tr>\n",
       "      <th>2022-01-03</th>\n",
       "      <td>4796.560059</td>\n",
       "      <td>401.729431</td>\n",
       "      <td>0.637405</td>\n",
       "    </tr>\n",
       "    <tr>\n",
       "      <th>2022-01-04</th>\n",
       "      <td>4793.540039</td>\n",
       "      <td>398.858551</td>\n",
       "      <td>-0.062962</td>\n",
       "    </tr>\n",
       "  </tbody>\n",
       "</table>\n",
       "</div>"
      ],
      "text/plain": [
       "                  ^GSPC         acn  % update ^GSPC\n",
       "Date                                               \n",
       "2021-12-31  4766.180176  408.970642        0.000000\n",
       "2022-01-03  4796.560059  401.729431        0.637405\n",
       "2022-01-04  4793.540039  398.858551       -0.062962"
      ]
     },
     "execution_count": 23,
     "metadata": {},
     "output_type": "execute_result"
    }
   ],
   "source": [
    "def add_percent_update(tick):\n",
    "    \"\"\" date stock's or market's update\"\"\"\n",
    "    gf_copy = gf.copy(deep=True)\n",
    "    gf_copy = pd.DataFrame(gf_copy.drop(gf.index[0]))\n",
    "    gf_copy_v = gf_copy[tick].values\n",
    "    gf_v = gf.copy(deep=True)\n",
    "    gf_vv = gf_v[tick].values\n",
    "\n",
    "    for i in range(len(gf_copy)):\n",
    "        gf_vv[i] = (gf_copy_v[i] - gf_vv[i]) / (gf_vv[i] / 100)\n",
    "\n",
    "    gf_vv = numpy.insert(gf_vv, 0, 0)\n",
    "    gf_vv = numpy.delete(gf_vv, -1)\n",
    "    return gf_vv\n",
    "\n",
    "gf[f\"% update {market_ticker}\"] = add_percent_update(market_ticker)\n",
    "\n",
    "gf.head(3)"
   ]
  },
  {
   "cell_type": "code",
   "execution_count": 61,
   "id": "3b0285ec-35e6-433a-bf08-6e4f992a5d6e",
   "metadata": {},
   "outputs": [
    {
     "data": {
      "text/plain": [
       "(array([ 1.,  2.,  1.,  2.,  2.,  2.,  3.,  4.,  3.,  5.,  9.,  7., 10.,\n",
       "        14., 23., 15., 18., 18., 15., 12.,  8., 11.,  8., 12.,  5.,  7.,\n",
       "         4.,  8.,  5.,  3.,  1.,  0.,  0.,  0.,  0.,  0.,  0.,  0.,  0.,\n",
       "         1.]),\n",
       " array([-4.32366134, -4.0769836 , -3.83030585, -3.58362811, -3.33695036,\n",
       "        -3.09027262, -2.84359487, -2.59691713, -2.35023938, -2.10356164,\n",
       "        -1.8568839 , -1.61020615, -1.36352841, -1.11685066, -0.87017292,\n",
       "        -0.62349517, -0.37681743, -0.13013969,  0.11653806,  0.3632158 ,\n",
       "         0.60989355,  0.85657129,  1.10324904,  1.34992678,  1.59660453,\n",
       "         1.84328227,  2.08996001,  2.33663776,  2.5833155 ,  2.82999325,\n",
       "         3.07667099,  3.32334874,  3.57002648,  3.81670423,  4.06338197,\n",
       "         4.31005971,  4.55673746,  4.8034152 ,  5.05009295,  5.29677069,\n",
       "         5.54344844]),\n",
       " <BarContainer object of 40 artists>)"
      ]
     },
     "execution_count": 61,
     "metadata": {},
     "output_type": "execute_result"
    },
    {
     "data": {
      "image/png": "[encoded data removed]",
      "text/plain": [
       "<Figure size 640x480 with 1 Axes>"
      ]
     },
     "metadata": {},
     "output_type": "display_data"
    }
   ],
   "source": [
    "plt.hist(list(gf['% update ^GSPC'].values), bins=40, edgecolor='black')"
   ]
  }
 ],
 "metadata": {
  "kernelspec": {
   "display_name": "Python 3 (ipykernel)",
   "language": "python",
   "name": "python3"
  },
  "language_info": {
   "codemirror_mode": {
    "name": "ipython",
    "version": 3
   },
   "file_extension": ".py",
   "mimetype": "text/x-python",
   "name": "python",
   "nbconvert_exporter": "python",
   "pygments_lexer": "ipython3",
   "version": "3.10.4"
  }
 },
 "nbformat": 4,
 "nbformat_minor": 5
}
