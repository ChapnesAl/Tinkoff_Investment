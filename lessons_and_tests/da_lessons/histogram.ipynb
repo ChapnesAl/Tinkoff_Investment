{
 "cells": [
  {
   "cell_type": "code",
   "execution_count": 14,
   "id": "3dda8de4-03a5-49c3-a497-e87384f2f53c",
   "metadata": {},
   "outputs": [],
   "source": [
    "import numpy as np\n",
    "import pandas as pd\n",
    "import yfinance as yf\n",
    "from math import sqrt\n",
    "import seaborn as sns\n",
    "import matplotlib.pyplot as plt\n",
    "import matplotlib.ticker as ticker\n",
    "\n",
    "\n",
    "%matplotlib inline  "
   ]
  },
  {
   "cell_type": "code",
   "execution_count": 3,
   "id": "b259a308-6be5-4c30-b3ba-47555d441e80",
   "metadata": {},
   "outputs": [],
   "source": [
    "pd.set_option('display.max_rows', 1000)\n",
    "pd.set_option('display.max_columns', 500)\n",
    "pd.set_option('display.width', 1000)"
   ]
  },
  {
   "cell_type": "code",
   "execution_count": 4,
   "id": "484ebd89-db25-411b-af69-ad23ffd13788",
   "metadata": {},
   "outputs": [],
   "source": [
    "market_ticker = '^GSPC'\n",
    "stock_ticker = 'acn'\n",
    "\n",
    "stime='2022-01-01'\n",
    "ftime=None"
   ]
  },
  {
   "cell_type": "code",
   "execution_count": 5,
   "id": "f616c355-f0c3-43a8-9796-d071c9ed0f52",
   "metadata": {},
   "outputs": [
    {
     "data": {
      "text/html": [
       "<div>\n",
       "<style scoped>\n",
       "    .dataframe tbody tr th:only-of-type {\n",
       "        vertical-align: middle;\n",
       "    }\n",
       "\n",
       "    .dataframe tbody tr th {\n",
       "        vertical-align: top;\n",
       "    }\n",
       "\n",
       "    .dataframe thead th {\n",
       "        text-align: right;\n",
       "    }\n",
       "</style>\n",
       "<table border=\"1\" class=\"dataframe\">\n",
       "  <thead>\n",
       "    <tr style=\"text-align: right;\">\n",
       "      <th></th>\n",
       "      <th>^GSPC</th>\n",
       "      <th>acn</th>\n",
       "    </tr>\n",
       "    <tr>\n",
       "      <th>Date</th>\n",
       "      <th></th>\n",
       "      <th></th>\n",
       "    </tr>\n",
       "  </thead>\n",
       "  <tbody>\n",
       "    <tr>\n",
       "      <th>2021-12-31</th>\n",
       "      <td>4766.180176</td>\n",
       "      <td>408.970612</td>\n",
       "    </tr>\n",
       "    <tr>\n",
       "      <th>2022-01-03</th>\n",
       "      <td>4796.560059</td>\n",
       "      <td>401.729431</td>\n",
       "    </tr>\n",
       "    <tr>\n",
       "      <th>2022-01-04</th>\n",
       "      <td>4793.540039</td>\n",
       "      <td>398.858582</td>\n",
       "    </tr>\n",
       "  </tbody>\n",
       "</table>\n",
       "</div>"
      ],
      "text/plain": [
       "                  ^GSPC         acn\n",
       "Date                               \n",
       "2021-12-31  4766.180176  408.970612\n",
       "2022-01-03  4796.560059  401.729431\n",
       "2022-01-04  4793.540039  398.858582"
      ]
     },
     "execution_count": 5,
     "metadata": {},
     "output_type": "execute_result"
    }
   ],
   "source": [
    "def get_data_from_ticker(tick, stime, ftime, interval='1d'):\n",
    "    ticker = yf.Ticker(tick)\n",
    "    # df = ticker.history(start='2021-01-01', end='2022-06-30')\n",
    "    # df = ticker.history(start='2021-01-01', end='2022-07-26')\n",
    "    # df = ticker.history(start='2020-01-01', end='2021-01-01')\n",
    "    # df = ticker.history(start='2022-05-28')\n",
    "    df = ticker.history(start=stime, end=ftime, interval=interval)\n",
    "    x = pd.DataFrame(df)\n",
    "    x.rename(columns={\"Close\": tick}, inplace=True)\n",
    "    z = x.drop(columns=[\"Open\", \"High\", \"Low\", \"Volume\", \"Dividends\", \"Stock Splits\"])\n",
    "    return z\n",
    "\n",
    "gf = pd.DataFrame(get_data_from_ticker(market_ticker, stime, ftime))\n",
    "sf = pd.DataFrame(get_data_from_ticker(stock_ticker, stime, ftime))\n",
    "gf[stock_ticker] = sf[stock_ticker]\n",
    "\n",
    "\n",
    "gf.head(3)"
   ]
  },
  {
   "cell_type": "code",
   "execution_count": 6,
   "id": "fb55cff4-2c6f-4b4d-b948-ff28eac620ef",
   "metadata": {},
   "outputs": [
    {
     "data": {
      "text/html": [
       "<div>\n",
       "<style scoped>\n",
       "    .dataframe tbody tr th:only-of-type {\n",
       "        vertical-align: middle;\n",
       "    }\n",
       "\n",
       "    .dataframe tbody tr th {\n",
       "        vertical-align: top;\n",
       "    }\n",
       "\n",
       "    .dataframe thead th {\n",
       "        text-align: right;\n",
       "    }\n",
       "</style>\n",
       "<table border=\"1\" class=\"dataframe\">\n",
       "  <thead>\n",
       "    <tr style=\"text-align: right;\">\n",
       "      <th></th>\n",
       "      <th>^GSPC</th>\n",
       "      <th>acn</th>\n",
       "      <th>% update ^GSPC</th>\n",
       "      <th>% update acn</th>\n",
       "    </tr>\n",
       "    <tr>\n",
       "      <th>Date</th>\n",
       "      <th></th>\n",
       "      <th></th>\n",
       "      <th></th>\n",
       "      <th></th>\n",
       "    </tr>\n",
       "  </thead>\n",
       "  <tbody>\n",
       "    <tr>\n",
       "      <th>2021-12-31</th>\n",
       "      <td>4766.180176</td>\n",
       "      <td>408.970612</td>\n",
       "      <td>0.000000</td>\n",
       "      <td>0.000000</td>\n",
       "    </tr>\n",
       "    <tr>\n",
       "      <th>2022-01-03</th>\n",
       "      <td>4796.560059</td>\n",
       "      <td>401.729431</td>\n",
       "      <td>0.637405</td>\n",
       "      <td>-1.770587</td>\n",
       "    </tr>\n",
       "    <tr>\n",
       "      <th>2022-01-04</th>\n",
       "      <td>4793.540039</td>\n",
       "      <td>398.858582</td>\n",
       "      <td>-0.062962</td>\n",
       "      <td>-0.714623</td>\n",
       "    </tr>\n",
       "  </tbody>\n",
       "</table>\n",
       "</div>"
      ],
      "text/plain": [
       "                  ^GSPC         acn  % update ^GSPC  % update acn\n",
       "Date                                                             \n",
       "2021-12-31  4766.180176  408.970612        0.000000      0.000000\n",
       "2022-01-03  4796.560059  401.729431        0.637405     -1.770587\n",
       "2022-01-04  4793.540039  398.858582       -0.062962     -0.714623"
      ]
     },
     "execution_count": 6,
     "metadata": {},
     "output_type": "execute_result"
    }
   ],
   "source": [
    "def add_percent_update(tick):\n",
    "    \"\"\" date stock's or market's update\"\"\"\n",
    "    gf_copy = gf.copy(deep=True)\n",
    "    gf_copy = pd.DataFrame(gf_copy.drop(gf.index[0]))\n",
    "    gf_copy_v = gf_copy[tick].values\n",
    "    gf_v = gf.copy(deep=True)\n",
    "    gf_vv = gf_v[tick].values\n",
    "\n",
    "    for i in range(len(gf_copy)):\n",
    "        gf_vv[i] = (gf_copy_v[i] - gf_vv[i]) / (gf_vv[i] / 100)\n",
    "\n",
    "    gf_vv = np.insert(gf_vv, 0, 0)\n",
    "    gf_vv = np.delete(gf_vv, -1)\n",
    "    return gf_vv\n",
    "\n",
    "gf[f\"% update {market_ticker}\"] = add_percent_update(market_ticker)\n",
    "gf[f\"% update {stock_ticker}\"] = add_percent_update(stock_ticker)\n",
    "\n",
    "gf.head(3)"
   ]
  },
  {
   "cell_type": "code",
   "execution_count": 7,
   "id": "3b0285ec-35e6-433a-bf08-6e4f992a5d6e",
   "metadata": {
    "tags": []
   },
   "outputs": [
    {
     "data": {
      "text/plain": [
       "(array([ 1.,  1.,  1.,  0.,  2.,  1.,  2.,  0.,  2.,  3.,  0.,  4.,  0.,\n",
       "         4.,  4.,  6.,  6.,  4.,  6.,  9.,  9., 17.,  9., 12., 10., 19.,\n",
       "         7.,  8.,  9., 10.,  7.,  5.,  8.,  8.,  5.,  8.,  3.,  6.,  3.,\n",
       "         4.,  2.,  6.,  4.,  1.,  3.,  1.,  0.,  0.,  0.,  0.,  0.,  0.,\n",
       "         0.,  0.,  0.,  0.,  0.,  0.,  0.,  1.]),\n",
       " array([-4.32366134, -4.15920951, -3.99475768, -3.83030585, -3.66585402,\n",
       "        -3.50140219, -3.33695036, -3.17249853, -3.0080467 , -2.84359487,\n",
       "        -2.67914304, -2.51469121, -2.35023938, -2.18578756, -2.02133573,\n",
       "        -1.8568839 , -1.69243207, -1.52798024, -1.36352841, -1.19907658,\n",
       "        -1.03462475, -0.87017292, -0.70572109, -0.54126926, -0.37681743,\n",
       "        -0.2123656 , -0.04791377,  0.11653806,  0.28098989,  0.44544172,\n",
       "         0.60989355,  0.77434538,  0.93879721,  1.10324904,  1.26770087,\n",
       "         1.4321527 ,  1.59660453,  1.76105636,  1.92550818,  2.08996001,\n",
       "         2.25441184,  2.41886367,  2.5833155 ,  2.74776733,  2.91221916,\n",
       "         3.07667099,  3.24112282,  3.40557465,  3.57002648,  3.73447831,\n",
       "         3.89893014,  4.06338197,  4.2278338 ,  4.39228563,  4.55673746,\n",
       "         4.72118929,  4.88564112,  5.05009295,  5.21454478,  5.37899661,\n",
       "         5.54344844]),\n",
       " <BarContainer object of 60 artists>)"
      ]
     },
     "execution_count": 7,
     "metadata": {},
     "output_type": "execute_result"
    },
    {
     "data": {
      "image/png": "[encoded data removed]",
      "text/plain": [
       "<Figure size 640x480 with 1 Axes>"
      ]
     },
     "metadata": {},
     "output_type": "display_data"
    }
   ],
   "source": [
    "plt.hist(list(gf['% update ^GSPC'].values), bins=60, edgecolor='black')"
   ]
  },
  {
   "cell_type": "code",
   "execution_count": 8,
   "id": "241ecce4-7b6b-4a93-a0e6-bdb4b60e09fa",
   "metadata": {
    "tags": []
   },
   "outputs": [
    {
     "data": {
      "text/plain": [
       "(array([ 2.,  0.,  0.,  1.,  1.,  1.,  2.,  1.,  2.,  5.,  1.,  4.,  2.,\n",
       "         1.,  3.,  4.,  3., 12.,  5., 14.,  7., 15., 10., 11., 13., 17.,\n",
       "        10.,  7., 10.,  8., 14.,  6.,  3.,  4.,  9.,  7.,  1.,  4.,  5.,\n",
       "         5.,  1.,  2.,  1.,  0.,  4.,  1.,  1.,  0.,  0.,  0.,  0.,  0.,\n",
       "         0.,  0.,  0.,  0.,  0.,  0.,  0.,  1.]),\n",
       " array([-5.80959488, -5.58403396, -5.35847304, -5.13291212, -4.9073512 ,\n",
       "        -4.68179028, -4.45622936, -4.23066844, -4.00510752, -3.7795466 ,\n",
       "        -3.55398568, -3.32842476, -3.10286384, -2.87730292, -2.651742  ,\n",
       "        -2.42618107, -2.20062015, -1.97505923, -1.74949831, -1.52393739,\n",
       "        -1.29837647, -1.07281555, -0.84725463, -0.62169371, -0.39613279,\n",
       "        -0.17057187,  0.05498905,  0.28054997,  0.50611089,  0.73167181,\n",
       "         0.95723273,  1.18279365,  1.40835457,  1.63391549,  1.85947641,\n",
       "         2.08503733,  2.31059825,  2.53615917,  2.7617201 ,  2.98728102,\n",
       "         3.21284194,  3.43840286,  3.66396378,  3.8895247 ,  4.11508562,\n",
       "         4.34064654,  4.56620746,  4.79176838,  5.0173293 ,  5.24289022,\n",
       "         5.46845114,  5.69401206,  5.91957298,  6.1451339 ,  6.37069482,\n",
       "         6.59625574,  6.82181666,  7.04737758,  7.2729385 ,  7.49849942,\n",
       "         7.72406035]),\n",
       " <BarContainer object of 60 artists>)"
      ]
     },
     "execution_count": 8,
     "metadata": {},
     "output_type": "execute_result"
    },
    {
     "data": {
      "image/png": "[encoded data removed]",
      "text/plain": [
       "<Figure size 640x480 with 1 Axes>"
      ]
     },
     "metadata": {},
     "output_type": "display_data"
    }
   ],
   "source": [
    "plt.hist(list(gf['% update acn'].values), bins=60, edgecolor='black')"
   ]
  },
  {
   "cell_type": "markdown",
   "id": "917c89d6-9cd8-4634-8255-cb9b4deea1da",
   "metadata": {},
   "source": [
    "математическое ожидание"
   ]
  },
  {
   "cell_type": "code",
   "execution_count": 9,
   "id": "4f4d8869-8591-4132-a277-e93f459ce4a5",
   "metadata": {},
   "outputs": [
    {
     "data": {
      "text/plain": [
       "-0.056908853785472044"
      ]
     },
     "execution_count": 9,
     "metadata": {},
     "output_type": "execute_result"
    }
   ],
   "source": [
    "# %time snp_mat_expectation = gf['% update ^GSPC'].sum() / gf['% update ^GSPC'].value_counts().sum()\n",
    "# %time snp_mat_expectation = np.average(gf['% update ^GSPC'])\n",
    "snp_mat_expectation = gf['% update ^GSPC'].mean()\n",
    "snp_mat_expectation"
   ]
  },
  {
   "cell_type": "markdown",
   "id": "0a259e86-9748-4ebc-80a6-17f7b826ef51",
   "metadata": {},
   "source": [
    "стандартное отклонение"
   ]
  },
  {
   "cell_type": "code",
   "execution_count": 10,
   "id": "af90e66c-9ce6-4071-98d6-0deab6d724a6",
   "metadata": {},
   "outputs": [
    {
     "data": {
      "text/plain": [
       "1.5310413975343369"
      ]
     },
     "execution_count": 10,
     "metadata": {},
     "output_type": "execute_result"
    }
   ],
   "source": [
    "snp_standart_deviation = gf['% update ^GSPC'].std()\n",
    "snp_standart_deviation"
   ]
  },
  {
   "cell_type": "code",
   "execution_count": 11,
   "id": "5d73fd2c-f90b-4586-937d-6976648cd256",
   "metadata": {},
   "outputs": [
    {
     "data": {
      "text/plain": [
       "2.0497138372924018"
      ]
     },
     "execution_count": 11,
     "metadata": {},
     "output_type": "execute_result"
    }
   ],
   "source": [
    "snp_standart_deviation = gf['% update acn'].std()\n",
    "snp_standart_deviation"
   ]
  },
  {
   "cell_type": "code",
   "execution_count": 16,
   "id": "5e574a5c-83a6-4a42-949e-99ae8a0f96f8",
   "metadata": {},
   "outputs": [
    {
     "data": {
      "text/plain": [
       "[0.03717002941731087,\n",
       " 0.45349140003704747,\n",
       " -0.003953741505831299,\n",
       " -1.2294683398598472,\n",
       " -0.025778563465924727]"
      ]
     },
     "execution_count": 16,
     "metadata": {},
     "output_type": "execute_result"
    }
   ],
   "source": [
    "mu_z = gf['% update ^GSPC'].mean()\n",
    "# se_z = gf['% update ^GSPC'].std() / sqrt(gf['% update ^GSPC'].value_counts().sum())\n",
    "se_z = gf['% update ^GSPC'].std() \n",
    "z_values_snp = [(x - mu_z) / se_z for x in gf['% update ^GSPC']]\n",
    "\n",
    "z_values_snp[:5]"
   ]
  },
  {
   "cell_type": "code",
   "execution_count": 17,
   "id": "3bc66273-91fa-4a5c-8e1f-da527f835fdb",
   "metadata": {},
   "outputs": [
    {
     "data": {
      "text/plain": [
       "Text(0.5, 1.0, 'Преобразованное в Z-шкалу')"
      ]
     },
     "execution_count": 17,
     "metadata": {},
     "output_type": "execute_result"
    },
    {
     "data": {
      "image/png": "[encoded data removed]",
      "text/plain": [
       "<Figure size 1500x700 with 2 Axes>"
      ]
     },
     "metadata": {},
     "output_type": "display_data"
    }
   ],
   "source": [
    "fig, axes = plt.subplots(nrows=1, ncols=2, figsize = (15, 7))\n",
    "\n",
    "sns.histplot(data=list(gf['% update ^GSPC'].values), ax=axes[0])\n",
    "axes[0].set(xlabel='Вес рыбы', ylabel='Кол-во')\n",
    "axes[0].xaxis.set_major_locator(ticker.MultipleLocator(100))\n",
    "axes[0].set_title('Наше распределение', size=15)\n",
    "\n",
    "sns.histplot(data=z_values_snp, discrete=True, ax=axes[1])\n",
    "axes[1].set(xlabel='Вес рыбы', ylabel='Кол-во')\n",
    "axes[1].xaxis.set_major_locator(ticker.MultipleLocator(1))\n",
    "axes[1].set_title('Преобразованное в Z-шкалу', size=15)"
   ]
  },
  {
   "cell_type": "code",
   "execution_count": null,
   "id": "7dba79ec-014b-43f3-aa17-4aaf33233f08",
   "metadata": {},
   "outputs": [],
   "source": []
  }
 ],
 "metadata": {
  "kernelspec": {
   "display_name": "Python 3 (ipykernel)",
   "language": "python",
   "name": "python3"
  },
  "language_info": {
   "codemirror_mode": {
    "name": "ipython",
    "version": 3
   },
   "file_extension": ".py",
   "mimetype": "text/x-python",
   "name": "python",
   "nbconvert_exporter": "python",
   "pygments_lexer": "ipython3",
   "version": "3.10.4"
  }
 },
 "nbformat": 4,
 "nbformat_minor": 5
}
