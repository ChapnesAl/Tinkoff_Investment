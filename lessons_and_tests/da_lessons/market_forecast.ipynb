{
 "cells": [
  {
   "cell_type": "code",
   "execution_count": 1,
   "id": "bfcf66dd-5734-4db7-bce2-d6aa894fe15c",
   "metadata": {},
   "outputs": [],
   "source": [
    "import numpy as np\n",
    "import pandas as pd\n",
    "import yfinance as yf\n",
    "import matplotlib.pyplot as plt\n",
    "\n",
    "%matplotlib inline  "
   ]
  },
  {
   "cell_type": "code",
   "execution_count": 2,
   "id": "80c1ba9d-9583-40a9-bdf4-54930edd3cb6",
   "metadata": {},
   "outputs": [],
   "source": [
    "pd.set_option('display.max_rows', 1000)\n",
    "pd.set_option('display.max_columns', 500)\n",
    "pd.set_option('display.width', 1000)"
   ]
  },
  {
   "cell_type": "markdown",
   "id": "1e2ca8c3-a3eb-44d4-ba96-cecfce2d756b",
   "metadata": {},
   "source": [
    "Datas"
   ]
  },
  {
   "cell_type": "code",
   "execution_count": 4,
   "id": "329fa31f-683c-4bd5-8df1-43a499c3affe",
   "metadata": {},
   "outputs": [],
   "source": [
    "market_ticker = '^GSPC' #^GSPC\n",
    "st = 'f'\n",
    "\n",
    "stime='2016-01-01'\n",
    "ftime=None"
   ]
  },
  {
   "cell_type": "code",
   "execution_count": 5,
   "id": "c21e637f-d698-409e-bdf2-f6423d047af0",
   "metadata": {},
   "outputs": [
    {
     "data": {
      "text/html": [
       "<div>\n",
       "<style scoped>\n",
       "    .dataframe tbody tr th:only-of-type {\n",
       "        vertical-align: middle;\n",
       "    }\n",
       "\n",
       "    .dataframe tbody tr th {\n",
       "        vertical-align: top;\n",
       "    }\n",
       "\n",
       "    .dataframe thead th {\n",
       "        text-align: right;\n",
       "    }\n",
       "</style>\n",
       "<table border=\"1\" class=\"dataframe\">\n",
       "  <thead>\n",
       "    <tr style=\"text-align: right;\">\n",
       "      <th></th>\n",
       "      <th>^GSPC</th>\n",
       "    </tr>\n",
       "    <tr>\n",
       "      <th>Date</th>\n",
       "      <th></th>\n",
       "    </tr>\n",
       "  </thead>\n",
       "  <tbody>\n",
       "    <tr>\n",
       "      <th>2015-12-31</th>\n",
       "      <td>2043.939941</td>\n",
       "    </tr>\n",
       "    <tr>\n",
       "      <th>2016-01-04</th>\n",
       "      <td>2012.660034</td>\n",
       "    </tr>\n",
       "    <tr>\n",
       "      <th>2016-01-05</th>\n",
       "      <td>2016.709961</td>\n",
       "    </tr>\n",
       "  </tbody>\n",
       "</table>\n",
       "</div>"
      ],
      "text/plain": [
       "                  ^GSPC\n",
       "Date                   \n",
       "2015-12-31  2043.939941\n",
       "2016-01-04  2012.660034\n",
       "2016-01-05  2016.709961"
      ]
     },
     "execution_count": 5,
     "metadata": {},
     "output_type": "execute_result"
    }
   ],
   "source": [
    "def get_data_from_ticker(tick, stime, ftime, interval='1d'):\n",
    "    ticker = yf.Ticker(tick)\n",
    "\n",
    "    df = ticker.history(start=stime, end=ftime, interval=interval)\n",
    "    x = pd.DataFrame(df)\n",
    "    x.rename(columns={\"Close\": tick}, inplace=True)\n",
    "    z = x.drop(columns=[\"Open\", \"High\", \"Low\", \"Volume\", \"Dividends\", \"Stock Splits\"])\n",
    "    return z\n",
    "\n",
    "df = pd.DataFrame(get_data_from_ticker(market_ticker, stime, ftime))\n",
    "\n",
    "\n",
    "\n",
    "df.head(3)"
   ]
  },
  {
   "cell_type": "code",
   "execution_count": 6,
   "id": "6fe59e58-c23c-4e65-9fd2-bb0943958949",
   "metadata": {},
   "outputs": [
    {
     "data": {
      "text/html": [
       "<div>\n",
       "<style scoped>\n",
       "    .dataframe tbody tr th:only-of-type {\n",
       "        vertical-align: middle;\n",
       "    }\n",
       "\n",
       "    .dataframe tbody tr th {\n",
       "        vertical-align: top;\n",
       "    }\n",
       "\n",
       "    .dataframe thead th {\n",
       "        text-align: right;\n",
       "    }\n",
       "</style>\n",
       "<table border=\"1\" class=\"dataframe\">\n",
       "  <thead>\n",
       "    <tr style=\"text-align: right;\">\n",
       "      <th></th>\n",
       "      <th>^GSPC</th>\n",
       "      <th>% update ^GSPC</th>\n",
       "    </tr>\n",
       "    <tr>\n",
       "      <th>Date</th>\n",
       "      <th></th>\n",
       "      <th></th>\n",
       "    </tr>\n",
       "  </thead>\n",
       "  <tbody>\n",
       "    <tr>\n",
       "      <th>2015-12-31</th>\n",
       "      <td>2043.939941</td>\n",
       "      <td>0.000000</td>\n",
       "    </tr>\n",
       "    <tr>\n",
       "      <th>2016-01-04</th>\n",
       "      <td>2012.660034</td>\n",
       "      <td>-1.530373</td>\n",
       "    </tr>\n",
       "    <tr>\n",
       "      <th>2016-01-05</th>\n",
       "      <td>2016.709961</td>\n",
       "      <td>0.201223</td>\n",
       "    </tr>\n",
       "  </tbody>\n",
       "</table>\n",
       "</div>"
      ],
      "text/plain": [
       "                  ^GSPC  % update ^GSPC\n",
       "Date                                   \n",
       "2015-12-31  2043.939941        0.000000\n",
       "2016-01-04  2012.660034       -1.530373\n",
       "2016-01-05  2016.709961        0.201223"
      ]
     },
     "execution_count": 6,
     "metadata": {},
     "output_type": "execute_result"
    }
   ],
   "source": [
    "def add_percent_update(tick):\n",
    "    \"\"\" date stock's or market's update\"\"\"\n",
    "    gf_copy = df.copy(deep=True)\n",
    "    gf_copy = pd.DataFrame(gf_copy.drop(df.index[0]))\n",
    "    gf_copy_v = gf_copy[tick].values\n",
    "    gf_v = df.copy(deep=True)\n",
    "    gf_vv = gf_v[tick].values\n",
    "\n",
    "    for i in range(len(gf_copy)):\n",
    "        gf_vv[i] = (gf_copy_v[i] - gf_vv[i]) / (gf_vv[i] / 100)\n",
    "\n",
    "    gf_vv = np.insert(gf_vv, 0, 0)\n",
    "    gf_vv = np.delete(gf_vv, -1)\n",
    "    return gf_vv\n",
    "\n",
    "df[f\"% update {market_ticker}\"] = add_percent_update(market_ticker)\n",
    "# gf[f\"% update {st}\"] = add_percent_update(st)\n",
    "\n",
    "df.head(3)"
   ]
  },
  {
   "cell_type": "code",
   "execution_count": 7,
   "id": "3a420ce7-dcf5-48a3-b166-ead283cf1207",
   "metadata": {
    "tags": []
   },
   "outputs": [],
   "source": [
    "r = list(df[f'% update {market_ticker}'].values)\n",
    "\n",
    "for i in range(len(r)):\n",
    "    if df.iloc[i, 1] > 0:\n",
    "        r[i] = 'Plus'\n",
    "    else:\n",
    "        r[i] = 'Minus'\n",
    "        \n",
    "df['Side'] = r        "
   ]
  },
  {
   "cell_type": "markdown",
   "id": "152860f4-369e-4b0e-9c22-d0e0e048fffe",
   "metadata": {},
   "source": [
    "Signal module"
   ]
  },
  {
   "cell_type": "code",
   "execution_count": null,
   "id": "9ee85225-ec67-48e9-890a-9cbb113306bb",
   "metadata": {
    "tags": []
   },
   "outputs": [
    {
     "data": {
      "text/plain": [
       "' easy signal way'"
      ]
     },
     "execution_count": 8,
     "metadata": {},
     "output_type": "execute_result"
    }
   ],
   "source": [
    "''' easy signal way'''\n",
    "\n",
    "# r = list(df['% update ^GSPC'].values)\n",
    "\n",
    "# for i in range(len(r)):\n",
    "#     try:\n",
    "#         if df.iloc[i, 1] > 0:\n",
    "#             r[i+1] = 'Long'\n",
    "#         else:\n",
    "#             r[i+1] = 'Short'\n",
    "#     except:\n",
    "#         pass\n",
    "        \n",
    "# df['Signal'] = r\n",
    "\n"
   ]
  },
  {
   "cell_type": "code",
   "execution_count": 9,
   "id": "64d95d52-495e-42b6-abfe-b5479979f343",
   "metadata": {
    "jupyter": {
     "source_hidden": true
    },
    "tags": []
   },
   "outputs": [
    {
     "data": {
      "text/plain": [
       "' more or less '"
      ]
     },
     "execution_count": 9,
     "metadata": {},
     "output_type": "execute_result"
    }
   ],
   "source": [
    "''' more or less '''\n",
    "\n",
    "\n",
    "# ''' получаем точки разворота '''\n",
    "# r = list(df['% update ^GSPC'].values)\n",
    "\n",
    "# for i in range(len(r)):\n",
    "#     try:\n",
    "#         if df.iloc[i, 1] < 0 and df.iloc[i-1, 1] < 1:\n",
    "#             r[i+1] = 'Long'\n",
    "#         elif df.iloc[i, 1] > 0 and df.iloc[i-1, 1] > -1:\n",
    "#             r[i+1] = 'Short'\n",
    "#         else:\n",
    "#             pass\n",
    "#     except:\n",
    "#         pass\n",
    "    \n",
    "# df['Signal'] = r"
   ]
  },
  {
   "cell_type": "markdown",
   "id": "02e1c912-83ff-4a84-be82-fff4948cbea8",
   "metadata": {},
   "source": [
    "MA tests"
   ]
  },
  {
   "cell_type": "code",
   "execution_count": 10,
   "id": "3d5fe344-a5e8-4667-9d2d-191d1dea9f88",
   "metadata": {
    "jupyter": {
     "source_hidden": true
    },
    "tags": []
   },
   "outputs": [],
   "source": [
    "# ''' MA tests \n",
    "# if Fast more or less than slow\n",
    "# True     656\n",
    "# False    599\n",
    "# '''\n",
    "\n",
    "\n",
    "# r = list(df['% update ^GSPC'].values)\n",
    "# df['Signal'] = r\n",
    "\n",
    "# df['ma_fast'] = df['^GSPC'].ewm(span=12, adjust=False).mean()\n",
    "# df['ma_slow'] = df['^GSPC'].ewm(span=26, adjust=False).mean()\n",
    "\n",
    "\n",
    "\n",
    "# for i in range(len(r)):\n",
    "#     try:\n",
    "#         if df.iloc[i, 5] < df.iloc[i, 4]:\n",
    "#             r[i+1] = 'Long'\n",
    "#         elif df.iloc[i, 5] > df.iloc[i, 4]:\n",
    "#             r[i+1] = 'Short'\n",
    "#         else:\n",
    "#             pass\n",
    "#     except:\n",
    "#         pass\n",
    "\n",
    "# df['Signal'] = r"
   ]
  },
  {
   "cell_type": "code",
   "execution_count": 11,
   "id": "1d71d2e6-b71a-47b9-8da6-744056e0e024",
   "metadata": {
    "tags": []
   },
   "outputs": [],
   "source": [
    "# ''' MA tests \n",
    "# if slow or fast up or down\n",
    "# SLOW (26)\n",
    "#     True     657\n",
    "#     False    598\n",
    "    \n",
    "# FAST (12)\n",
    "#     True     644\n",
    "#     False    611\n",
    "\n",
    "# if FAST and FAST-1 more or less then price and price-1\n",
    "# MA 50\n",
    "# True     630\n",
    "# False    574\n",
    "\n",
    "# MA 150\n",
    "# True     594\n",
    "# False    510\n",
    "\n",
    "# MA 35\n",
    "# True     630\n",
    "# False    574\n",
    "# 13\n",
    "    \n",
    "# if price more or less MA\n",
    "# MA 50    \n",
    "# True     629\n",
    "# False    575\n",
    "\n",
    "# MA 40    \n",
    "# True     637\n",
    "# False    577\n",
    "\n",
    "# MA 35      !!!\n",
    "# True     641\n",
    "# False    578\n",
    "# 19\n",
    "\n",
    "\n",
    "# MA 30\n",
    "# True     642\n",
    "# False    582\n",
    "\n",
    "# F35 S100\n",
    "# True     618\n",
    "# False    536\n",
    "\n",
    "# F35 S80\n",
    "# True     617\n",
    "# False    557\n",
    "# -19\n",
    "\n",
    "# F35 S130 more/less price  !!!\n",
    "# True     607\n",
    "# False    517\n",
    "# 25\n",
    "\n",
    "# F35 S150 more/less price  !!!\n",
    "# True     607\n",
    "# False    517\n",
    "# 20\n",
    "\n",
    "# F35 S130 more/less price + fast with price and price-1!!!\n",
    "# True     607\n",
    "# False    517\n",
    "# 31\n",
    "\n",
    "# F35 S130 more/less price + fast and slow with price and price-1!!!\n",
    "# True     607\n",
    "# False    517\n",
    "# 34.6\n",
    "\n",
    "# F35 S130 more/less price + fast with price 0, -1, -2 and slow with price 0, -1!!!\n",
    "# True     607\n",
    "# False    517\n",
    "# 35.9\n",
    "\n",
    "# F20 S130 more/less price + fast with price 0, -1, -2 and slow with price 0, -1!!!\n",
    "# True     607\n",
    "# False    517\n",
    "# 36.7\n",
    "# '''\n",
    "# fma = 20\n",
    "# mma = 50\n",
    "# sma = 130\n",
    "\n",
    "\n",
    "# r = list(df['% update ^GSPC'].values)\n",
    "# df['Signal'] = r\n",
    "\n",
    "# df['ma_fast'] = df['^GSPC'].ewm(span=fma, adjust=False).mean()\n",
    "# df['ma_slow'] = df['^GSPC'].ewm(span=sma, adjust=False).mean()\n",
    "# # df['ma_middle'] = df['^GSPC'].ewm(span=sma, adjust=False).mean()\n",
    "\n",
    "\n",
    "# for i in range(len(r)):\n",
    "#     try:\n",
    "   \n",
    "#         if i < sma:\n",
    "#             r[i] = None\n",
    "#         elif df.iloc[i, 0] > df.iloc[i, 4] \\\n",
    "#             and df.iloc[i-1, 0] > df.iloc[i-1, 4] \\\n",
    "#             and df.iloc[i-2, 0] > df.iloc[i-2, 4]\\\n",
    "#             and df.iloc[i, 0] > df.iloc[i, 5] \\\n",
    "#             and df.iloc[i-1, 0] > df.iloc[i-1, 5]:\n",
    "#             r[i+1] = 'Long'\n",
    "#         elif df.iloc[i, 0] < df.iloc[i, 4] \\\n",
    "#             and df.iloc[i-1, 0] < df.iloc[i-1, 4] \\\n",
    "#             and df.iloc[i-2, 0] < df.iloc[i-2, 4] \\\n",
    "#             and df.iloc[i, 0] < df.iloc[i, 5] \\\n",
    "#             and df.iloc[i-1, 0] < df.iloc[i-1, 5]:\n",
    "#             r[i+1] = 'Short'\n",
    "#         else:\n",
    "#             pass\n",
    "#     except:\n",
    "#         pass\n",
    "\n",
    "# df['Signal'] = r\n",
    "# df"
   ]
  },
  {
   "cell_type": "markdown",
   "id": "65513e41-d39f-48d1-8887-e3fa7398577f",
   "metadata": {},
   "source": [
    "MACD test"
   ]
  },
  {
   "cell_type": "code",
   "execution_count": 12,
   "id": "76905feb-5bcb-4a95-9638-29bf38ddddf0",
   "metadata": {
    "tags": []
   },
   "outputs": [
    {
     "data": {
      "text/html": [
       "<div>\n",
       "<style scoped>\n",
       "    .dataframe tbody tr th:only-of-type {\n",
       "        vertical-align: middle;\n",
       "    }\n",
       "\n",
       "    .dataframe tbody tr th {\n",
       "        vertical-align: top;\n",
       "    }\n",
       "\n",
       "    .dataframe thead th {\n",
       "        text-align: right;\n",
       "    }\n",
       "</style>\n",
       "<table border=\"1\" class=\"dataframe\">\n",
       "  <thead>\n",
       "    <tr style=\"text-align: right;\">\n",
       "      <th></th>\n",
       "      <th>^GSPC</th>\n",
       "      <th>% update ^GSPC</th>\n",
       "      <th>Side</th>\n",
       "      <th>Signal</th>\n",
       "      <th>ma_fast</th>\n",
       "      <th>ma_slow</th>\n",
       "      <th>macd</th>\n",
       "      <th>signal_macd</th>\n",
       "      <th>masi</th>\n",
       "    </tr>\n",
       "    <tr>\n",
       "      <th>Date</th>\n",
       "      <th></th>\n",
       "      <th></th>\n",
       "      <th></th>\n",
       "      <th></th>\n",
       "      <th></th>\n",
       "      <th></th>\n",
       "      <th></th>\n",
       "      <th></th>\n",
       "      <th></th>\n",
       "    </tr>\n",
       "  </thead>\n",
       "  <tbody>\n",
       "    <tr>\n",
       "      <th>2022-12-22</th>\n",
       "      <td>3822.389893</td>\n",
       "      <td>-1.445170</td>\n",
       "      <td>Minus</td>\n",
       "      <td>Short</td>\n",
       "      <td>3914.068014</td>\n",
       "      <td>3950.287690</td>\n",
       "      <td>-36.219675</td>\n",
       "      <td>-16.951163</td>\n",
       "      <td>-19.268512</td>\n",
       "    </tr>\n",
       "    <tr>\n",
       "      <th>2022-12-23</th>\n",
       "      <td>3844.820068</td>\n",
       "      <td>0.586810</td>\n",
       "      <td>Plus</td>\n",
       "      <td>Short</td>\n",
       "      <td>3907.472972</td>\n",
       "      <td>3948.677497</td>\n",
       "      <td>-41.204525</td>\n",
       "      <td>-21.801836</td>\n",
       "      <td>-19.402689</td>\n",
       "    </tr>\n",
       "    <tr>\n",
       "      <th>2022-12-27</th>\n",
       "      <td>3840.790039</td>\n",
       "      <td>-0.104817</td>\n",
       "      <td>Minus</td>\n",
       "      <td>Short</td>\n",
       "      <td>3901.122216</td>\n",
       "      <td>3947.030360</td>\n",
       "      <td>-45.908144</td>\n",
       "      <td>-26.623097</td>\n",
       "      <td>-19.285046</td>\n",
       "    </tr>\n",
       "  </tbody>\n",
       "</table>\n",
       "</div>"
      ],
      "text/plain": [
       "                  ^GSPC  % update ^GSPC   Side Signal      ma_fast      ma_slow       macd  signal_macd       masi\n",
       "Date                                                                                                              \n",
       "2022-12-22  3822.389893       -1.445170  Minus  Short  3914.068014  3950.287690 -36.219675   -16.951163 -19.268512\n",
       "2022-12-23  3844.820068        0.586810   Plus  Short  3907.472972  3948.677497 -41.204525   -21.801836 -19.402689\n",
       "2022-12-27  3840.790039       -0.104817  Minus  Short  3901.122216  3947.030360 -45.908144   -26.623097 -19.285046"
      ]
     },
     "execution_count": 12,
     "metadata": {},
     "output_type": "execute_result"
    }
   ],
   "source": [
    "''' MACD tests '''\n",
    "\n",
    "\n",
    "\n",
    "fma = 20\n",
    "sma = 130\n",
    "\n",
    "\n",
    "r = list(df[f'% update {market_ticker}'].values)\n",
    "df['Signal'] = r\n",
    "\n",
    "df['ma_fast'] = df[market_ticker].ewm(span=fma, adjust=False).mean()\n",
    "df['ma_slow'] = df[market_ticker].ewm(span=sma, adjust=False).mean()\n",
    "df['macd'] = df['ma_fast'] - df['ma_slow']\n",
    "df['signal_macd'] = df['macd'].ewm(span=9, adjust=False).mean()\n",
    "df['masi'] = df['macd'] - df['signal_macd']\n",
    "\n",
    "\n",
    "p_per = 20\n",
    "m_per = -15\n",
    "\n",
    "beta = 1\n",
    "beta2 = beta/beta\n",
    "\n",
    "for i in range(len(r)):\n",
    "    try:\n",
    "\n",
    "        if i < sma:\n",
    "            r[i] = None\n",
    "        elif df.iloc[i, 0] > df.iloc[i, 4] \\\n",
    "            and df.iloc[i-1, 0] > df.iloc[i-1, 4] \\\n",
    "            and df.iloc[i-2, 0] > df.iloc[i-2, 4]\\\n",
    "            and df.iloc[i, 0] > df.iloc[i, 5] \\\n",
    "            and df.iloc[i-1, 0] > df.iloc[i-1, 5]:\n",
    "            r[i+1] = 'Long'\n",
    "        elif df.iloc[i, 0] < df.iloc[i, 4] \\\n",
    "            and df.iloc[i-1, 0] < df.iloc[i-1, 4] \\\n",
    "            and df.iloc[i-2, 0] < df.iloc[i-2, 4] \\\n",
    "            and df.iloc[i, 0] < df.iloc[i, 5] \\\n",
    "            and df.iloc[i-1, 0] < df.iloc[i-1, 5]:\n",
    "            r[i+1] = 'Short'\n",
    "        else:\n",
    "            pass\n",
    "\n",
    "        \n",
    "        \n",
    "        \n",
    "\n",
    "        # ''' macd and masi intersaction'''\n",
    "        # if i < sma:\n",
    "        #     r[i] = None\n",
    "        # elif df.iloc[i, 8] > (df.iloc[i, 6]/100 * m_per * beta) and df.iloc[i-1, 8] < (df.iloc[i, 6]/100 * m_per * beta):\n",
    "        #     r[i+1] = 'Long'\n",
    "        # elif df.iloc[i, 8] < (df.iloc[i, 6]/100 * p_per * beta) and df.iloc[i-1, 8] > (df.iloc[i, 6]/100 * p_per * beta):\n",
    "        #     r[i+1] = 'Short'\n",
    "        # elif df.iloc[i, 8] > (df.iloc[i, 6]/100 * p_per * beta) and df.iloc[i-1, 8] < (df.iloc[i, 6]/100 * p_per * beta):\n",
    "        #     r[i+1] = 'Long'\n",
    "        # elif df.iloc[i, 8] < (df.iloc[i, 6]/100 * m_per * beta) and df.iloc[i-1, 8] > (df.iloc[i, 6]/100 * m_per * beta):\n",
    "        #     r[i+1] = 'Short'\n",
    "        # else:\n",
    "        #     pass\n",
    "        \n",
    "#         ''' macd_signal and masi intersaction'''\n",
    "#         if i < sma:\n",
    "#             r[i] = None\n",
    "#         elif df.iloc[i, 8] > (df.iloc[i, 7]/100 * m_per * beta) and df.iloc[i-1, 8] < (df.iloc[i, 7]/100 * m_per * beta):\n",
    "#             r[i+1] = 'Long'\n",
    "#         elif df.iloc[i, 8] < (df.iloc[i, 7]/100 * p_per * beta) and df.iloc[i-1, 8] > (df.iloc[i, 7]/100 * p_per * beta):\n",
    "#             r[i+1] = 'Short'\n",
    "#         elif df.iloc[i, 8] > (df.iloc[i, 7]/100 * p_per * beta) and df.iloc[i-1, 8] < (df.iloc[i, 7]/100 * p_per * beta):\n",
    "#             r[i+1] = 'Long'\n",
    "#         elif df.iloc[i, 8] < (df.iloc[i, 7]/100 * m_per * beta) and df.iloc[i-1, 8] > (df.iloc[i, 7]/100 * m_per * beta):\n",
    "#             r[i+1] = 'Short'\n",
    "#         else:\n",
    "#             pass\n",
    "        \n",
    "        \n",
    "        # ''' macd_signal and masi intersaction and side'''\n",
    "        # if i < sma:\n",
    "        #     r[i] = None\n",
    "        # elif df.iloc[i, 8] > 0:\n",
    "        #     if df.iloc[i, 8] > (df.iloc[i, 7]/100 * m_per * beta) and df.iloc[i-1, 8] < (df.iloc[i, 7]/100 * m_per * beta):\n",
    "        #         r[i+1] = 'Long'\n",
    "        #     elif df.iloc[i, 8] < (df.iloc[i, 7]/100 * p_per * beta * 0.9) and df.iloc[i-1, 8] > (df.iloc[i, 7]/100 * p_per * beta * 0.9):\n",
    "        #         r[i+1] = 'Short'\n",
    "        #     elif df.iloc[i, 8] > (df.iloc[i, 7]/100 * p_per * beta) and df.iloc[i-1, 8] < (df.iloc[i, 7]/100 * p_per * beta):\n",
    "        #         r[i+1] = 'Long'\n",
    "        #     elif df.iloc[i, 8] < (df.iloc[i, 7]/100 * m_per * beta * 0.9) and df.iloc[i-1, 8] > (df.iloc[i, 7]/100 * m_per * beta * 0.9):\n",
    "        #         r[i+1] = 'Short'\n",
    "        #     else:\n",
    "        #         pass\n",
    "        # elif df.iloc[i, 8] < 0:\n",
    "        #     if df.iloc[i, 8] > (df.iloc[i, 7]/100 * m_per * beta * 0.9) and df.iloc[i-1, 8] < (df.iloc[i, 7]/100 * m_per * beta * 0.9):\n",
    "        #         r[i+1] = 'Long'\n",
    "        #     elif df.iloc[i, 8] < (df.iloc[i, 7]/100 * p_per * beta) and df.iloc[i-1, 8] > (df.iloc[i, 7]/100 * p_per * beta):\n",
    "        #         r[i+1] = 'Short'\n",
    "        #     elif df.iloc[i, 8] > (df.iloc[i, 7]/100 * p_per * beta * 0.9) and df.iloc[i-1, 8] < (df.iloc[i, 7]/100 * p_per * beta * 0.9):\n",
    "        #         r[i+1] = 'Long'\n",
    "        #     elif df.iloc[i, 8] < (df.iloc[i, 7]/100 * m_per * beta) and df.iloc[i-1, 8] > (df.iloc[i, 7]/100 * m_per * beta):\n",
    "        #         r[i+1] = 'Short'\n",
    "        #     else:\n",
    "        #         pass\n",
    "        # else:\n",
    "        #     pass\n",
    "        \n",
    "\n",
    "#         ''' macd_signal and masi intersaction and side'''\n",
    "#         if i < sma:\n",
    "#             r[i] = None\n",
    "#         elif df.iloc[i, 8] > 0:\n",
    "#             if df.iloc[i, 8] > (df.iloc[i, 7]/100 * m_per * beta) and df.iloc[i-1, 8] < (df.iloc[i, 7]/100 * m_per * beta):\n",
    "#                 r[i+1] = 'Long'\n",
    "#             elif df.iloc[i, 8] < (df.iloc[i, 7]/100 * p_per * beta * 0.9) and df.iloc[i-1, 8] > (df.iloc[i, 7]/100 * p_per * beta * 0.9):\n",
    "#                 r[i+1] = 'Short'\n",
    "#             elif df.iloc[i, 8] > (df.iloc[i, 7]/100 * p_per * beta) and df.iloc[i-1, 8] < (df.iloc[i, 7]/100 * p_per * beta):\n",
    "#                 r[i+1] = 'Long'\n",
    "#             elif df.iloc[i, 8] < (df.iloc[i, 7]/100 * m_per * beta * 0.9) and df.iloc[i-1, 8] > (df.iloc[i, 7]/100 * m_per * beta * 0.9):\n",
    "#                 r[i+1] = 'Short'\n",
    "#             else:\n",
    "#                 pass\n",
    "#         elif df.iloc[i, 8] < 0:\n",
    "#             if df.iloc[i, 8] > (df.iloc[i, 7]/100 * m_per * beta * 0.9) and df.iloc[i-1, 8] < (df.iloc[i, 7]/100 * m_per * beta * 0.9):\n",
    "#                 r[i+1] = 'Long'\n",
    "#             elif df.iloc[i, 8] < (df.iloc[i, 7]/100 * p_per * beta) and df.iloc[i-1, 8] > (df.iloc[i, 7]/100 * p_per * beta):\n",
    "#                 r[i+1] = 'Short'\n",
    "#             elif df.iloc[i, 8] > (df.iloc[i, 7]/100 * p_per * beta * 0.9) and df.iloc[i-1, 8] < (df.iloc[i, 7]/100 * p_per * beta * 0.9):\n",
    "#                 r[i+1] = 'Long'\n",
    "#             elif df.iloc[i, 8] < (df.iloc[i, 7]/100 * m_per * beta) and df.iloc[i-1, 8] > (df.iloc[i, 7]/100 * m_per * beta):\n",
    "#                 r[i+1] = 'Short'\n",
    "#             else:\n",
    "#                 pass\n",
    "#         else:\n",
    "#             pass\n",
    "        \n",
    "        \n",
    "    except:\n",
    "        pass\n",
    "\n",
    "df['Signal'] = r\n",
    "df.tail(3)"
   ]
  },
  {
   "cell_type": "markdown",
   "id": "b9e97e5b-949e-4f74-9dc3-abc5f4b986f6",
   "metadata": {},
   "source": [
    "Закрытие пробелов "
   ]
  },
  {
   "cell_type": "code",
   "execution_count": 13,
   "id": "5da017c3-659b-4a5b-8c8f-5ad5a508edda",
   "metadata": {
    "jupyter": {
     "source_hidden": true
    },
    "tags": []
   },
   "outputs": [
    {
     "data": {
      "text/html": [
       "<div>\n",
       "<style scoped>\n",
       "    .dataframe tbody tr th:only-of-type {\n",
       "        vertical-align: middle;\n",
       "    }\n",
       "\n",
       "    .dataframe tbody tr th {\n",
       "        vertical-align: top;\n",
       "    }\n",
       "\n",
       "    .dataframe thead th {\n",
       "        text-align: right;\n",
       "    }\n",
       "</style>\n",
       "<table border=\"1\" class=\"dataframe\">\n",
       "  <thead>\n",
       "    <tr style=\"text-align: right;\">\n",
       "      <th></th>\n",
       "      <th>^GSPC</th>\n",
       "      <th>% update ^GSPC</th>\n",
       "      <th>Side</th>\n",
       "      <th>Signal</th>\n",
       "      <th>ma_fast</th>\n",
       "      <th>ma_slow</th>\n",
       "      <th>macd</th>\n",
       "      <th>signal_macd</th>\n",
       "      <th>masi</th>\n",
       "    </tr>\n",
       "    <tr>\n",
       "      <th>Date</th>\n",
       "      <th></th>\n",
       "      <th></th>\n",
       "      <th></th>\n",
       "      <th></th>\n",
       "      <th></th>\n",
       "      <th></th>\n",
       "      <th></th>\n",
       "      <th></th>\n",
       "      <th></th>\n",
       "    </tr>\n",
       "  </thead>\n",
       "  <tbody>\n",
       "    <tr>\n",
       "      <th>2022-12-22</th>\n",
       "      <td>3822.389893</td>\n",
       "      <td>-1.445170</td>\n",
       "      <td>Minus</td>\n",
       "      <td>Short</td>\n",
       "      <td>3914.068014</td>\n",
       "      <td>3950.287690</td>\n",
       "      <td>-36.219675</td>\n",
       "      <td>-16.951163</td>\n",
       "      <td>-19.268512</td>\n",
       "    </tr>\n",
       "    <tr>\n",
       "      <th>2022-12-23</th>\n",
       "      <td>3844.820068</td>\n",
       "      <td>0.586810</td>\n",
       "      <td>Plus</td>\n",
       "      <td>Short</td>\n",
       "      <td>3907.472972</td>\n",
       "      <td>3948.677497</td>\n",
       "      <td>-41.204525</td>\n",
       "      <td>-21.801836</td>\n",
       "      <td>-19.402689</td>\n",
       "    </tr>\n",
       "    <tr>\n",
       "      <th>2022-12-27</th>\n",
       "      <td>3840.790039</td>\n",
       "      <td>-0.104817</td>\n",
       "      <td>Minus</td>\n",
       "      <td>Short</td>\n",
       "      <td>3901.122216</td>\n",
       "      <td>3947.030360</td>\n",
       "      <td>-45.908144</td>\n",
       "      <td>-26.623097</td>\n",
       "      <td>-19.285046</td>\n",
       "    </tr>\n",
       "  </tbody>\n",
       "</table>\n",
       "</div>"
      ],
      "text/plain": [
       "                  ^GSPC  % update ^GSPC   Side Signal      ma_fast      ma_slow       macd  signal_macd       masi\n",
       "Date                                                                                                              \n",
       "2022-12-22  3822.389893       -1.445170  Minus  Short  3914.068014  3950.287690 -36.219675   -16.951163 -19.268512\n",
       "2022-12-23  3844.820068        0.586810   Plus  Short  3907.472972  3948.677497 -41.204525   -21.801836 -19.402689\n",
       "2022-12-27  3840.790039       -0.104817  Minus  Short  3901.122216  3947.030360 -45.908144   -26.623097 -19.285046"
      ]
     },
     "execution_count": 13,
     "metadata": {},
     "output_type": "execute_result"
    }
   ],
   "source": [
    "''' заполняем пробелы '''\n",
    "r = list(df['Signal'].values)\n",
    "\n",
    "\n",
    "for i in range(len(r)):\n",
    "    if df.iloc[i, 3] == None:\n",
    "        pass\n",
    "    elif type(df.iloc[i, 3]) == str:\n",
    "        if df.iloc[i, 3] == 'Long' or df.iloc[i, 3] == 'Short':\n",
    "            pass \n",
    "        else:\n",
    "            df.iloc[i, 3] = df.iloc[i-1, 3]\n",
    "    else:\n",
    "        df.iloc[i, 3] = df.iloc[i-1, 3]\n",
    "        \n",
    "\n",
    "df.tail(3)"
   ]
  },
  {
   "cell_type": "markdown",
   "id": "93d4c8af-fb99-4546-8ba9-2840a1a7e5aa",
   "metadata": {},
   "source": [
    "Result module"
   ]
  },
  {
   "cell_type": "code",
   "execution_count": 14,
   "id": "b327f2b4-f796-42b0-bbef-f0129acf6bd6",
   "metadata": {
    "tags": []
   },
   "outputs": [
    {
     "data": {
      "text/plain": [
       "True     877\n",
       "False    752\n",
       "Name: Result, dtype: int64"
      ]
     },
     "execution_count": 14,
     "metadata": {},
     "output_type": "execute_result"
    }
   ],
   "source": [
    "r = list(df[f'% update {market_ticker}'].values)\n",
    "\n",
    "for i in range(len(r)):\n",
    "    try:\n",
    "        if df.iloc[i, 2] == 'Minus' and df.iloc[i, 3] == 'Short':\n",
    "            r[i] = True\n",
    "        elif df.iloc[i, 2] == 'Plus' and df.iloc[i, 3] == 'Long':    \n",
    "            r[i] = True\n",
    "        elif df.iloc[i, 2] == 'Minus' and df.iloc[i, 3] == 'Long':    \n",
    "            r[i] = False  \n",
    "        elif df.iloc[i, 2] == 'Plus' and df.iloc[i, 3] == 'Short':    \n",
    "            r[i] = False \n",
    "        else:\n",
    "            r[i] = None\n",
    "    except:\n",
    "        pass\n",
    "    \n",
    "df['Result'] = r\n",
    "df['Result'].value_counts()\n",
    "# df.tail(300)\n",
    "# df.head(300)"
   ]
  },
  {
   "cell_type": "markdown",
   "id": "6d220781-cd4f-41f9-b918-1063109e12bc",
   "metadata": {},
   "source": [
    "Sum"
   ]
  },
  {
   "cell_type": "code",
   "execution_count": 15,
   "id": "7bcb0376-41d6-4655-873c-d5e326ae9e0b",
   "metadata": {
    "tags": []
   },
   "outputs": [
    {
     "data": {
      "text/plain": [
       "39.590732688630474"
      ]
     },
     "execution_count": 15,
     "metadata": {},
     "output_type": "execute_result"
    }
   ],
   "source": [
    "r = list(df[f'% update {market_ticker}'].values)\n",
    "\n",
    "for i in range(len(r)):\n",
    "    try:\n",
    "        if df.iloc[i, 3] == 'Short':\n",
    "            r[i] = (df.iloc[i, 1] * -1)\n",
    "        elif df.iloc[i, 3] == 'Long':\n",
    "            r[i] = df.iloc[i, 1]\n",
    "        else:\n",
    "            r[i] = 0\n",
    "    except:\n",
    "        pass\n",
    "    \n",
    "df['Sum'] = r\n",
    "df['Sum'].sum()\n",
    "# df.tail(100)"
   ]
  },
  {
   "cell_type": "code",
   "execution_count": 16,
   "id": "aa5848f6-6a95-44ec-8135-7eac894d565f",
   "metadata": {},
   "outputs": [],
   "source": [
    "df1 = df.reset_index(drop=True)"
   ]
  },
  {
   "cell_type": "code",
   "execution_count": 17,
   "id": "f9721b3f-6c0f-48ee-af65-6904412daf9a",
   "metadata": {},
   "outputs": [],
   "source": [
    "r = list(df1[f'% update {market_ticker}'].values)\n",
    "\n",
    "for i in range(len(r)):\n",
    "    try:\n",
    "        if df.iloc[i, 3] == 'Short':\n",
    "            r[i] = 1\n",
    "        elif df.iloc[i, 3] == 'Long':\n",
    "            r[i] = 5\n",
    "        else:\n",
    "            r[i] = 0\n",
    "    except:\n",
    "        pass\n",
    "    \n",
    "df1['bars'] = r"
   ]
  },
  {
   "cell_type": "code",
   "execution_count": 18,
   "id": "aa78fab3-fa37-475d-88a2-a5e60aeb2ee1",
   "metadata": {},
   "outputs": [
    {
     "data": {
      "text/plain": [
       "<BarContainer object of 1760 artists>"
      ]
     },
     "execution_count": 18,
     "metadata": {},
     "output_type": "execute_result"
    },
    {
     "data": {
      "image/png": "[encoded data removed]",
      "text/plain": [
       "<Figure size 640x480 with 2 Axes>"
      ]
     },
     "metadata": {},
     "output_type": "display_data"
    }
   ],
   "source": [
    "fig, axs = plt.subplots(2)\n",
    "fig.suptitle('Market and side')\n",
    "axs[0].plot(df1.index, df1[f'{market_ticker}'])\n",
    "axs[1].bar(df1.index, df1['bars'])"
   ]
  },
  {
   "cell_type": "code",
   "execution_count": null,
   "id": "1df6d217-9fb1-450a-84f1-ce3869f7164d",
   "metadata": {},
   "outputs": [],
   "source": []
  }
 ],
 "metadata": {
  "kernelspec": {
   "display_name": "Python 3 (ipykernel)",
   "language": "python",
   "name": "python3"
  },
  "language_info": {
   "codemirror_mode": {
    "name": "ipython",
    "version": 3
   },
   "file_extension": ".py",
   "mimetype": "text/x-python",
   "name": "python",
   "nbconvert_exporter": "python",
   "pygments_lexer": "ipython3",
   "version": "3.10.4"
  },
  "toc-showcode": false,
  "toc-showmarkdowntxt": true
 },
 "nbformat": 4,
 "nbformat_minor": 5
}
