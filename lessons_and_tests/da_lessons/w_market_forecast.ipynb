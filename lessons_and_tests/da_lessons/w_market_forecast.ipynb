{
 "cells": [
  {
   "cell_type": "code",
   "execution_count": 1,
   "id": "bfcf66dd-5734-4db7-bce2-d6aa894fe15c",
   "metadata": {},
   "outputs": [],
   "source": [
    "import numpy as np\n",
    "import pandas as pd\n",
    "import yfinance as yf\n",
    "import matplotlib.pyplot as plt\n",
    "\n",
    "%matplotlib inline  "
   ]
  },
  {
   "cell_type": "code",
   "execution_count": 2,
   "id": "80c1ba9d-9583-40a9-bdf4-54930edd3cb6",
   "metadata": {},
   "outputs": [],
   "source": [
    "pd.set_option('display.max_rows', 1000)\n",
    "pd.set_option('display.max_columns', 500)\n",
    "pd.set_option('display.width', 1000)"
   ]
  },
  {
   "cell_type": "code",
   "execution_count": 3,
   "id": "91016bd2-f3ef-49d0-80f3-c5d9cbefd885",
   "metadata": {},
   "outputs": [],
   "source": [
    "pd.set_option('display.max_rows', 1000)\n",
    "pd.set_option('display.max_columns', 500)\n",
    "pd.set_option('display.width', 1000)"
   ]
  },
  {
   "cell_type": "markdown",
   "id": "1e2ca8c3-a3eb-44d4-ba96-cecfce2d756b",
   "metadata": {},
   "source": [
    "Datas"
   ]
  },
  {
   "cell_type": "code",
   "execution_count": 4,
   "id": "329fa31f-683c-4bd5-8df1-43a499c3affe",
   "metadata": {},
   "outputs": [],
   "source": [
    "market_ticker = '^GSPC' #^GSPC\n",
    "st = 'f'\n",
    "\n",
    "stime='2016-01-01'\n",
    "ftime=None"
   ]
  },
  {
   "cell_type": "code",
   "execution_count": 5,
   "id": "c21e637f-d698-409e-bdf2-f6423d047af0",
   "metadata": {},
   "outputs": [
    {
     "data": {
      "text/html": [
       "<div>\n",
       "<style scoped>\n",
       "    .dataframe tbody tr th:only-of-type {\n",
       "        vertical-align: middle;\n",
       "    }\n",
       "\n",
       "    .dataframe tbody tr th {\n",
       "        vertical-align: top;\n",
       "    }\n",
       "\n",
       "    .dataframe thead th {\n",
       "        text-align: right;\n",
       "    }\n",
       "</style>\n",
       "<table border=\"1\" class=\"dataframe\">\n",
       "  <thead>\n",
       "    <tr style=\"text-align: right;\">\n",
       "      <th></th>\n",
       "      <th>^GSPC</th>\n",
       "    </tr>\n",
       "    <tr>\n",
       "      <th>Date</th>\n",
       "      <th></th>\n",
       "    </tr>\n",
       "  </thead>\n",
       "  <tbody>\n",
       "    <tr>\n",
       "      <th>2015-12-28</th>\n",
       "      <td>2043.939941</td>\n",
       "    </tr>\n",
       "    <tr>\n",
       "      <th>2016-01-04</th>\n",
       "      <td>1922.030029</td>\n",
       "    </tr>\n",
       "    <tr>\n",
       "      <th>2016-01-11</th>\n",
       "      <td>1880.329956</td>\n",
       "    </tr>\n",
       "  </tbody>\n",
       "</table>\n",
       "</div>"
      ],
      "text/plain": [
       "                  ^GSPC\n",
       "Date                   \n",
       "2015-12-28  2043.939941\n",
       "2016-01-04  1922.030029\n",
       "2016-01-11  1880.329956"
      ]
     },
     "execution_count": 5,
     "metadata": {},
     "output_type": "execute_result"
    }
   ],
   "source": [
    "def get_data_from_ticker(tick, stime, ftime, interval='1wk'):\n",
    "    ticker = yf.Ticker(tick)\n",
    "\n",
    "    df = ticker.history(start=stime, end=ftime, interval=interval)\n",
    "    x = pd.DataFrame(df)\n",
    "    x.rename(columns={\"Close\": tick}, inplace=True)\n",
    "    z = x.drop(columns=[\"Open\", \"High\", \"Low\", \"Volume\", \"Dividends\", \"Stock Splits\"])\n",
    "    return z\n",
    "\n",
    "df = pd.DataFrame(get_data_from_ticker(market_ticker, stime, ftime))\n",
    "\n",
    "\n",
    "\n",
    "df.head(3)"
   ]
  },
  {
   "cell_type": "code",
   "execution_count": 6,
   "id": "6fe59e58-c23c-4e65-9fd2-bb0943958949",
   "metadata": {},
   "outputs": [
    {
     "data": {
      "text/html": [
       "<div>\n",
       "<style scoped>\n",
       "    .dataframe tbody tr th:only-of-type {\n",
       "        vertical-align: middle;\n",
       "    }\n",
       "\n",
       "    .dataframe tbody tr th {\n",
       "        vertical-align: top;\n",
       "    }\n",
       "\n",
       "    .dataframe thead th {\n",
       "        text-align: right;\n",
       "    }\n",
       "</style>\n",
       "<table border=\"1\" class=\"dataframe\">\n",
       "  <thead>\n",
       "    <tr style=\"text-align: right;\">\n",
       "      <th></th>\n",
       "      <th>^GSPC</th>\n",
       "      <th>% update ^GSPC</th>\n",
       "    </tr>\n",
       "    <tr>\n",
       "      <th>Date</th>\n",
       "      <th></th>\n",
       "      <th></th>\n",
       "    </tr>\n",
       "  </thead>\n",
       "  <tbody>\n",
       "    <tr>\n",
       "      <th>2015-12-28</th>\n",
       "      <td>2043.939941</td>\n",
       "      <td>0.000000</td>\n",
       "    </tr>\n",
       "    <tr>\n",
       "      <th>2016-01-04</th>\n",
       "      <td>1922.030029</td>\n",
       "      <td>-5.964457</td>\n",
       "    </tr>\n",
       "    <tr>\n",
       "      <th>2016-01-11</th>\n",
       "      <td>1880.329956</td>\n",
       "      <td>-2.169585</td>\n",
       "    </tr>\n",
       "  </tbody>\n",
       "</table>\n",
       "</div>"
      ],
      "text/plain": [
       "                  ^GSPC  % update ^GSPC\n",
       "Date                                   \n",
       "2015-12-28  2043.939941        0.000000\n",
       "2016-01-04  1922.030029       -5.964457\n",
       "2016-01-11  1880.329956       -2.169585"
      ]
     },
     "execution_count": 6,
     "metadata": {},
     "output_type": "execute_result"
    }
   ],
   "source": [
    "def add_percent_update(tick):\n",
    "    \"\"\" date stock's or market's update\"\"\"\n",
    "    gf_copy = df.copy(deep=True)\n",
    "    gf_copy = pd.DataFrame(gf_copy.drop(df.index[0]))\n",
    "    gf_copy_v = gf_copy[tick].values\n",
    "    gf_v = df.copy(deep=True)\n",
    "    gf_vv = gf_v[tick].values\n",
    "\n",
    "    for i in range(len(gf_copy)):\n",
    "        gf_vv[i] = (gf_copy_v[i] - gf_vv[i]) / (gf_vv[i] / 100)\n",
    "\n",
    "    gf_vv = np.insert(gf_vv, 0, 0)\n",
    "    gf_vv = np.delete(gf_vv, -1)\n",
    "    return gf_vv\n",
    "\n",
    "df[f\"% update {market_ticker}\"] = add_percent_update(market_ticker)\n",
    "# gf[f\"% update {st}\"] = add_percent_update(st)\n",
    "\n",
    "df.head(3)"
   ]
  },
  {
   "cell_type": "code",
   "execution_count": 7,
   "id": "3a420ce7-dcf5-48a3-b166-ead283cf1207",
   "metadata": {
    "tags": []
   },
   "outputs": [],
   "source": [
    "r = list(df[f'% update {market_ticker}'].values)\n",
    "\n",
    "for i in range(len(r)):\n",
    "    if df.iloc[i, 1] > 0:\n",
    "        r[i] = 'Plus'\n",
    "    else:\n",
    "        r[i] = 'Minus'\n",
    "        \n",
    "df['Side'] = r        "
   ]
  },
  {
   "cell_type": "markdown",
   "id": "152860f4-369e-4b0e-9c22-d0e0e048fffe",
   "metadata": {},
   "source": [
    "Signal module"
   ]
  },
  {
   "cell_type": "markdown",
   "id": "65513e41-d39f-48d1-8887-e3fa7398577f",
   "metadata": {},
   "source": [
    "MACD test"
   ]
  },
  {
   "cell_type": "code",
   "execution_count": 8,
   "id": "76905feb-5bcb-4a95-9638-29bf38ddddf0",
   "metadata": {
    "tags": []
   },
   "outputs": [
    {
     "data": {
      "text/html": [
       "<div>\n",
       "<style scoped>\n",
       "    .dataframe tbody tr th:only-of-type {\n",
       "        vertical-align: middle;\n",
       "    }\n",
       "\n",
       "    .dataframe tbody tr th {\n",
       "        vertical-align: top;\n",
       "    }\n",
       "\n",
       "    .dataframe thead th {\n",
       "        text-align: right;\n",
       "    }\n",
       "</style>\n",
       "<table border=\"1\" class=\"dataframe\">\n",
       "  <thead>\n",
       "    <tr style=\"text-align: right;\">\n",
       "      <th></th>\n",
       "      <th>^GSPC</th>\n",
       "      <th>% update ^GSPC</th>\n",
       "      <th>Side</th>\n",
       "      <th>Signal</th>\n",
       "      <th>ma_fast</th>\n",
       "      <th>ma_slow</th>\n",
       "      <th>macd</th>\n",
       "      <th>signal_macd</th>\n",
       "      <th>masi</th>\n",
       "    </tr>\n",
       "    <tr>\n",
       "      <th>Date</th>\n",
       "      <th></th>\n",
       "      <th></th>\n",
       "      <th></th>\n",
       "      <th></th>\n",
       "      <th></th>\n",
       "      <th></th>\n",
       "      <th></th>\n",
       "      <th></th>\n",
       "      <th></th>\n",
       "    </tr>\n",
       "  </thead>\n",
       "  <tbody>\n",
       "    <tr>\n",
       "      <th>2022-12-12</th>\n",
       "      <td>3852.360107</td>\n",
       "      <td>-2.084694</td>\n",
       "      <td>Minus</td>\n",
       "      <td>-2.084694</td>\n",
       "      <td>3910.606569</td>\n",
       "      <td>3950.821651</td>\n",
       "      <td>-40.215082</td>\n",
       "      <td>-68.743447</td>\n",
       "      <td>28.528366</td>\n",
       "    </tr>\n",
       "    <tr>\n",
       "      <th>2022-12-19</th>\n",
       "      <td>3844.820068</td>\n",
       "      <td>-0.195725</td>\n",
       "      <td>Minus</td>\n",
       "      <td>-0.195725</td>\n",
       "      <td>3900.485569</td>\n",
       "      <td>3942.969682</td>\n",
       "      <td>-42.484113</td>\n",
       "      <td>-63.491580</td>\n",
       "      <td>21.007468</td>\n",
       "    </tr>\n",
       "    <tr>\n",
       "      <th>2022-12-27</th>\n",
       "      <td>3819.060059</td>\n",
       "      <td>-0.669993</td>\n",
       "      <td>Minus</td>\n",
       "      <td>-0.669993</td>\n",
       "      <td>3887.958568</td>\n",
       "      <td>3933.791191</td>\n",
       "      <td>-45.832624</td>\n",
       "      <td>-59.959789</td>\n",
       "      <td>14.127165</td>\n",
       "    </tr>\n",
       "  </tbody>\n",
       "</table>\n",
       "</div>"
      ],
      "text/plain": [
       "                  ^GSPC  % update ^GSPC   Side    Signal      ma_fast      ma_slow       macd  signal_macd       masi\n",
       "Date                                                                                                                 \n",
       "2022-12-12  3852.360107       -2.084694  Minus -2.084694  3910.606569  3950.821651 -40.215082   -68.743447  28.528366\n",
       "2022-12-19  3844.820068       -0.195725  Minus -0.195725  3900.485569  3942.969682 -42.484113   -63.491580  21.007468\n",
       "2022-12-27  3819.060059       -0.669993  Minus -0.669993  3887.958568  3933.791191 -45.832624   -59.959789  14.127165"
      ]
     },
     "execution_count": 8,
     "metadata": {},
     "output_type": "execute_result"
    }
   ],
   "source": [
    "''' MACD tests \n",
    "\n",
    "\n",
    "if macd_signal more or less 0 \n",
    "True     657\n",
    "False    598\n",
    "\n",
    "if macd more or less 0 \n",
    "True     656\n",
    "False    599\n",
    "12\n",
    "\n",
    "if macd_signal more or less then previous macd\n",
    "False    636\n",
    "True     619\n",
    "\n",
    "if macd more or less then previous macd\n",
    "True     634\n",
    "False    621\n",
    "\n",
    "if macd and macd_signal more or less then previous \n",
    "False    636\n",
    "True     619\n",
    "\n",
    "if macd more or less macd_signal\n",
    "True     637\n",
    "False    618\n",
    "\n",
    "if macd more or less 0, and macd_signal conversly\n",
    "True   638\n",
    "False  617\n",
    "\n",
    "\n",
    "if macd more or less -1,-2\n",
    "False    621\n",
    "True     607\n",
    "30.5\n",
    "\n",
    "if macd_signal more or less -1,-2\n",
    "False    625\n",
    "True     603\n",
    "19.9\n",
    "\n",
    "if macd more or less 0 and macd_signal-1 conversly + macd_signal conversly macd\n",
    "True     602\n",
    "False    523\n",
    "43.57497817317594\n",
    "\n",
    "if masi 3/-3\n",
    "60\n",
    "\n",
    "if masi 1/-1\n",
    "30\n",
    "\n",
    "if masi 3/-4\n",
    "69\n",
    "\n",
    "if masi 3/-3.5\n",
    "75\n",
    "\n",
    "if masi percent 10/-15\n",
    "71.61258606208699\n",
    "\n",
    "if masi percent 15/-15\n",
    "105\n",
    "\n",
    "\n",
    "if masi percent 20/-15  !!!!\n",
    "112.8\n",
    "\n",
    "if masi with macd_signal percent 20/-15  !!!!\n",
    "115.7\n",
    "\n",
    "\n",
    "macd_signal and masi intersaction 20/-15  and side 0.9\n",
    "120.3\n",
    "\n",
    "'''\n",
    "\n",
    "\n",
    "fma = 12\n",
    "sma = 26\n",
    "\n",
    "\n",
    "r = list(df[f'% update {market_ticker}'].values)\n",
    "df['Signal'] = r\n",
    "\n",
    "df['ma_fast'] = df[market_ticker].ewm(span=fma, adjust=False).mean()\n",
    "df['ma_slow'] = df[market_ticker].ewm(span=sma, adjust=False).mean()\n",
    "df['macd'] = df['ma_fast'] - df['ma_slow']\n",
    "df['signal_macd'] = df['macd'].ewm(span=9, adjust=False).mean()\n",
    "df['masi'] = df['macd'] - df['signal_macd']\n",
    "\n",
    "\n",
    "p_per = 100\n",
    "m_per = -90\n",
    "\n",
    "beta = 1\n",
    "beta2 = beta/beta\n",
    "\n",
    "for i in range(len(r)):\n",
    "    try:\n",
    "        ''' macd middle line '''\n",
    "#         if i < sma:\n",
    "#             r[i] = None\n",
    "#         elif df.iloc[i, 6] > 0 and df.iloc[i-1, 6] < 0 and df.iloc[i, 7] > 0:\n",
    "#             r[i+1] = 'Long'\n",
    "#         elif df.iloc[i, 6] < 0 and df.iloc[i-1, 6] > 0 and df.iloc[i, 7] < 0:\n",
    "#             r[i+1] = 'Short'\n",
    "#         else:\n",
    "#             pass\n",
    "\n",
    "\n",
    "        ''' macd and masi intersaction'''\n",
    "        # if i < sma:\n",
    "        #     r[i] = None\n",
    "        # elif df.iloc[i, 8] > (df.iloc[i, 6]/100 * m_per * beta) and df.iloc[i-1, 8] < (df.iloc[i, 6]/100 * m_per * beta):\n",
    "        #     r[i+1] = 'Long'\n",
    "        # elif df.iloc[i, 8] < (df.iloc[i, 6]/100 * p_per * beta) and df.iloc[i-1, 8] > (df.iloc[i, 6]/100 * p_per * beta):\n",
    "        #     r[i+1] = 'Short'\n",
    "        # elif df.iloc[i, 8] > (df.iloc[i, 6]/100 * p_per * beta) and df.iloc[i-1, 8] < (df.iloc[i, 6]/100 * p_per * beta):\n",
    "        #     r[i+1] = 'Long'\n",
    "        # elif df.iloc[i, 8] < (df.iloc[i, 6]/100 * m_per * beta) and df.iloc[i-1, 8] > (df.iloc[i, 6]/100 * m_per * beta):\n",
    "        #     r[i+1] = 'Short'\n",
    "        # else:\n",
    "        #     pass\n",
    "        \n",
    "#         ''' macd_signal and masi intersaction'''\n",
    "#         if i < sma:\n",
    "#             r[i] = None\n",
    "#         elif df.iloc[i, 8] > (df.iloc[i, 7]/100 * m_per * beta) and df.iloc[i-1, 8] < (df.iloc[i, 7]/100 * m_per * beta):\n",
    "#             r[i+1] = 'Long'\n",
    "#         elif df.iloc[i, 8] < (df.iloc[i, 7]/100 * p_per * beta) and df.iloc[i-1, 8] > (df.iloc[i, 7]/100 * p_per * beta):\n",
    "#             r[i+1] = 'Short'\n",
    "#         elif df.iloc[i, 8] > (df.iloc[i, 7]/100 * p_per * beta) and df.iloc[i-1, 8] < (df.iloc[i, 7]/100 * p_per * beta):\n",
    "#             r[i+1] = 'Long'\n",
    "#         elif df.iloc[i, 8] < (df.iloc[i, 7]/100 * m_per * beta) and df.iloc[i-1, 8] > (df.iloc[i, 7]/100 * m_per * beta):\n",
    "#             r[i+1] = 'Short'\n",
    "#         else:\n",
    "#             pass\n",
    "        \n",
    "        \n",
    "        # ''' macd_signal and masi intersaction and side'''\n",
    "        # if i < sma:\n",
    "        #     r[i] = None\n",
    "        # elif df.iloc[i, 8] > 0:\n",
    "        #     if df.iloc[i, 8] > (df.iloc[i, 7]/100 * m_per * beta) and df.iloc[i-1, 8] < (df.iloc[i, 7]/100 * m_per * beta):\n",
    "        #         r[i+1] = 'Long'\n",
    "        #     elif df.iloc[i, 8] < (df.iloc[i, 7]/100 * p_per * beta * 0.9) and df.iloc[i-1, 8] > (df.iloc[i, 7]/100 * p_per * beta * 0.9):\n",
    "        #         r[i+1] = 'Short'\n",
    "        #     elif df.iloc[i, 8] > (df.iloc[i, 7]/100 * p_per * beta) and df.iloc[i-1, 8] < (df.iloc[i, 7]/100 * p_per * beta):\n",
    "        #         r[i+1] = 'Long'\n",
    "        #     elif df.iloc[i, 8] < (df.iloc[i, 7]/100 * m_per * beta * 0.9) and df.iloc[i-1, 8] > (df.iloc[i, 7]/100 * m_per * beta * 0.9):\n",
    "        #         r[i+1] = 'Short'\n",
    "        #     else:\n",
    "        #         pass\n",
    "        # elif df.iloc[i, 8] < 0:\n",
    "        #     if df.iloc[i, 8] > (df.iloc[i, 7]/100 * m_per * beta * 0.9) and df.iloc[i-1, 8] < (df.iloc[i, 7]/100 * m_per * beta * 0.9):\n",
    "        #         r[i+1] = 'Long'\n",
    "        #     elif df.iloc[i, 8] < (df.iloc[i, 7]/100 * p_per * beta) and df.iloc[i-1, 8] > (df.iloc[i, 7]/100 * p_per * beta):\n",
    "        #         r[i+1] = 'Short'\n",
    "        #     elif df.iloc[i, 8] > (df.iloc[i, 7]/100 * p_per * beta * 0.9) and df.iloc[i-1, 8] < (df.iloc[i, 7]/100 * p_per * beta * 0.9):\n",
    "        #         r[i+1] = 'Long'\n",
    "        #     elif df.iloc[i, 8] < (df.iloc[i, 7]/100 * m_per * beta) and df.iloc[i-1, 8] > (df.iloc[i, 7]/100 * m_per * beta):\n",
    "        #         r[i+1] = 'Short'\n",
    "        #     else:\n",
    "        #         pass\n",
    "        # else:\n",
    "        #     pass\n",
    "        \n",
    "\n",
    "        ''' macd_signal and masi intersaction and side'''\n",
    "        if i < sma:\n",
    "            r[i] = None\n",
    "        elif df.iloc[i, 8] > 0:\n",
    "            if df.iloc[i, 8] > (df.iloc[i, 7]/100 * m_per * beta) and df.iloc[i-1, 8] < (df.iloc[i, 7]/100 * m_per * beta):\n",
    "                r[i+1] = 'Long'\n",
    "            elif df.iloc[i, 8] < (df.iloc[i, 7]/100 * p_per * beta * 0.9) and df.iloc[i-1, 8] > (df.iloc[i, 7]/100 * p_per * beta * 0.9):\n",
    "                r[i+1] = 'Short'\n",
    "            elif df.iloc[i, 8] > (df.iloc[i, 7]/100 * p_per * beta) and df.iloc[i-1, 8] < (df.iloc[i, 7]/100 * p_per * beta):\n",
    "                r[i+1] = 'Long'\n",
    "            elif df.iloc[i, 8] < (df.iloc[i, 7]/100 * m_per * beta * 0.9) and df.iloc[i-1, 8] > (df.iloc[i, 7]/100 * m_per * beta * 0.9):\n",
    "                r[i+1] = 'Short'\n",
    "            else:\n",
    "                pass\n",
    "        elif df.iloc[i, 8] < 0:\n",
    "            if df.iloc[i, 8] > (df.iloc[i, 7]/100 * m_per * beta * 0.9) and df.iloc[i-1, 8] < (df.iloc[i, 7]/100 * m_per * beta * 0.9):\n",
    "                r[i+1] = 'Long'\n",
    "            elif df.iloc[i, 8] < (df.iloc[i, 7]/100 * p_per * beta) and df.iloc[i-1, 8] > (df.iloc[i, 7]/100 * p_per * beta):\n",
    "                r[i+1] = 'Short'\n",
    "            elif df.iloc[i, 8] > (df.iloc[i, 7]/100 * p_per * beta * 0.9) and df.iloc[i-1, 8] < (df.iloc[i, 7]/100 * p_per * beta * 0.9):\n",
    "                r[i+1] = 'Long'\n",
    "            elif df.iloc[i, 8] < (df.iloc[i, 7]/100 * m_per * beta) and df.iloc[i-1, 8] > (df.iloc[i, 7]/100 * m_per * beta):\n",
    "                r[i+1] = 'Short'\n",
    "            else:\n",
    "                pass\n",
    "        else:\n",
    "            pass\n",
    "        \n",
    "        \n",
    "    except:\n",
    "        pass\n",
    "\n",
    "df['Signal'] = r\n",
    "df.tail(3)"
   ]
  },
  {
   "cell_type": "markdown",
   "id": "b9e97e5b-949e-4f74-9dc3-abc5f4b986f6",
   "metadata": {},
   "source": [
    "Закрытие пробелов "
   ]
  },
  {
   "cell_type": "code",
   "execution_count": 9,
   "id": "5da017c3-659b-4a5b-8c8f-5ad5a508edda",
   "metadata": {
    "jupyter": {
     "source_hidden": true
    },
    "tags": []
   },
   "outputs": [
    {
     "data": {
      "text/html": [
       "<div>\n",
       "<style scoped>\n",
       "    .dataframe tbody tr th:only-of-type {\n",
       "        vertical-align: middle;\n",
       "    }\n",
       "\n",
       "    .dataframe tbody tr th {\n",
       "        vertical-align: top;\n",
       "    }\n",
       "\n",
       "    .dataframe thead th {\n",
       "        text-align: right;\n",
       "    }\n",
       "</style>\n",
       "<table border=\"1\" class=\"dataframe\">\n",
       "  <thead>\n",
       "    <tr style=\"text-align: right;\">\n",
       "      <th></th>\n",
       "      <th>^GSPC</th>\n",
       "      <th>% update ^GSPC</th>\n",
       "      <th>Side</th>\n",
       "      <th>Signal</th>\n",
       "      <th>ma_fast</th>\n",
       "      <th>ma_slow</th>\n",
       "      <th>macd</th>\n",
       "      <th>signal_macd</th>\n",
       "      <th>masi</th>\n",
       "    </tr>\n",
       "    <tr>\n",
       "      <th>Date</th>\n",
       "      <th></th>\n",
       "      <th></th>\n",
       "      <th></th>\n",
       "      <th></th>\n",
       "      <th></th>\n",
       "      <th></th>\n",
       "      <th></th>\n",
       "      <th></th>\n",
       "      <th></th>\n",
       "    </tr>\n",
       "  </thead>\n",
       "  <tbody>\n",
       "    <tr>\n",
       "      <th>2022-12-12</th>\n",
       "      <td>3852.360107</td>\n",
       "      <td>-2.084694</td>\n",
       "      <td>Minus</td>\n",
       "      <td>Long</td>\n",
       "      <td>3910.606569</td>\n",
       "      <td>3950.821651</td>\n",
       "      <td>-40.215082</td>\n",
       "      <td>-68.743447</td>\n",
       "      <td>28.528366</td>\n",
       "    </tr>\n",
       "    <tr>\n",
       "      <th>2022-12-19</th>\n",
       "      <td>3844.820068</td>\n",
       "      <td>-0.195725</td>\n",
       "      <td>Minus</td>\n",
       "      <td>Long</td>\n",
       "      <td>3900.485569</td>\n",
       "      <td>3942.969682</td>\n",
       "      <td>-42.484113</td>\n",
       "      <td>-63.491580</td>\n",
       "      <td>21.007468</td>\n",
       "    </tr>\n",
       "    <tr>\n",
       "      <th>2022-12-27</th>\n",
       "      <td>3819.060059</td>\n",
       "      <td>-0.669993</td>\n",
       "      <td>Minus</td>\n",
       "      <td>Long</td>\n",
       "      <td>3887.958568</td>\n",
       "      <td>3933.791191</td>\n",
       "      <td>-45.832624</td>\n",
       "      <td>-59.959789</td>\n",
       "      <td>14.127165</td>\n",
       "    </tr>\n",
       "  </tbody>\n",
       "</table>\n",
       "</div>"
      ],
      "text/plain": [
       "                  ^GSPC  % update ^GSPC   Side Signal      ma_fast      ma_slow       macd  signal_macd       masi\n",
       "Date                                                                                                              \n",
       "2022-12-12  3852.360107       -2.084694  Minus   Long  3910.606569  3950.821651 -40.215082   -68.743447  28.528366\n",
       "2022-12-19  3844.820068       -0.195725  Minus   Long  3900.485569  3942.969682 -42.484113   -63.491580  21.007468\n",
       "2022-12-27  3819.060059       -0.669993  Minus   Long  3887.958568  3933.791191 -45.832624   -59.959789  14.127165"
      ]
     },
     "execution_count": 9,
     "metadata": {},
     "output_type": "execute_result"
    }
   ],
   "source": [
    "''' заполняем пробелы '''\n",
    "r = list(df['Signal'].values)\n",
    "\n",
    "\n",
    "for i in range(len(r)):\n",
    "    if df.iloc[i, 3] == None:\n",
    "        pass\n",
    "    elif type(df.iloc[i, 3]) == str:\n",
    "        if df.iloc[i, 3] == 'Long' or df.iloc[i, 3] == 'Short':\n",
    "            pass \n",
    "        else:\n",
    "            df.iloc[i, 3] = df.iloc[i-1, 3]\n",
    "    else:\n",
    "        df.iloc[i, 3] = df.iloc[i-1, 3]\n",
    "        \n",
    "\n",
    "df.tail(3)"
   ]
  },
  {
   "cell_type": "markdown",
   "id": "93d4c8af-fb99-4546-8ba9-2840a1a7e5aa",
   "metadata": {},
   "source": [
    "Result module"
   ]
  },
  {
   "cell_type": "code",
   "execution_count": 10,
   "id": "b327f2b4-f796-42b0-bbef-f0129acf6bd6",
   "metadata": {
    "tags": []
   },
   "outputs": [
    {
     "data": {
      "text/plain": [
       "True     119\n",
       "False     97\n",
       "Name: Result, dtype: int64"
      ]
     },
     "execution_count": 10,
     "metadata": {},
     "output_type": "execute_result"
    }
   ],
   "source": [
    "r = list(df[f'% update {market_ticker}'].values)\n",
    "\n",
    "for i in range(len(r)):\n",
    "    try:\n",
    "        if df.iloc[i, 2] == 'Minus' and df.iloc[i, 3] == 'Short':\n",
    "            r[i] = True\n",
    "        elif df.iloc[i, 2] == 'Plus' and df.iloc[i, 3] == 'Long':    \n",
    "            r[i] = True\n",
    "        elif df.iloc[i, 2] == 'Minus' and df.iloc[i, 3] == 'Long':    \n",
    "            r[i] = False  \n",
    "        elif df.iloc[i, 2] == 'Plus' and df.iloc[i, 3] == 'Short':    \n",
    "            r[i] = False \n",
    "        else:\n",
    "            r[i] = None\n",
    "    except:\n",
    "        pass\n",
    "    \n",
    "df['Result'] = r\n",
    "df['Result'].value_counts()\n",
    "# df.tail(300)\n",
    "# df.head(300)"
   ]
  },
  {
   "cell_type": "markdown",
   "id": "6d220781-cd4f-41f9-b918-1063109e12bc",
   "metadata": {},
   "source": [
    "Sum"
   ]
  },
  {
   "cell_type": "code",
   "execution_count": 11,
   "id": "7bcb0376-41d6-4655-873c-d5e326ae9e0b",
   "metadata": {
    "tags": []
   },
   "outputs": [
    {
     "data": {
      "text/plain": [
       "27.406117405300208"
      ]
     },
     "execution_count": 11,
     "metadata": {},
     "output_type": "execute_result"
    }
   ],
   "source": [
    "r = list(df[f'% update {market_ticker}'].values)\n",
    "\n",
    "for i in range(len(r)):\n",
    "    try:\n",
    "        if df.iloc[i, 3] == 'Short':\n",
    "            r[i] = (df.iloc[i, 1] * -1)\n",
    "        elif df.iloc[i, 3] == 'Long':\n",
    "            r[i] = df.iloc[i, 1]\n",
    "        else:\n",
    "            r[i] = 0\n",
    "    except:\n",
    "        pass\n",
    "    \n",
    "df['Sum'] = r\n",
    "df['Sum'].sum()\n",
    "# df.tail(100)"
   ]
  },
  {
   "cell_type": "code",
   "execution_count": 12,
   "id": "aa5848f6-6a95-44ec-8135-7eac894d565f",
   "metadata": {},
   "outputs": [],
   "source": [
    "df1 = df.reset_index(drop=True)"
   ]
  },
  {
   "cell_type": "code",
   "execution_count": 13,
   "id": "f9721b3f-6c0f-48ee-af65-6904412daf9a",
   "metadata": {
    "tags": []
   },
   "outputs": [],
   "source": [
    "r = list(df1[f'% update {market_ticker}'].values)\n",
    "\n",
    "for i in range(len(r)):\n",
    "    try:\n",
    "        if df.iloc[i, 3] == 'Short':\n",
    "            r[i] = 1\n",
    "        elif df.iloc[i, 3] == 'Long':\n",
    "            r[i] = 5\n",
    "        else:\n",
    "            r[i] = 0\n",
    "    except:\n",
    "        pass\n",
    "    \n",
    "df1['bars'] = r"
   ]
  },
  {
   "cell_type": "code",
   "execution_count": 14,
   "id": "6831d71f-0ce0-47c5-a8c4-fdcdd4e8ee1f",
   "metadata": {},
   "outputs": [
    {
     "data": {
      "text/plain": [
       "[<matplotlib.lines.Line2D at 0x1163c9750>]"
      ]
     },
     "execution_count": 14,
     "metadata": {},
     "output_type": "execute_result"
    },
    {
     "data": {
      "image/png": "[encoded data removed]",
      "text/plain": [
       "<Figure size 640x480 with 1 Axes>"
      ]
     },
     "metadata": {},
     "output_type": "display_data"
    }
   ],
   "source": [
    "plt.plot(df1.index, df1[f'{market_ticker}'])"
   ]
  },
  {
   "cell_type": "code",
   "execution_count": 15,
   "id": "648780cf-2841-403f-bbf0-1f71c16aa050",
   "metadata": {},
   "outputs": [
    {
     "data": {
      "text/plain": [
       "<BarContainer object of 366 artists>"
      ]
     },
     "execution_count": 15,
     "metadata": {},
     "output_type": "execute_result"
    },
    {
     "data": {
      "image/png": "[encoded data removed]",
      "text/plain": [
       "<Figure size 640x480 with 1 Axes>"
      ]
     },
     "metadata": {},
     "output_type": "display_data"
    }
   ],
   "source": [
    "plt.bar(df1.index, df1['bars'])"
   ]
  },
  {
   "cell_type": "code",
   "execution_count": null,
   "id": "aa78fab3-fa37-475d-88a2-a5e60aeb2ee1",
   "metadata": {},
   "outputs": [],
   "source": []
  }
 ],
 "metadata": {
  "kernelspec": {
   "display_name": "Python 3 (ipykernel)",
   "language": "python",
   "name": "python3"
  },
  "language_info": {
   "codemirror_mode": {
    "name": "ipython",
    "version": 3
   },
   "file_extension": ".py",
   "mimetype": "text/x-python",
   "name": "python",
   "nbconvert_exporter": "python",
   "pygments_lexer": "ipython3",
   "version": "3.11.0"
  },
  "toc-showcode": false,
  "toc-showmarkdowntxt": true
 },
 "nbformat": 4,
 "nbformat_minor": 5
}
