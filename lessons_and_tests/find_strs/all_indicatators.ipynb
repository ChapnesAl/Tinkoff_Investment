{
 "cells": [
  {
   "cell_type": "code",
   "execution_count": 1,
   "id": "4f2e569b-277a-47c5-ad90-5f8cc5ad0e56",
   "metadata": {},
   "outputs": [],
   "source": [
    "import numpy as np\n",
    "import pandas as pd\n",
    "import yfinance as yf\n",
    "import matplotlib.pyplot as plt\n",
    "\n",
    "%matplotlib inline  "
   ]
  },
  {
   "cell_type": "code",
   "execution_count": 2,
   "id": "376c8a29-9648-4d37-866c-3a11f8960404",
   "metadata": {},
   "outputs": [],
   "source": [
    "pd.set_option('display.max_rows', 1000)\n",
    "pd.set_option('display.max_columns', 500)\n",
    "pd.set_option('display.width', 1000)"
   ]
  },
  {
   "cell_type": "markdown",
   "id": "d5c19870-cbb4-44d2-a596-622df40b3dd0",
   "metadata": {},
   "source": [
    "Basic data"
   ]
  },
  {
   "cell_type": "code",
   "execution_count": 3,
   "id": "83fdc253-7ac2-44d6-8636-dde45f53aac7",
   "metadata": {},
   "outputs": [],
   "source": [
    "''' Колонки '''\n",
    "tick = '^GSPC'\n",
    "ma1 = 30\n",
    "ma2 = 150\n",
    "\n",
    "\n",
    "''' время '''\n",
    "stime='2021-01-01'\n",
    "ftime=None\n",
    "period = '1d'  # '1d' '1wk'"
   ]
  },
  {
   "cell_type": "markdown",
   "id": "272f2e0c-4534-4831-b63d-a69f0d5556b4",
   "metadata": {},
   "source": [
    "Add ticker and grow percent"
   ]
  },
  {
   "cell_type": "code",
   "execution_count": 4,
   "id": "585aa9a9-9770-4f59-99ea-6d8ce445b888",
   "metadata": {},
   "outputs": [],
   "source": [
    "def get_data_from_ticker(tick, stime, ftime, interval=period):\n",
    "    ticker = yf.Ticker(tick)\n",
    "\n",
    "    df = ticker.history(start=stime, end=ftime, interval=interval)\n",
    "    x = pd.DataFrame(df)\n",
    "    x.rename(columns={\"Close\": tick}, inplace=True)\n",
    "    z = x.drop(columns=[\"Open\", \"High\", \"Low\", \"Volume\", \"Dividends\", \"Stock Splits\"])\n",
    "    return z\n",
    "\n",
    "df = pd.DataFrame(get_data_from_ticker(tick, stime, ftime))"
   ]
  },
  {
   "cell_type": "code",
   "execution_count": 5,
   "id": "4768a77f-e18a-4789-be56-68ad5fbe7552",
   "metadata": {},
   "outputs": [
    {
     "data": {
      "text/html": [
       "<div>\n",
       "<style scoped>\n",
       "    .dataframe tbody tr th:only-of-type {\n",
       "        vertical-align: middle;\n",
       "    }\n",
       "\n",
       "    .dataframe tbody tr th {\n",
       "        vertical-align: top;\n",
       "    }\n",
       "\n",
       "    .dataframe thead th {\n",
       "        text-align: right;\n",
       "    }\n",
       "</style>\n",
       "<table border=\"1\" class=\"dataframe\">\n",
       "  <thead>\n",
       "    <tr style=\"text-align: right;\">\n",
       "      <th></th>\n",
       "      <th>^GSPC</th>\n",
       "      <th>% update ^GSPC</th>\n",
       "    </tr>\n",
       "    <tr>\n",
       "      <th>Date</th>\n",
       "      <th></th>\n",
       "      <th></th>\n",
       "    </tr>\n",
       "  </thead>\n",
       "  <tbody>\n",
       "    <tr>\n",
       "      <th>2020-12-31</th>\n",
       "      <td>3756.070068</td>\n",
       "      <td>0.000000</td>\n",
       "    </tr>\n",
       "    <tr>\n",
       "      <th>2021-01-04</th>\n",
       "      <td>3700.649902</td>\n",
       "      <td>-1.475483</td>\n",
       "    </tr>\n",
       "    <tr>\n",
       "      <th>2021-01-05</th>\n",
       "      <td>3726.860107</td>\n",
       "      <td>0.708260</td>\n",
       "    </tr>\n",
       "  </tbody>\n",
       "</table>\n",
       "</div>"
      ],
      "text/plain": [
       "                  ^GSPC  % update ^GSPC\n",
       "Date                                   \n",
       "2020-12-31  3756.070068        0.000000\n",
       "2021-01-04  3700.649902       -1.475483\n",
       "2021-01-05  3726.860107        0.708260"
      ]
     },
     "execution_count": 5,
     "metadata": {},
     "output_type": "execute_result"
    }
   ],
   "source": [
    "def add_percent_update(tick):\n",
    "    \"\"\" date stock's or market's update\"\"\"\n",
    "    gf_copy = df.copy(deep=True)\n",
    "    gf_copy = pd.DataFrame(gf_copy.drop(df.index[0]))\n",
    "    gf_copy_v = gf_copy[tick].values\n",
    "    gf_v = df.copy(deep=True)\n",
    "    gf_vv = gf_v[tick].values\n",
    "\n",
    "    for i in range(len(gf_copy)):\n",
    "        gf_vv[i] = (gf_copy_v[i] - gf_vv[i]) / (gf_vv[i] / 100)\n",
    "\n",
    "    gf_vv = np.insert(gf_vv, 0, 0)\n",
    "    gf_vv = np.delete(gf_vv, -1)\n",
    "    return gf_vv\n",
    "\n",
    "df[f\"% update {tick}\"] = add_percent_update(tick)\n",
    "# gf[f\"% update {st}\"] = add_percent_update(st)\n",
    "\n",
    "# df = df[[f\"% update {tick}\", tick]]\n",
    "df.head(3)"
   ]
  },
  {
   "cell_type": "markdown",
   "id": "f3ea27d1-9b8f-491a-82cb-0af2dbe0409a",
   "metadata": {},
   "source": [
    "Plus and minus "
   ]
  },
  {
   "cell_type": "code",
   "execution_count": 6,
   "id": "ad9b3113-1fbb-4ab8-a021-00d0f8d06618",
   "metadata": {},
   "outputs": [],
   "source": [
    "r = list(df[f'% update {tick}'].values)\n",
    "\n",
    "for i in range(len(r)):\n",
    "    if df.iloc[i, 1] > 0:\n",
    "        r[i] = 'Plus'\n",
    "    else:\n",
    "        r[i] = 'Minus'\n",
    "        \n",
    "df['Side'] = r "
   ]
  },
  {
   "cell_type": "markdown",
   "id": "24567461-e8d5-4208-af31-23f9206ee592",
   "metadata": {},
   "source": [
    "MA"
   ]
  },
  {
   "cell_type": "code",
   "execution_count": 11,
   "id": "ac595211-f41a-4c47-b589-186c9707c96d",
   "metadata": {},
   "outputs": [],
   "source": [
    "ma1 = 12\n",
    "ma2 = 26\n",
    "\n",
    "def add_ma(df, num):\n",
    "    x = df.columns[0]\n",
    "    df[f'ma_{num}'] = df[x].ewm(span=num, adjust=False).mean()\n",
    "    return df    \n",
    "\n",
    "try:\n",
    "    df = add_ma(df, ma1)\n",
    "    df = add_ma(df, ma2)\n",
    "except:\n",
    "    df = add_ma(df, ma1)\n",
    "finally:\n",
    "    pass\n",
    "\n",
    "# df.head(5)"
   ]
  },
  {
   "cell_type": "markdown",
   "id": "9473c19f-ddec-4883-893d-9198fbb6b06d",
   "metadata": {},
   "source": [
    "Exponentially-weighted MA "
   ]
  },
  {
   "cell_type": "code",
   "execution_count": null,
   "id": "e1ff7111-57a9-40c8-9921-38414fdb5f0b",
   "metadata": {},
   "outputs": [],
   "source": []
  },
  {
   "cell_type": "markdown",
   "id": "da654aff-dc05-49d9-aa71-a5d0b1702c22",
   "metadata": {},
   "source": [
    "MACD"
   ]
  },
  {
   "cell_type": "code",
   "execution_count": 10,
   "id": "aaee9527-9b4f-40fb-a95f-546350d64a27",
   "metadata": {},
   "outputs": [
    {
     "data": {
      "text/html": [
       "<div>\n",
       "<style scoped>\n",
       "    .dataframe tbody tr th:only-of-type {\n",
       "        vertical-align: middle;\n",
       "    }\n",
       "\n",
       "    .dataframe tbody tr th {\n",
       "        vertical-align: top;\n",
       "    }\n",
       "\n",
       "    .dataframe thead th {\n",
       "        text-align: right;\n",
       "    }\n",
       "</style>\n",
       "<table border=\"1\" class=\"dataframe\">\n",
       "  <thead>\n",
       "    <tr style=\"text-align: right;\">\n",
       "      <th></th>\n",
       "      <th>^GSPC</th>\n",
       "      <th>% update ^GSPC</th>\n",
       "      <th>Side</th>\n",
       "      <th>ma_12</th>\n",
       "      <th>ma_26</th>\n",
       "      <th>macd</th>\n",
       "      <th>signal_macd</th>\n",
       "      <th>masi</th>\n",
       "    </tr>\n",
       "    <tr>\n",
       "      <th>Date</th>\n",
       "      <th></th>\n",
       "      <th></th>\n",
       "      <th></th>\n",
       "      <th></th>\n",
       "      <th></th>\n",
       "      <th></th>\n",
       "      <th></th>\n",
       "      <th></th>\n",
       "    </tr>\n",
       "  </thead>\n",
       "  <tbody>\n",
       "    <tr>\n",
       "      <th>2020-12-31</th>\n",
       "      <td>3756.070068</td>\n",
       "      <td>0.000000</td>\n",
       "      <td>Minus</td>\n",
       "      <td>3756.070068</td>\n",
       "      <td>3756.070068</td>\n",
       "      <td>0.000000</td>\n",
       "      <td>0.000000</td>\n",
       "      <td>0.000000</td>\n",
       "    </tr>\n",
       "    <tr>\n",
       "      <th>2021-01-04</th>\n",
       "      <td>3700.649902</td>\n",
       "      <td>-1.475483</td>\n",
       "      <td>Minus</td>\n",
       "      <td>3747.543889</td>\n",
       "      <td>3751.964871</td>\n",
       "      <td>-4.420982</td>\n",
       "      <td>-0.884196</td>\n",
       "      <td>-3.536786</td>\n",
       "    </tr>\n",
       "    <tr>\n",
       "      <th>2021-01-05</th>\n",
       "      <td>3726.860107</td>\n",
       "      <td>0.708260</td>\n",
       "      <td>Plus</td>\n",
       "      <td>3744.361769</td>\n",
       "      <td>3750.105259</td>\n",
       "      <td>-5.743490</td>\n",
       "      <td>-1.856055</td>\n",
       "      <td>-3.887435</td>\n",
       "    </tr>\n",
       "  </tbody>\n",
       "</table>\n",
       "</div>"
      ],
      "text/plain": [
       "                  ^GSPC  % update ^GSPC   Side        ma_12        ma_26      macd  signal_macd      masi\n",
       "Date                                                                                                     \n",
       "2020-12-31  3756.070068        0.000000  Minus  3756.070068  3756.070068  0.000000     0.000000  0.000000\n",
       "2021-01-04  3700.649902       -1.475483  Minus  3747.543889  3751.964871 -4.420982    -0.884196 -3.536786\n",
       "2021-01-05  3726.860107        0.708260   Plus  3744.361769  3750.105259 -5.743490    -1.856055 -3.887435"
      ]
     },
     "execution_count": 10,
     "metadata": {},
     "output_type": "execute_result"
    }
   ],
   "source": [
    "ma_macd_1 = 12\n",
    "ma_macd_2 = 26\n",
    "\n",
    "def add_macd(df, ma_macd_1, ma_macd_2):\n",
    "    x = df.columns[0]\n",
    "    df[f'ma_{ma_macd_1}'] = df[x].ewm(span=ma_macd_1, adjust=False).mean()\n",
    "    df[f'ma_{ma_macd_2}'] = df[x].ewm(span=ma_macd_2, adjust=False).mean()\n",
    "    df['macd'] = df[f'ma_{ma_macd_1}'] - df[f'ma_{ma_macd_2}']\n",
    "    df['signal_macd'] = df['macd'].ewm(span=9, adjust=False).mean()\n",
    "    df['masi'] = df['macd'] - df['signal_macd']\n",
    "    return df\n",
    "\n",
    "df = add_macd(df, ma_macd_1, ma_macd_2)\n",
    "\n",
    "df.head(3)"
   ]
  },
  {
   "cell_type": "code",
   "execution_count": null,
   "id": "9cabe6a2-e803-444c-a6bb-abdfeed46512",
   "metadata": {},
   "outputs": [],
   "source": []
  }
 ],
 "metadata": {
  "kernelspec": {
   "display_name": "Python 3 (ipykernel)",
   "language": "python",
   "name": "python3"
  },
  "language_info": {
   "codemirror_mode": {
    "name": "ipython",
    "version": 3
   },
   "file_extension": ".py",
   "mimetype": "text/x-python",
   "name": "python",
   "nbconvert_exporter": "python",
   "pygments_lexer": "ipython3",
   "version": "3.10.4"
  }
 },
 "nbformat": 4,
 "nbformat_minor": 5
}
