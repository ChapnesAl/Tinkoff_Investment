{
 "cells": [
  {
   "cell_type": "code",
   "execution_count": 12,
   "id": "e79288aa-d6da-4792-84e7-e05312fcc643",
   "metadata": {},
   "outputs": [],
   "source": [
    "import numpy as np\n",
    "import pandas as pd\n",
    "import yfinance as yf\n",
    "import matplotlib.pyplot as plt\n",
    "\n",
    "%matplotlib inline  "
   ]
  },
  {
   "cell_type": "code",
   "execution_count": 13,
   "id": "502ef5ef-252e-4720-b1fb-05f487026f17",
   "metadata": {},
   "outputs": [],
   "source": [
    "pd.set_option('display.max_rows', 1000)\n",
    "pd.set_option('display.max_columns', 500)\n",
    "pd.set_option('display.width', 1000)"
   ]
  },
  {
   "cell_type": "code",
   "execution_count": 17,
   "id": "bd2142bf-415f-4a3d-af95-de3e039a3555",
   "metadata": {},
   "outputs": [],
   "source": [
    "tick = '^GSPC'\n",
    "\n",
    "stime='2016-01-01'\n",
    "ftime=None"
   ]
  },
  {
   "cell_type": "code",
   "execution_count": 18,
   "id": "f8a18b15-43d8-4abc-99e8-f7d59fb0a4e1",
   "metadata": {},
   "outputs": [
    {
     "data": {
      "text/html": [
       "<div>\n",
       "<style scoped>\n",
       "    .dataframe tbody tr th:only-of-type {\n",
       "        vertical-align: middle;\n",
       "    }\n",
       "\n",
       "    .dataframe tbody tr th {\n",
       "        vertical-align: top;\n",
       "    }\n",
       "\n",
       "    .dataframe thead th {\n",
       "        text-align: right;\n",
       "    }\n",
       "</style>\n",
       "<table border=\"1\" class=\"dataframe\">\n",
       "  <thead>\n",
       "    <tr style=\"text-align: right;\">\n",
       "      <th></th>\n",
       "      <th>^GSPC</th>\n",
       "    </tr>\n",
       "    <tr>\n",
       "      <th>Date</th>\n",
       "      <th></th>\n",
       "    </tr>\n",
       "  </thead>\n",
       "  <tbody>\n",
       "    <tr>\n",
       "      <th>2016-01-04 00:00:00-05:00</th>\n",
       "      <td>2012.660034</td>\n",
       "    </tr>\n",
       "    <tr>\n",
       "      <th>2016-01-05 00:00:00-05:00</th>\n",
       "      <td>2016.709961</td>\n",
       "    </tr>\n",
       "    <tr>\n",
       "      <th>2016-01-06 00:00:00-05:00</th>\n",
       "      <td>1990.260010</td>\n",
       "    </tr>\n",
       "    <tr>\n",
       "      <th>2016-01-07 00:00:00-05:00</th>\n",
       "      <td>1943.089966</td>\n",
       "    </tr>\n",
       "    <tr>\n",
       "      <th>2016-01-08 00:00:00-05:00</th>\n",
       "      <td>1922.030029</td>\n",
       "    </tr>\n",
       "    <tr>\n",
       "      <th>...</th>\n",
       "      <td>...</td>\n",
       "    </tr>\n",
       "    <tr>\n",
       "      <th>2022-12-22 00:00:00-05:00</th>\n",
       "      <td>3822.389893</td>\n",
       "    </tr>\n",
       "    <tr>\n",
       "      <th>2022-12-23 00:00:00-05:00</th>\n",
       "      <td>3844.820068</td>\n",
       "    </tr>\n",
       "    <tr>\n",
       "      <th>2022-12-27 00:00:00-05:00</th>\n",
       "      <td>3829.250000</td>\n",
       "    </tr>\n",
       "    <tr>\n",
       "      <th>2022-12-28 00:00:00-05:00</th>\n",
       "      <td>3783.219971</td>\n",
       "    </tr>\n",
       "    <tr>\n",
       "      <th>2022-12-29 00:00:00-05:00</th>\n",
       "      <td>3849.280029</td>\n",
       "    </tr>\n",
       "  </tbody>\n",
       "</table>\n",
       "<p>1761 rows × 1 columns</p>\n",
       "</div>"
      ],
      "text/plain": [
       "                                 ^GSPC\n",
       "Date                                  \n",
       "2016-01-04 00:00:00-05:00  2012.660034\n",
       "2016-01-05 00:00:00-05:00  2016.709961\n",
       "2016-01-06 00:00:00-05:00  1990.260010\n",
       "2016-01-07 00:00:00-05:00  1943.089966\n",
       "2016-01-08 00:00:00-05:00  1922.030029\n",
       "...                                ...\n",
       "2022-12-22 00:00:00-05:00  3822.389893\n",
       "2022-12-23 00:00:00-05:00  3844.820068\n",
       "2022-12-27 00:00:00-05:00  3829.250000\n",
       "2022-12-28 00:00:00-05:00  3783.219971\n",
       "2022-12-29 00:00:00-05:00  3849.280029\n",
       "\n",
       "[1761 rows x 1 columns]"
      ]
     },
     "execution_count": 18,
     "metadata": {},
     "output_type": "execute_result"
    }
   ],
   "source": [
    "def get_data_from_ticker(tick, stime, ftime, interval='1d'):\n",
    "    ticker = yf.Ticker(tick)\n",
    "\n",
    "    # df = ticker.history(start=stime, end=ftime, interval=interval)\n",
    "    x = pd.DataFrame(df)\n",
    "    # x.rename(columns={\"Close\": tick}, inplace=True)\n",
    "    # z = x.drop(columns=[\"Open\", \"High\", \"Low\", \"Volume\", \"Dividends\", \"Stock Splits\"])\n",
    "    return x\n",
    "\n",
    "df = pd.DataFrame(get_data_from_ticker(tick, stime, ftime))\n",
    "\n",
    "\n",
    "\n",
    "df"
   ]
  },
  {
   "cell_type": "code",
   "execution_count": 19,
   "id": "a290b3bf-8db6-46e0-93db-ebba1be7ffe8",
   "metadata": {},
   "outputs": [
    {
     "data": {
      "text/html": [
       "<div>\n",
       "<style scoped>\n",
       "    .dataframe tbody tr th:only-of-type {\n",
       "        vertical-align: middle;\n",
       "    }\n",
       "\n",
       "    .dataframe tbody tr th {\n",
       "        vertical-align: top;\n",
       "    }\n",
       "\n",
       "    .dataframe thead th {\n",
       "        text-align: right;\n",
       "    }\n",
       "</style>\n",
       "<table border=\"1\" class=\"dataframe\">\n",
       "  <thead>\n",
       "    <tr style=\"text-align: right;\">\n",
       "      <th></th>\n",
       "      <th>^GSPC</th>\n",
       "      <th>% update ^GSPC</th>\n",
       "    </tr>\n",
       "    <tr>\n",
       "      <th>Date</th>\n",
       "      <th></th>\n",
       "      <th></th>\n",
       "    </tr>\n",
       "  </thead>\n",
       "  <tbody>\n",
       "    <tr>\n",
       "      <th>2016-01-04 00:00:00-05:00</th>\n",
       "      <td>2012.660034</td>\n",
       "      <td>0.000000</td>\n",
       "    </tr>\n",
       "    <tr>\n",
       "      <th>2016-01-05 00:00:00-05:00</th>\n",
       "      <td>2016.709961</td>\n",
       "      <td>0.201223</td>\n",
       "    </tr>\n",
       "    <tr>\n",
       "      <th>2016-01-06 00:00:00-05:00</th>\n",
       "      <td>1990.260010</td>\n",
       "      <td>-1.311540</td>\n",
       "    </tr>\n",
       "  </tbody>\n",
       "</table>\n",
       "</div>"
      ],
      "text/plain": [
       "                                 ^GSPC  % update ^GSPC\n",
       "Date                                                  \n",
       "2016-01-04 00:00:00-05:00  2012.660034        0.000000\n",
       "2016-01-05 00:00:00-05:00  2016.709961        0.201223\n",
       "2016-01-06 00:00:00-05:00  1990.260010       -1.311540"
      ]
     },
     "execution_count": 19,
     "metadata": {},
     "output_type": "execute_result"
    }
   ],
   "source": [
    "def add_percent_update(tick):\n",
    "    \"\"\" date stock's or market's update\"\"\"\n",
    "    gf_copy = df.copy(deep=True)\n",
    "    gf_copy = pd.DataFrame(gf_copy.drop(df.index[0]))\n",
    "    gf_copy_v = gf_copy[tick].values\n",
    "    gf_v = df.copy(deep=True)\n",
    "    gf_vv = gf_v[tick].values\n",
    "\n",
    "    for i in range(len(gf_copy)):\n",
    "        gf_vv[i] = (gf_copy_v[i] - gf_vv[i]) / (gf_vv[i] / 100)\n",
    "\n",
    "    gf_vv = np.insert(gf_vv, 0, 0)\n",
    "    gf_vv = np.delete(gf_vv, -1)\n",
    "    return gf_vv\n",
    "\n",
    "df[f\"% update {tick}\"] = add_percent_update(tick)\n",
    "# gf[f\"% update {st}\"] = add_percent_update(st)\n",
    "\n",
    "df.head(3)"
   ]
  },
  {
   "cell_type": "markdown",
   "id": "f679ec3e-29a4-41e0-9ca7-b05cf390a0a5",
   "metadata": {},
   "source": [
    "Get consistent"
   ]
  },
  {
   "cell_type": "code",
   "execution_count": 20,
   "id": "cc5968f1-f01f-4d4f-b485-4e69e81f1e44",
   "metadata": {},
   "outputs": [
    {
     "data": {
      "text/html": [
       "<div>\n",
       "<style scoped>\n",
       "    .dataframe tbody tr th:only-of-type {\n",
       "        vertical-align: middle;\n",
       "    }\n",
       "\n",
       "    .dataframe tbody tr th {\n",
       "        vertical-align: top;\n",
       "    }\n",
       "\n",
       "    .dataframe thead th {\n",
       "        text-align: right;\n",
       "    }\n",
       "</style>\n",
       "<table border=\"1\" class=\"dataframe\">\n",
       "  <thead>\n",
       "    <tr style=\"text-align: right;\">\n",
       "      <th></th>\n",
       "      <th>^GSPC</th>\n",
       "      <th>% update ^GSPC</th>\n",
       "      <th>consistent</th>\n",
       "    </tr>\n",
       "    <tr>\n",
       "      <th>Date</th>\n",
       "      <th></th>\n",
       "      <th></th>\n",
       "      <th></th>\n",
       "    </tr>\n",
       "  </thead>\n",
       "  <tbody>\n",
       "    <tr>\n",
       "      <th>2022-12-22 00:00:00-05:00</th>\n",
       "      <td>3822.389893</td>\n",
       "      <td>-1.445170</td>\n",
       "      <td>[m, m, m, m]</td>\n",
       "    </tr>\n",
       "    <tr>\n",
       "      <th>2022-12-23 00:00:00-05:00</th>\n",
       "      <td>3844.820068</td>\n",
       "      <td>0.586810</td>\n",
       "      <td>[l, m, m, m]</td>\n",
       "    </tr>\n",
       "    <tr>\n",
       "      <th>2022-12-27 00:00:00-05:00</th>\n",
       "      <td>3829.250000</td>\n",
       "      <td>-0.404962</td>\n",
       "      <td>[m, l, m, m]</td>\n",
       "    </tr>\n",
       "    <tr>\n",
       "      <th>2022-12-28 00:00:00-05:00</th>\n",
       "      <td>3783.219971</td>\n",
       "      <td>-1.202064</td>\n",
       "      <td>[l, m, l, m]</td>\n",
       "    </tr>\n",
       "    <tr>\n",
       "      <th>2022-12-29 00:00:00-05:00</th>\n",
       "      <td>3849.280029</td>\n",
       "      <td>1.746133</td>\n",
       "      <td>[l, l, m, l]</td>\n",
       "    </tr>\n",
       "  </tbody>\n",
       "</table>\n",
       "</div>"
      ],
      "text/plain": [
       "                                 ^GSPC  % update ^GSPC    consistent\n",
       "Date                                                                \n",
       "2022-12-22 00:00:00-05:00  3822.389893       -1.445170  [m, m, m, m]\n",
       "2022-12-23 00:00:00-05:00  3844.820068        0.586810  [l, m, m, m]\n",
       "2022-12-27 00:00:00-05:00  3829.250000       -0.404962  [m, l, m, m]\n",
       "2022-12-28 00:00:00-05:00  3783.219971       -1.202064  [l, m, l, m]\n",
       "2022-12-29 00:00:00-05:00  3849.280029        1.746133  [l, l, m, l]"
      ]
     },
     "execution_count": 20,
     "metadata": {},
     "output_type": "execute_result"
    }
   ],
   "source": [
    "deep = 4\n",
    "type_str = 'vertical_more_or_low'\n",
    "\n",
    "def analyse_f(df, type_str, deep):\n",
    "    deep += 1\n",
    "    # r = list(df.iloc[:,0].values)\n",
    "    r =  []\n",
    "    if type_str == 'vertical_more_or_low':\n",
    "        for i in range(len(df[f'{tick}'])):\n",
    "            if i <= deep:\n",
    "                # r[i] = 0\n",
    "                r.append(0)\n",
    "            else:    \n",
    "                l = []\n",
    "                for y in range(deep):\n",
    "                    if y == 0: \n",
    "                        pass\n",
    "                    elif y > 0:\n",
    "                        if df.iloc[i-y, 1] > df.iloc[i-1-y, 1]:\n",
    "                            x = 'm'\n",
    "                            l.append(x)\n",
    "                        else:\n",
    "                            x = 'l'\n",
    "                            l.append(x)\n",
    "                    else:\n",
    "                        pass\n",
    "                r.append(l)\n",
    "    else:\n",
    "        pass\n",
    "    return r \n",
    "        \n",
    "\n",
    "\n",
    "df['consistent'] = analyse_f(df, type_str, deep)        \n",
    "df.tail(5)        "
   ]
  },
  {
   "cell_type": "markdown",
   "id": "38d50eb1-9448-4544-9288-a49e0ffaa11b",
   "metadata": {},
   "source": [
    "Поиск наиболее эффективных значений"
   ]
  },
  {
   "cell_type": "code",
   "execution_count": 7,
   "id": "52b97294-241b-40ed-9aba-0818a05b080a",
   "metadata": {},
   "outputs": [],
   "source": [
    "# df['consistent'] = df['consistent'].astype(str)"
   ]
  },
  {
   "cell_type": "code",
   "execution_count": 21,
   "id": "ef32a835-c8c3-41d9-a97c-3dd0397002da",
   "metadata": {},
   "outputs": [
    {
     "data": {
      "text/plain": [
       "[\"Сумма ['m', 'm', 'l', 'l'] = -5.303216510624626\",\n",
       " \"Сумма ['m', 'm', 'm', 'l'] = 4.789378740481935\",\n",
       " \"Сумма ['l', 'm', 'm', 'm'] = 12.47497578070909\",\n",
       " \"Сумма ['m', 'l', 'm', 'm'] = 8.372424101573749\",\n",
       " \"Сумма ['l', 'm', 'l', 'm'] = 25.606815172832913\",\n",
       " \"Сумма ['m', 'l', 'm', 'l'] = 34.27842321610677\",\n",
       " \"Сумма ['m', 'm', 'l', 'm'] = -5.795953670367128\",\n",
       " \"Сумма ['l', 'm', 'm', 'l'] = -2.1885508824522963\",\n",
       " \"Сумма ['l', 'l', 'm', 'm'] = -3.414677277385815\",\n",
       " \"Сумма ['m', 'l', 'l', 'm'] = -23.24094569082208\",\n",
       " \"Сумма ['l', 'm', 'l', 'l'] = 21.671441926725628\",\n",
       " \"Сумма ['l', 'l', 'm', 'l'] = 13.518854788236062\",\n",
       " \"Сумма ['l', 'l', 'l', 'm'] = 6.941544043260217\",\n",
       " \"Сумма ['m', 'l', 'l', 'l'] = -6.209267789696968\",\n",
       " \"Сумма ['l', 'l', 'l', 'l'] = 5.574926360380049\",\n",
       " \"Сумма ['m', 'm', 'm', 'm'] = -4.6786235146594155\"]"
      ]
     },
     "execution_count": 21,
     "metadata": {},
     "output_type": "execute_result"
    }
   ],
   "source": [
    "''' Переводим в str чтобы дальше можно было сравнить '''\n",
    "df['consistent'] = df['consistent'].astype(str)\n",
    "\n",
    "''' Выбираем уникальные '''\n",
    "\n",
    "df_un = df['consistent'].copy()\n",
    "df_un = df_un.drop_duplicates()\n",
    "df_un = df_un.loc[df_un != \"0\"]\n",
    "set_consistens = list(df_un)\n",
    "\n",
    "''' Фильтруем по типам и получаем их суммы '''\n",
    "r = []\n",
    "for i in range(len(set_consistens)):\n",
    "    x = df.loc[(df['consistent'] == set_consistens[i])]\n",
    "    r.append(f\"Сумма {set_consistens[i]} = {x[f'% update {tick}'].sum()}\")\n",
    "r"
   ]
  },
  {
   "cell_type": "code",
   "execution_count": 9,
   "id": "bd2c3176-39d4-4c21-b303-2df2196bc4e7",
   "metadata": {},
   "outputs": [
    {
     "data": {
      "text/plain": [
       "[\"['m', 'm', 'l', 'm']\",\n",
       " \"['l', 'm', 'm', 'l']\",\n",
       " \"['m', 'l', 'm', 'm']\",\n",
       " \"['l', 'm', 'l', 'm']\",\n",
       " \"['m', 'l', 'm', 'l']\",\n",
       " \"['l', 'l', 'm', 'm']\",\n",
       " \"['m', 'l', 'l', 'm']\",\n",
       " \"['m', 'm', 'l', 'l']\",\n",
       " \"['l', 'm', 'l', 'l']\",\n",
       " \"['l', 'l', 'l', 'm']\",\n",
       " \"['m', 'l', 'l', 'l']\",\n",
       " \"['l', 'l', 'm', 'l']\",\n",
       " \"['m', 'm', 'm', 'l']\",\n",
       " \"['l', 'm', 'm', 'm']\",\n",
       " \"['l', 'l', 'l', 'l']\",\n",
       " \"['m', 'm', 'm', 'm']\"]"
      ]
     },
     "execution_count": 9,
     "metadata": {},
     "output_type": "execute_result"
    }
   ],
   "source": [
    "set_consistens"
   ]
  },
  {
   "cell_type": "code",
   "execution_count": null,
   "id": "dac1f683-6ae7-4a96-9fcc-30599fdbd12a",
   "metadata": {},
   "outputs": [],
   "source": []
  }
 ],
 "metadata": {
  "kernelspec": {
   "display_name": "Python 3 (ipykernel)",
   "language": "python",
   "name": "python3"
  },
  "language_info": {
   "codemirror_mode": {
    "name": "ipython",
    "version": 3
   },
   "file_extension": ".py",
   "mimetype": "text/x-python",
   "name": "python",
   "nbconvert_exporter": "python",
   "pygments_lexer": "ipython3",
   "version": "3.11.0"
  }
 },
 "nbformat": 4,
 "nbformat_minor": 5
}
