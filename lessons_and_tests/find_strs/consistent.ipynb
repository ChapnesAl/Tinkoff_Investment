{
 "cells": [
  {
   "cell_type": "code",
   "execution_count": 1,
   "id": "e79288aa-d6da-4792-84e7-e05312fcc643",
   "metadata": {},
   "outputs": [],
   "source": [
    "import numpy as np\n",
    "import pandas as pd\n",
    "import yfinance as yf\n",
    "import matplotlib.pyplot as plt\n",
    "\n",
    "%matplotlib inline  "
   ]
  },
  {
   "cell_type": "code",
   "execution_count": 2,
   "id": "502ef5ef-252e-4720-b1fb-05f487026f17",
   "metadata": {},
   "outputs": [],
   "source": [
    "pd.set_option('display.max_rows', 1000)\n",
    "pd.set_option('display.max_columns', 500)\n",
    "pd.set_option('display.width', 1000)"
   ]
  },
  {
   "cell_type": "code",
   "execution_count": 3,
   "id": "bd2142bf-415f-4a3d-af95-de3e039a3555",
   "metadata": {},
   "outputs": [],
   "source": [
    "tick = '^GSPC'\n",
    "\n",
    "stime='2020-01-01'\n",
    "ftime=None"
   ]
  },
  {
   "cell_type": "code",
   "execution_count": 4,
   "id": "f8a18b15-43d8-4abc-99e8-f7d59fb0a4e1",
   "metadata": {},
   "outputs": [
    {
     "data": {
      "text/html": [
       "<div>\n",
       "<style scoped>\n",
       "    .dataframe tbody tr th:only-of-type {\n",
       "        vertical-align: middle;\n",
       "    }\n",
       "\n",
       "    .dataframe tbody tr th {\n",
       "        vertical-align: top;\n",
       "    }\n",
       "\n",
       "    .dataframe thead th {\n",
       "        text-align: right;\n",
       "    }\n",
       "</style>\n",
       "<table border=\"1\" class=\"dataframe\">\n",
       "  <thead>\n",
       "    <tr style=\"text-align: right;\">\n",
       "      <th></th>\n",
       "      <th>^GSPC</th>\n",
       "    </tr>\n",
       "    <tr>\n",
       "      <th>Date</th>\n",
       "      <th></th>\n",
       "    </tr>\n",
       "  </thead>\n",
       "  <tbody>\n",
       "    <tr>\n",
       "      <th>2020-01-02 00:00:00-05:00</th>\n",
       "      <td>3257.850098</td>\n",
       "    </tr>\n",
       "    <tr>\n",
       "      <th>2020-01-03 00:00:00-05:00</th>\n",
       "      <td>3234.850098</td>\n",
       "    </tr>\n",
       "    <tr>\n",
       "      <th>2020-01-06 00:00:00-05:00</th>\n",
       "      <td>3246.280029</td>\n",
       "    </tr>\n",
       "  </tbody>\n",
       "</table>\n",
       "</div>"
      ],
      "text/plain": [
       "                                 ^GSPC\n",
       "Date                                  \n",
       "2020-01-02 00:00:00-05:00  3257.850098\n",
       "2020-01-03 00:00:00-05:00  3234.850098\n",
       "2020-01-06 00:00:00-05:00  3246.280029"
      ]
     },
     "execution_count": 4,
     "metadata": {},
     "output_type": "execute_result"
    }
   ],
   "source": [
    "def get_data_from_ticker(tick, stime, ftime, interval='1d'):\n",
    "    ticker = yf.Ticker(tick)\n",
    "\n",
    "    df = ticker.history(start=stime, end=ftime, interval=interval)\n",
    "    x = pd.DataFrame(df)\n",
    "    x.rename(columns={\"Close\": tick}, inplace=True)\n",
    "    z = x.drop(columns=[\"Open\", \"High\", \"Low\", \"Volume\", \"Dividends\", \"Stock Splits\"])\n",
    "    return z\n",
    "\n",
    "df = pd.DataFrame(get_data_from_ticker(market_ticker, stime, ftime))\n",
    "\n",
    "\n",
    "\n",
    "df.head(3)"
   ]
  },
  {
   "cell_type": "code",
   "execution_count": 5,
   "id": "a290b3bf-8db6-46e0-93db-ebba1be7ffe8",
   "metadata": {},
   "outputs": [
    {
     "data": {
      "text/html": [
       "<div>\n",
       "<style scoped>\n",
       "    .dataframe tbody tr th:only-of-type {\n",
       "        vertical-align: middle;\n",
       "    }\n",
       "\n",
       "    .dataframe tbody tr th {\n",
       "        vertical-align: top;\n",
       "    }\n",
       "\n",
       "    .dataframe thead th {\n",
       "        text-align: right;\n",
       "    }\n",
       "</style>\n",
       "<table border=\"1\" class=\"dataframe\">\n",
       "  <thead>\n",
       "    <tr style=\"text-align: right;\">\n",
       "      <th></th>\n",
       "      <th>^GSPC</th>\n",
       "      <th>% update ^GSPC</th>\n",
       "    </tr>\n",
       "    <tr>\n",
       "      <th>Date</th>\n",
       "      <th></th>\n",
       "      <th></th>\n",
       "    </tr>\n",
       "  </thead>\n",
       "  <tbody>\n",
       "    <tr>\n",
       "      <th>2020-01-02 00:00:00-05:00</th>\n",
       "      <td>3257.850098</td>\n",
       "      <td>0.000000</td>\n",
       "    </tr>\n",
       "    <tr>\n",
       "      <th>2020-01-03 00:00:00-05:00</th>\n",
       "      <td>3234.850098</td>\n",
       "      <td>-0.705987</td>\n",
       "    </tr>\n",
       "    <tr>\n",
       "      <th>2020-01-06 00:00:00-05:00</th>\n",
       "      <td>3246.280029</td>\n",
       "      <td>0.353337</td>\n",
       "    </tr>\n",
       "  </tbody>\n",
       "</table>\n",
       "</div>"
      ],
      "text/plain": [
       "                                 ^GSPC  % update ^GSPC\n",
       "Date                                                  \n",
       "2020-01-02 00:00:00-05:00  3257.850098        0.000000\n",
       "2020-01-03 00:00:00-05:00  3234.850098       -0.705987\n",
       "2020-01-06 00:00:00-05:00  3246.280029        0.353337"
      ]
     },
     "execution_count": 5,
     "metadata": {},
     "output_type": "execute_result"
    }
   ],
   "source": [
    "def add_percent_update(tick):\n",
    "    \"\"\" date stock's or market's update\"\"\"\n",
    "    gf_copy = df.copy(deep=True)\n",
    "    gf_copy = pd.DataFrame(gf_copy.drop(df.index[0]))\n",
    "    gf_copy_v = gf_copy[tick].values\n",
    "    gf_v = df.copy(deep=True)\n",
    "    gf_vv = gf_v[tick].values\n",
    "\n",
    "    for i in range(len(gf_copy)):\n",
    "        gf_vv[i] = (gf_copy_v[i] - gf_vv[i]) / (gf_vv[i] / 100)\n",
    "\n",
    "    gf_vv = np.insert(gf_vv, 0, 0)\n",
    "    gf_vv = np.delete(gf_vv, -1)\n",
    "    return gf_vv\n",
    "\n",
    "df[f\"% update {market_ticker}\"] = add_percent_update(market_ticker)\n",
    "# gf[f\"% update {st}\"] = add_percent_update(st)\n",
    "\n",
    "df.head(3)"
   ]
  },
  {
   "cell_type": "code",
   "execution_count": null,
   "id": "cc5968f1-f01f-4d4f-b485-4e69e81f1e44",
   "metadata": {},
   "outputs": [],
   "source": [
    "deep = 3\n",
    "type = 'vertical_more_or_low'\n",
    "\n",
    "def analyse(df, type, deep):\n",
    "    r = \n",
    "    if type == 'vertical_more_or_low':\n",
    "        for i in range(len(df[f'{tick}'])):\n",
    "            for y in deep:\n",
    "                if y == 0: \n",
    "                    pass\n",
    "                elif y > 0: \n",
    "                    \n",
    "            \n",
    "        \n",
    "        "
   ]
  }
 ],
 "metadata": {
  "kernelspec": {
   "display_name": "Python 3 (ipykernel)",
   "language": "python",
   "name": "python3"
  },
  "language_info": {
   "codemirror_mode": {
    "name": "ipython",
    "version": 3
   },
   "file_extension": ".py",
   "mimetype": "text/x-python",
   "name": "python",
   "nbconvert_exporter": "python",
   "pygments_lexer": "ipython3",
   "version": "3.11.0"
  }
 },
 "nbformat": 4,
 "nbformat_minor": 5
}
