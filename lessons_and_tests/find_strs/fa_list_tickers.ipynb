{
 "cells": [
  {
   "cell_type": "code",
   "execution_count": null,
   "id": "17270521-82a6-4471-98c0-7a5825fa7c3d",
   "metadata": {},
   "outputs": [],
   "source": [
    "import fundamentalanalysis as fa\n",
    "import numpy as np\n",
    "import pandas as pd\n",
    "import matplotlib.pyplot as plt\n",
    "import yfinance as yf\n",
    "import datetime\n",
    "\n",
    "\n",
    "%matplotlib inline  "
   ]
  },
  {
   "cell_type": "code",
   "execution_count": null,
   "id": "c8ea278b-5bf7-4a6c-b042-8c8c18ceb189",
   "metadata": {},
   "outputs": [],
   "source": [
    "''' Колонки '''\n",
    "# ticker = 'BABA'\n",
    "\n",
    "tickers_list = ['KEY', 'BAC', 'LVS', 'UAL', 'HOG']\n",
    "\n",
    "min_year = '2022'\n",
    "\n",
    "''' время '''\n",
    "stime='1999-01-01'\n",
    "ftime='2023-02-01'\n",
    "period = '1mo'  # '1d' '1wk'"
   ]
  },
  {
   "cell_type": "code",
   "execution_count": null,
   "id": "fb51e319-0175-4f05-9a49-0f473e5d6c7b",
   "metadata": {},
   "outputs": [],
   "source": [
    "def get_data_from_ticker(tick, stime, ftime, interval=period):\n",
    "    ticker = yf.Ticker(tick)\n",
    "\n",
    "    df = ticker.history(start=stime, end=ftime, interval=interval)\n",
    "    x = pd.DataFrame(df)\n",
    "    x.rename(columns={\"Close\": tick}, inplace=True)\n",
    "    z = x.drop(columns=[\"Open\", \"High\", \"Low\", \"Volume\", \"Dividends\", \"Stock Splits\"])\n",
    "    return z\n",
    "\n",
    "df = pd.DataFrame(get_data_from_ticker(ticker, stime, ftime, period))\n",
    "df.head(3)\n",
    "\n",
    "\n",
    "def change_index(df):\n",
    "    df_index = df.index.to_list()\n",
    "    for i in range(len(df_index)):\n",
    "        t = df_index[i].date()\n",
    "        df_index[i] = t.strftime('%Y-%m-%d')\n",
    "    df['Date_index'] = df_index\n",
    "    df = df.set_index('Date_index')\n",
    "    return df\n",
    "\n",
    "df = change_index(df)\n",
    "df.head(3)\n",
    "\n",
    "\n"
   ]
  },
  {
   "cell_type": "code",
   "execution_count": null,
   "id": "3c357bcc-d441-4ec9-834d-fcaf099665f4",
   "metadata": {},
   "outputs": [],
   "source": [
    "def get_key_metricks(ticker, api_key, min_year):\n",
    "    key_metrics = fa.key_metrics(ticker, api_key, period='annual')\n",
    "    df_key_metr = key_metrics.T\n",
    "    df_key_metr = df_key_metr.loc[min_year:'2000'].copy(deep=True)\n",
    "    return df_key_metr\n",
    "\n",
    "\n",
    "df_key_metr = get_key_metricks()\n",
    "\n",
    "def get_index(df):\n",
    "    index_years = df.index.to_list()\n",
    "    return index_years\n",
    "\n",
    "index_years = get_index(df_key_metr)\n",
    "\n"
   ]
  },
  {
   "cell_type": "code",
   "execution_count": null,
   "id": "25795361-6483-40b0-aaaa-c84eb26a0e2a",
   "metadata": {},
   "outputs": [],
   "source": [
    "def get_price_from_df(df, list_dates):\n",
    "    new_list = []\n",
    "    for i in range(len(list_dates)):\n",
    "        x = int(list_dates[i])\n",
    "        x += 1\n",
    "        x = str(x)\n",
    "        r = df.loc[f'{x}-01-01']\n",
    "        r = float(r)\n",
    "        new_list.append(r)\n",
    "        \n",
    "    return new_list\n",
    "        \n",
    "stock_year_prices = get_price_from_df(df, index_years)\n",
    "stock_year_prices"
   ]
  }
 ],
 "metadata": {
  "kernelspec": {
   "display_name": "Python 3 (ipykernel)",
   "language": "python",
   "name": "python3"
  },
  "language_info": {
   "codemirror_mode": {
    "name": "ipython",
    "version": 3
   },
   "file_extension": ".py",
   "mimetype": "text/x-python",
   "name": "python",
   "nbconvert_exporter": "python",
   "pygments_lexer": "ipython3",
   "version": "3.10.4"
  }
 },
 "nbformat": 4,
 "nbformat_minor": 5
}
