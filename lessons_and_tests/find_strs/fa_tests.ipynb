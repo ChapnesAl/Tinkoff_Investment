{
 "cells": [
  {
   "cell_type": "code",
   "execution_count": null,
   "id": "38fe2049-dcf3-40ad-b8b6-2082a1044326",
   "metadata": {},
   "outputs": [],
   "source": [
    "import fundamentalanalysis as fa\n",
    "import numpy as np\n",
    "import pandas as pd\n",
    "import matplotlib.pyplot as plt\n",
    "import yfinance as yf\n",
    "import datetime\n",
    "\n",
    "\n",
    "%matplotlib inline  "
   ]
  },
  {
   "cell_type": "code",
   "execution_count": null,
   "id": "ac79eb39-e350-4cb8-a2a7-2d34e2385583",
   "metadata": {},
   "outputs": [],
   "source": [
    "pd.set_option('display.max_rows', 1000)\n",
    "pd.set_option('display.max_columns', 500)\n",
    "pd.set_option('display.width', 1000)"
   ]
  },
  {
   "cell_type": "code",
   "execution_count": null,
   "id": "8428842e-f608-491a-9e0b-45fbab438691",
   "metadata": {},
   "outputs": [],
   "source": [
    "# api_key = '00ef9804fcde0edd93b1b4821ee2f06a'\n",
    "api_key = 'c81352430e2fe3c941faf0814227562b'"
   ]
  },
  {
   "cell_type": "code",
   "execution_count": null,
   "id": "4b26fb85-6357-443b-8cc6-c7d1b4dccdf8",
   "metadata": {},
   "outputs": [],
   "source": [
    "''' Колонки '''\n",
    "ticker = 'AAPL'\n",
    "# ticker = 'AAPL'\n",
    "\n",
    "\n",
    "''' время '''\n",
    "stime='1999-01-01'\n",
    "ftime='2023-02-01'\n",
    "period = '1mo'  # '1d' '1wk'"
   ]
  }
 ],
 "metadata": {
  "kernelspec": {
   "display_name": "Python 3 (ipykernel)",
   "language": "python",
   "name": "python3"
  },
  "language_info": {
   "codemirror_mode": {
    "name": "ipython",
    "version": 3
   },
   "file_extension": ".py",
   "mimetype": "text/x-python",
   "name": "python",
   "nbconvert_exporter": "python",
   "pygments_lexer": "ipython3",
   "version": "3.10.4"
  }
 },
 "nbformat": 4,
 "nbformat_minor": 5
}
