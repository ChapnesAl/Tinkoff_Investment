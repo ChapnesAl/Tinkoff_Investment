{
 "cells": [
  {
   "cell_type": "code",
   "execution_count": 1,
   "id": "38fe2049-dcf3-40ad-b8b6-2082a1044326",
   "metadata": {},
   "outputs": [],
   "source": [
    "import fundamentalanalysis as fa\n",
    "import numpy as np\n",
    "import pandas as pd\n",
    "import matplotlib.pyplot as plt\n",
    "import yfinance as yf\n",
    "import datetime\n",
    "import statistics as st\n",
    "\n",
    "%matplotlib inline  "
   ]
  },
  {
   "cell_type": "code",
   "execution_count": 2,
   "id": "ac79eb39-e350-4cb8-a2a7-2d34e2385583",
   "metadata": {},
   "outputs": [],
   "source": [
    "pd.set_option('display.max_rows', 1000)\n",
    "pd.set_option('display.max_columns', 500)\n",
    "pd.set_option('display.width', 1000)"
   ]
  },
  {
   "cell_type": "code",
   "execution_count": 3,
   "id": "8428842e-f608-491a-9e0b-45fbab438691",
   "metadata": {},
   "outputs": [],
   "source": [
    "# api_key = '00ef9804fcde0edd93b1b4821ee2f06a'\n",
    "api_key = 'c81352430e2fe3c941faf0814227562b'"
   ]
  },
  {
   "cell_type": "markdown",
   "id": "b244e38c-73ec-403e-a065-c7b961579fbc",
   "metadata": {},
   "source": [
    "data"
   ]
  },
  {
   "cell_type": "code",
   "execution_count": 4,
   "id": "4b26fb85-6357-443b-8cc6-c7d1b4dccdf8",
   "metadata": {},
   "outputs": [],
   "source": [
    "''' Колонки '''\n",
    "ticker = 'TTWO'\n",
    "# ticker = 'AAPL'\n",
    "\n",
    "required_year = '2022'\n",
    "\n",
    "\n",
    "''' время '''\n",
    "stime='1990-01-01'\n",
    "ftime='2023-02-01'\n",
    "period = '1mo'  # '1d' '1wk'"
   ]
  },
  {
   "cell_type": "code",
   "execution_count": 5,
   "id": "1dad0b8e-058e-47b8-bc16-c7de66734afb",
   "metadata": {},
   "outputs": [],
   "source": [
    "# def one_stock_analyse(ticker, api_key, required_year):\n",
    "\n",
    "#     def get_data_from_ticker(tick, interval='1mo'):\n",
    "#         ticker = yf.Ticker(tick)\n",
    "\n",
    "#         df = ticker.history(start='2017-01-01', end=None, interval=interval)\n",
    "#         x = pd.DataFrame(df)\n",
    "#         x.rename(columns={\"Close\": tick}, inplace=True)\n",
    "#         z = x.drop(columns=[\"Open\", \"High\", \"Low\", \"Volume\", \"Dividends\", \"Stock Splits\"])\n",
    "#         return z\n",
    "\n",
    "#     df = get_data_from_ticker(ticker)\n",
    "\n",
    "\n",
    "\n",
    "#     def change_index(df):\n",
    "#         df_index = df.index.to_list()\n",
    "#         for i in range(len(df_index)):\n",
    "#             t = df_index[i].date()\n",
    "#             df_index[i] = t.strftime('%Y-%m-%d')\n",
    "#         df['Date_index'] = df_index\n",
    "#         df = df.set_index('Date_index')\n",
    "#         return df\n",
    "\n",
    "#     df = change_index(df)\n",
    "\n",
    "\n",
    "#     def get_key_metricks(ticker, api_key, required_year):\n",
    "#         key_metrics = fa.key_metrics(ticker, api_key, period='annual')\n",
    "#         df_key_metr = key_metrics.T\n",
    "#         df_key_metr = df_key_metr.loc[required_year:'2000'].copy(deep=True)\n",
    "#         return df_key_metr\n",
    "\n",
    "    \n",
    "    \n",
    "#     df_key_metr = get_key_metricks(ticker, api_key, required_year)\n",
    "    \n",
    "    \n",
    "#     if df_key_metr.index[0] == required_year and f'{int(required_year)+1}-01-01' in df.index.to_list():\n",
    "#         last_year = True\n",
    "#     else:\n",
    "#         last_year = False\n",
    "\n",
    "\n",
    "\n",
    "#     def get_index(df):\n",
    "#         index_years = df.index.to_list()\n",
    "#         return index_years\n",
    "\n",
    "#     index_years = get_index(df_key_metr)\n",
    "\n",
    "\n",
    "\n",
    "#     def get_price_from_df(df, list_dates):\n",
    "#         new_list = []\n",
    "#         for i in range(len(list_dates)):\n",
    "#             x = int(list_dates[i])\n",
    "#             x += 1\n",
    "#             x = str(x)\n",
    "#             try:\n",
    "#                 r = df.loc[f'{x}-01-01']\n",
    "#                 r = float(r)\n",
    "#                 new_list.append(r)\n",
    "#             except:\n",
    "#                 new_list.append(0)\n",
    "                \n",
    "#         return new_list\n",
    "\n",
    "    \n",
    "#     stock_year_prices = get_price_from_df(df, index_years)\n",
    "\n",
    "\n",
    "#     df_key_metr[ticker] = list(stock_year_prices)\n",
    "#     df_key_metr.drop('period', axis=1, inplace=True)\n",
    "\n",
    "    \n",
    "#     def change_percent_all_columns(df):\n",
    "#         x = df.columns.to_list()\n",
    "#         for i in range(len(x)):\n",
    "#             v = df[x[i]].to_list()\n",
    "#             l = []\n",
    "#             for y in range(len(v)):\n",
    "#                 try:\n",
    "#                     if y != len(v):\n",
    "#                         vv = (v[y] / (v[y+1] / 100)) - 100\n",
    "#                         l.append(vv)\n",
    "#                     else:\n",
    "#                         vv = 0\n",
    "#                         l.append(vv)\n",
    "#                 except:\n",
    "#                     l.append(0)\n",
    "#             df[f'change % {x[i]}'] = l\n",
    "#         return df\n",
    "#     df_last = df_with_changes.reindex(index=df_with_changes.index[::-1])\n",
    "#     df_with_changes = change_percent_all_columns(df_key_metr)\n",
    "    \n",
    "    \n",
    "#     df_last = df_with_changes.reindex(index=df_with_changes.index[::-1])\n",
    "    \n",
    "    \n",
    "#     if last_year == True:\n",
    "        \n",
    "#         r = [ticker, df_with_changes[f'change % {ticker}'][-1], df_with_changes['change % debtToAssets'][-1]]\n",
    "#     else:\n",
    "#         r = None \n",
    "    \n",
    "#     df_some_columns = df_with_changes[[f'change % {ticker}', 'change % debtToAssets']]\n",
    "    \n",
    "#     mean_result = st.mean(df_some_columns[f'change % {ticker}'].to_list()[1:])    \n",
    "    \n",
    "#     return r"
   ]
  },
  {
   "cell_type": "code",
   "execution_count": 6,
   "id": "f50cc7d4-55ae-4b96-a43a-bf98ad154744",
   "metadata": {},
   "outputs": [],
   "source": [
    "def get_data_from_ticker(tick, interval='1mo'):\n",
    "        ticker = yf.Ticker(tick)\n",
    "\n",
    "        df = ticker.history(start='1990-01-01', end=None, interval=interval)\n",
    "        x = pd.DataFrame(df)\n",
    "        x.rename(columns={\"Close\": tick}, inplace=True)\n",
    "        z = x.drop(columns=[\"Open\", \"High\", \"Low\", \"Volume\", \"Dividends\", \"Stock Splits\"])\n",
    "        return z\n",
    "\n",
    "    \n",
    "df = get_data_from_ticker(ticker)\n",
    "\n",
    "\n",
    "\n",
    "def change_index(df):\n",
    "    df_index = df.index.to_list()\n",
    "    for i in range(len(df_index)):\n",
    "        t = df_index[i].date()\n",
    "        df_index[i] = t.strftime('%Y-%m-%d')\n",
    "    df['Date_index'] = df_index\n",
    "    df = df.set_index('Date_index')\n",
    "    return df\n",
    "\n",
    "df = change_index(df)\n",
    "\n",
    "\n",
    "def get_key_metricks(ticker, api_key, required_year):\n",
    "    key_metrics = fa.key_metrics(ticker, api_key, period='annual')\n",
    "    df_key_metr = key_metrics.T\n",
    "    df_key_metr = df_key_metr.loc[required_year:'2000'].copy(deep=True)\n",
    "    return df_key_metr\n",
    "\n",
    "    \n",
    "    \n",
    "df_key_metr = get_key_metricks(ticker, api_key, required_year)\n",
    "    \n",
    "    \n",
    "if df_key_metr.index[0] == required_year and f'{int(required_year)+1}-01-01' in df.index.to_list():\n",
    "    last_year = True\n",
    "else:\n",
    "    last_year = False\n",
    "\n",
    "\n",
    "\n",
    "def get_index(df):\n",
    "    index_years = df.index.to_list()\n",
    "    return index_years\n",
    "\n",
    "index_years = get_index(df_key_metr)\n",
    "\n",
    "\n",
    "\n",
    "def get_price_from_df(df, list_dates):\n",
    "    new_list = []\n",
    "    for i in range(len(list_dates)):\n",
    "        x = int(list_dates[i])\n",
    "        x += 1\n",
    "        x = str(x)\n",
    "        try:\n",
    "            r = df.loc[f'{x}-01-01']\n",
    "            r = float(r)\n",
    "            new_list.append(r)\n",
    "        except:\n",
    "            new_list.append(0)\n",
    "                \n",
    "    return new_list\n",
    "\n",
    "    \n",
    "stock_year_prices = get_price_from_df(df, index_years)\n",
    "\n",
    "\n",
    "df_key_metr[ticker] = list(stock_year_prices)\n",
    "df_key_metr.drop('period', axis=1, inplace=True)\n",
    "\n",
    "    \n",
    "def change_percent_all_columns(df):\n",
    "    x = df.columns.to_list()\n",
    "    for i in range(len(x)):\n",
    "        v = df[x[i]].to_list()\n",
    "        l = []\n",
    "        for y in range(len(v)):\n",
    "            try:\n",
    "                if y != len(v):\n",
    "                    vv = (v[y] / (v[y+1] / 100)) - 100\n",
    "                    l.append(vv)\n",
    "                else:\n",
    "                    vv = 0\n",
    "                    l.append(vv)\n",
    "            except:\n",
    "                l.append(0)\n",
    "        df[f'change % {x[i]}'] = l\n",
    "    return df\n",
    "\n",
    "df_with_changes = change_percent_all_columns(df_key_metr)\n",
    "df_with_changes = df_with_changes.reindex(index=df_with_changes.index[::-1])\n",
    "\n",
    "    \n",
    "df_some_columns = df_with_changes[[f'change % {ticker}', 'change % debtToAssets']]\n",
    "    \n",
    "    \n",
    "mean_result = st.mean(df_some_columns[f'change % {ticker}'].to_list()[1:])    \n",
    "    \n"
   ]
  },
  {
   "cell_type": "markdown",
   "id": "1fdc8238-f882-4165-b77d-98bf326f00ad",
   "metadata": {},
   "source": [
    "result"
   ]
  },
  {
   "cell_type": "code",
   "execution_count": 7,
   "id": "b9c13f8e-8d81-4188-b372-d55f561b8966",
   "metadata": {},
   "outputs": [
    {
     "data": {
      "text/plain": [
       "19.807877410531233"
      ]
     },
     "execution_count": 7,
     "metadata": {},
     "output_type": "execute_result"
    }
   ],
   "source": [
    "'''получаем среднее значение акции за указанный период'''\n",
    "mean_result"
   ]
  },
  {
   "cell_type": "code",
   "execution_count": 8,
   "id": "406e3f8f-2cea-4944-8af3-32124cf1a424",
   "metadata": {},
   "outputs": [
    {
     "data": {
      "text/plain": [
       "{24.446795739063827: [-32.5106389955785,\n",
       "  57.60065887375532,\n",
       "  54.61095200660216,\n",
       "  18.086211071476328]}"
      ]
     },
     "execution_count": 8,
     "metadata": {},
     "output_type": "execute_result"
    }
   ],
   "source": [
    "'''получаем значения акции и средняя от стратегии'''\n",
    "\n",
    "l = []\n",
    "for i in range(len(df_some_columns['change % debtToAssets'])):\n",
    "    if i <= 1:\n",
    "        pass\n",
    "    elif i == len(df_some_columns['change % debtToAssets']) - 1:\n",
    "        pass\n",
    "    elif df_with_changes[f'change % {ticker}'][i] < df_with_changes[f'change % {ticker}'][i-1] and df_with_changes['change % debtToAssets'][i] > df_with_changes['change % debtToAssets'][i-1] and df_with_changes['change % debtToAssets'][i] > df_with_changes[f'change % {ticker}'][i]:\n",
    "        l.append(df_with_changes[f'change % {ticker}'][i+1])\n",
    "    else:\n",
    "        pass     \n",
    "\n",
    "st.mean(l)\n",
    "                 \n",
    "                 \n",
    "x = {st.mean(l):l}\n",
    "x"
   ]
  },
  {
   "cell_type": "code",
   "execution_count": 9,
   "id": "fab055a8-71b0-44ab-b119-9c5eda27f720",
   "metadata": {},
   "outputs": [
    {
     "data": {
      "text/plain": [
       "[False, True, True, True]"
      ]
     },
     "execution_count": 9,
     "metadata": {},
     "output_type": "execute_result"
    }
   ],
   "source": [
    "''' получаем сколько значения было верно, сколько нет'''\n",
    "rights_l = []\n",
    "\n",
    "for i in range(len(l)):\n",
    "    if l[i] > 0:\n",
    "        rights_l.append(True)\n",
    "    else:\n",
    "        rights_l.append(False)\n",
    "    \n",
    "rights_l\n"
   ]
  },
  {
   "cell_type": "code",
   "execution_count": 10,
   "id": "b27d39f2-82dc-40df-acc1-136223a29bf1",
   "metadata": {},
   "outputs": [],
   "source": [
    "# df_some_columns.head(3)"
   ]
  },
  {
   "cell_type": "code",
   "execution_count": 11,
   "id": "d0ce33a0-7443-494b-9455-71e3bbbd1d2c",
   "metadata": {},
   "outputs": [],
   "source": [
    "# def get_results():"
   ]
  }
 ],
 "metadata": {
  "kernelspec": {
   "display_name": "Python 3 (ipykernel)",
   "language": "python",
   "name": "python3"
  },
  "language_info": {
   "codemirror_mode": {
    "name": "ipython",
    "version": 3
   },
   "file_extension": ".py",
   "mimetype": "text/x-python",
   "name": "python",
   "nbconvert_exporter": "python",
   "pygments_lexer": "ipython3",
   "version": "3.10.4"
  },
  "toc-autonumbering": true,
  "toc-showmarkdowntxt": true
 },
 "nbformat": 4,
 "nbformat_minor": 5
}
