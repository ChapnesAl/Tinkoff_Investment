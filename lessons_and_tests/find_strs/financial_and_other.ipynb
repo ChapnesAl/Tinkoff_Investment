{
 "cells": [
  {
   "cell_type": "code",
   "execution_count": 1,
   "id": "5166c20f-aefc-4922-9b7e-269d2e3d253d",
   "metadata": {},
   "outputs": [],
   "source": [
    "# ! pip install pycryptodome pycryptodomex\n",
    "# ! pip uninstall --yes pandas-datareader\n",
    "# ! pip install git+https://github.com/raphi6/pandas-datareader.git@ea66d6b981554f9d0262038aef2106dda7138316"
   ]
  },
  {
   "cell_type": "code",
   "execution_count": 6,
   "id": "bd4c37f6-3b24-42f7-8ac5-430254940659",
   "metadata": {},
   "outputs": [],
   "source": [
    "import yfinance as yf\n",
    "import pandas as pd\n",
    "import numpy as np\n",
    "\n",
    "import pandas_datareader as pdr\n"
   ]
  },
  {
   "cell_type": "code",
   "execution_count": 3,
   "id": "c9c38795-33f9-4999-a2ea-3f5b89099b78",
   "metadata": {},
   "outputs": [],
   "source": [
    "pd.set_option('display.max_rows', 1000)\n",
    "pd.set_option('display.max_columns', 500)\n",
    "pd.set_option('display.width', 1000)"
   ]
  },
  {
   "cell_type": "code",
   "execution_count": 4,
   "id": "d5476bac-b356-4d5b-bd52-f7359f2b34a0",
   "metadata": {},
   "outputs": [],
   "source": [
    "tick = \"MSFT\"\n",
    "ticker = yf.Ticker(tick)\n",
    "\n",
    "column1 = 'Total Assets'"
   ]
  },
  {
   "cell_type": "code",
   "execution_count": null,
   "id": "e92c77c6-d605-4a87-af6a-d2de82142b22",
   "metadata": {},
   "outputs": [],
   "source": [
    "pdr."
   ]
  },
  {
   "cell_type": "code",
   "execution_count": 5,
   "id": "e650e4b8-76a9-40a7-8ec3-ee9e3952df96",
   "metadata": {},
   "outputs": [
    {
     "ename": "TypeError",
     "evalue": "string indices must be integers",
     "output_type": "error",
     "traceback": [
      "\u001b[0;31m---------------------------------------------------------------------------\u001b[0m",
      "\u001b[0;31mTypeError\u001b[0m                                 Traceback (most recent call last)",
      "Cell \u001b[0;32mIn[5], line 1\u001b[0m\n\u001b[0;32m----> 1\u001b[0m df \u001b[38;5;241m=\u001b[39m \u001b[43mticker\u001b[49m\u001b[38;5;241;43m.\u001b[39;49m\u001b[43mbalance_sheet\u001b[49m\u001b[38;5;241m.\u001b[39mT\n",
      "File \u001b[0;32m~/PycharmProjects/Tinkoff_Investment/venv/lib/python3.10/site-packages/yfinance/ticker.py:182\u001b[0m, in \u001b[0;36mTicker.balance_sheet\u001b[0;34m(self)\u001b[0m\n\u001b[1;32m    180\u001b[0m \u001b[38;5;129m@property\u001b[39m\n\u001b[1;32m    181\u001b[0m \u001b[38;5;28;01mdef\u001b[39;00m \u001b[38;5;21mbalance_sheet\u001b[39m(\u001b[38;5;28mself\u001b[39m) \u001b[38;5;241m-\u001b[39m\u001b[38;5;241m>\u001b[39m _pd\u001b[38;5;241m.\u001b[39mDataFrame:\n\u001b[0;32m--> 182\u001b[0m     \u001b[38;5;28;01mreturn\u001b[39;00m \u001b[38;5;28;43mself\u001b[39;49m\u001b[38;5;241;43m.\u001b[39;49m\u001b[43mget_balance_sheet\u001b[49m\u001b[43m(\u001b[49m\u001b[43mpretty\u001b[49m\u001b[38;5;241;43m=\u001b[39;49m\u001b[38;5;28;43;01mTrue\u001b[39;49;00m\u001b[43m)\u001b[49m\n",
      "File \u001b[0;32m~/PycharmProjects/Tinkoff_Investment/venv/lib/python3.10/site-packages/yfinance/base.py:1031\u001b[0m, in \u001b[0;36mTickerBase.get_balance_sheet\u001b[0;34m(self, proxy, as_dict, pretty, freq, legacy)\u001b[0m\n\u001b[1;32m   1029\u001b[0m     data \u001b[38;5;241m=\u001b[39m \u001b[38;5;28mself\u001b[39m\u001b[38;5;241m.\u001b[39m_fundamentals\u001b[38;5;241m.\u001b[39mfinancials\u001b[38;5;241m.\u001b[39mget_balance_sheet_scrape(freq\u001b[38;5;241m=\u001b[39mfreq, proxy\u001b[38;5;241m=\u001b[39mproxy)\n\u001b[1;32m   1030\u001b[0m \u001b[38;5;28;01melse\u001b[39;00m:\n\u001b[0;32m-> 1031\u001b[0m     data \u001b[38;5;241m=\u001b[39m \u001b[38;5;28;43mself\u001b[39;49m\u001b[38;5;241;43m.\u001b[39;49m\u001b[43m_fundamentals\u001b[49m\u001b[38;5;241;43m.\u001b[39;49m\u001b[43mfinancials\u001b[49m\u001b[38;5;241;43m.\u001b[39;49m\u001b[43mget_balance_sheet_time_series\u001b[49m\u001b[43m(\u001b[49m\u001b[43mfreq\u001b[49m\u001b[38;5;241;43m=\u001b[39;49m\u001b[43mfreq\u001b[49m\u001b[43m,\u001b[49m\u001b[43m \u001b[49m\u001b[43mproxy\u001b[49m\u001b[38;5;241;43m=\u001b[39;49m\u001b[43mproxy\u001b[49m\u001b[43m)\u001b[49m\n\u001b[1;32m   1033\u001b[0m \u001b[38;5;28;01mif\u001b[39;00m pretty:\n\u001b[1;32m   1034\u001b[0m     data \u001b[38;5;241m=\u001b[39m data\u001b[38;5;241m.\u001b[39mcopy()\n",
      "File \u001b[0;32m~/PycharmProjects/Tinkoff_Investment/venv/lib/python3.10/site-packages/yfinance/scrapers/fundamentals.py:119\u001b[0m, in \u001b[0;36mFinancials.get_balance_sheet_time_series\u001b[0;34m(self, freq, proxy)\u001b[0m\n\u001b[1;32m    117\u001b[0m res \u001b[38;5;241m=\u001b[39m \u001b[38;5;28mself\u001b[39m\u001b[38;5;241m.\u001b[39m_balance_sheet_time_series\n\u001b[1;32m    118\u001b[0m \u001b[38;5;28;01mif\u001b[39;00m freq \u001b[38;5;129;01mnot\u001b[39;00m \u001b[38;5;129;01min\u001b[39;00m res:\n\u001b[0;32m--> 119\u001b[0m     res[freq] \u001b[38;5;241m=\u001b[39m \u001b[38;5;28;43mself\u001b[39;49m\u001b[38;5;241;43m.\u001b[39;49m\u001b[43m_fetch_time_series\u001b[49m\u001b[43m(\u001b[49m\u001b[38;5;124;43m\"\u001b[39;49m\u001b[38;5;124;43mbalance-sheet\u001b[39;49m\u001b[38;5;124;43m\"\u001b[39;49m\u001b[43m,\u001b[49m\u001b[43m \u001b[49m\u001b[43mfreq\u001b[49m\u001b[43m,\u001b[49m\u001b[43m \u001b[49m\u001b[43mproxy\u001b[49m\u001b[38;5;241;43m=\u001b[39;49m\u001b[38;5;28;43;01mNone\u001b[39;49;00m\u001b[43m)\u001b[49m\n\u001b[1;32m    120\u001b[0m \u001b[38;5;28;01mreturn\u001b[39;00m res[freq]\n",
      "File \u001b[0;32m~/PycharmProjects/Tinkoff_Investment/venv/lib/python3.10/site-packages/yfinance/scrapers/fundamentals.py:142\u001b[0m, in \u001b[0;36mFinancials._fetch_time_series\u001b[0;34m(self, name, timescale, proxy)\u001b[0m\n\u001b[1;32m    139\u001b[0m     \u001b[38;5;28;01mraise\u001b[39;00m \u001b[38;5;167;01mValueError\u001b[39;00m(\u001b[38;5;124m\"\u001b[39m\u001b[38;5;124mIllegal argument: timescale must be one of: \u001b[39m\u001b[38;5;132;01m{}\u001b[39;00m\u001b[38;5;124m\"\u001b[39m\u001b[38;5;241m.\u001b[39mformat(allowed_names))\n\u001b[1;32m    141\u001b[0m \u001b[38;5;28;01mtry\u001b[39;00m:\n\u001b[0;32m--> 142\u001b[0m     statement \u001b[38;5;241m=\u001b[39m \u001b[38;5;28;43mself\u001b[39;49m\u001b[38;5;241;43m.\u001b[39;49m\u001b[43m_create_financials_table\u001b[49m\u001b[43m(\u001b[49m\u001b[43mname\u001b[49m\u001b[43m,\u001b[49m\u001b[43m \u001b[49m\u001b[43mtimescale\u001b[49m\u001b[43m,\u001b[49m\u001b[43m \u001b[49m\u001b[43mproxy\u001b[49m\u001b[43m)\u001b[49m\n\u001b[1;32m    144\u001b[0m     \u001b[38;5;28;01mif\u001b[39;00m statement \u001b[38;5;129;01mis\u001b[39;00m \u001b[38;5;129;01mnot\u001b[39;00m \u001b[38;5;28;01mNone\u001b[39;00m:\n\u001b[1;32m    145\u001b[0m         \u001b[38;5;28;01mreturn\u001b[39;00m statement\n",
      "File \u001b[0;32m~/PycharmProjects/Tinkoff_Investment/venv/lib/python3.10/site-packages/yfinance/scrapers/fundamentals.py:155\u001b[0m, in \u001b[0;36mFinancials._create_financials_table\u001b[0;34m(self, name, timescale, proxy)\u001b[0m\n\u001b[1;32m    151\u001b[0m \u001b[38;5;28;01mif\u001b[39;00m name \u001b[38;5;241m==\u001b[39m \u001b[38;5;124m\"\u001b[39m\u001b[38;5;124mincome\u001b[39m\u001b[38;5;124m\"\u001b[39m:\n\u001b[1;32m    152\u001b[0m     \u001b[38;5;66;03m# Yahoo stores the 'income' table internally under 'financials' key\u001b[39;00m\n\u001b[1;32m    153\u001b[0m     name \u001b[38;5;241m=\u001b[39m \u001b[38;5;124m\"\u001b[39m\u001b[38;5;124mfinancials\u001b[39m\u001b[38;5;124m\"\u001b[39m\n\u001b[0;32m--> 155\u001b[0m keys \u001b[38;5;241m=\u001b[39m \u001b[38;5;28;43mself\u001b[39;49m\u001b[38;5;241;43m.\u001b[39;49m\u001b[43m_get_datastore_keys\u001b[49m\u001b[43m(\u001b[49m\u001b[43mname\u001b[49m\u001b[43m,\u001b[49m\u001b[43m \u001b[49m\u001b[43mproxy\u001b[49m\u001b[43m)\u001b[49m\n\u001b[1;32m    156\u001b[0m \u001b[38;5;28;01mtry\u001b[39;00m:\n\u001b[1;32m    157\u001b[0m     \u001b[38;5;28;01mreturn\u001b[39;00m \u001b[38;5;28mself\u001b[39m\u001b[38;5;241m.\u001b[39mget_financials_time_series(timescale, keys, proxy)\n",
      "File \u001b[0;32m~/PycharmProjects/Tinkoff_Investment/venv/lib/python3.10/site-packages/yfinance/scrapers/fundamentals.py:178\u001b[0m, in \u001b[0;36mFinancials._get_datastore_keys\u001b[0;34m(self, sub_page, proxy)\u001b[0m\n\u001b[1;32m    175\u001b[0m     \u001b[38;5;28;01mreturn\u001b[39;00m values\n\u001b[1;32m    177\u001b[0m \u001b[38;5;28;01mtry\u001b[39;00m:\n\u001b[0;32m--> 178\u001b[0m     keys \u001b[38;5;241m=\u001b[39m _finditem1(\u001b[38;5;124m\"\u001b[39m\u001b[38;5;124mkey\u001b[39m\u001b[38;5;124m\"\u001b[39m, \u001b[43mdata_stores\u001b[49m\u001b[43m[\u001b[49m\u001b[38;5;124;43m'\u001b[39;49m\u001b[38;5;124;43mFinancialTemplateStore\u001b[39;49m\u001b[38;5;124;43m'\u001b[39;49m\u001b[43m]\u001b[49m)\n\u001b[1;32m    179\u001b[0m \u001b[38;5;28;01mexcept\u001b[39;00m \u001b[38;5;167;01mKeyError\u001b[39;00m \u001b[38;5;28;01mas\u001b[39;00m e:\n\u001b[1;32m    180\u001b[0m     \u001b[38;5;28;01mraise\u001b[39;00m YFinanceDataException(\u001b[38;5;124m\"\u001b[39m\u001b[38;5;124mParsing FinancialTemplateStore failed, reason: \u001b[39m\u001b[38;5;132;01m{}\u001b[39;00m\u001b[38;5;124m\"\u001b[39m\u001b[38;5;241m.\u001b[39mformat(\u001b[38;5;28mrepr\u001b[39m(e)))\n",
      "\u001b[0;31mTypeError\u001b[0m: string indices must be integers"
     ]
    }
   ],
   "source": [
    "df = ticker.balance_sheet.T"
   ]
  },
  {
   "cell_type": "code",
   "execution_count": null,
   "id": "17ad29d7-32a8-41ec-9256-0f32a347fb04",
   "metadata": {},
   "outputs": [],
   "source": [
    "df = df[['Total Assets']]\n",
    "df = df.reindex(index=df.index[::-1])\n",
    "df"
   ]
  },
  {
   "cell_type": "code",
   "execution_count": null,
   "id": "2471a273-087a-4c27-b9ad-2e51356f3bbd",
   "metadata": {},
   "outputs": [],
   "source": [
    "def add_percent_update(df, column):\n",
    "    \"\"\" date stock's or market's update\"\"\"\n",
    "    gf_copy = df.copy(deep=True)\n",
    "    gf_copy = pd.DataFrame(gf_copy.drop(df.index[0]))\n",
    "    gf_copy_v = gf_copy[column1].values\n",
    "    gf_v = df.copy(deep=True)\n",
    "    gf_vv = gf_v[column1].values\n",
    "\n",
    "    for i in range(len(gf_copy)):\n",
    "        gf_vv[i] = (gf_copy_v[i] - gf_vv[i]) / (gf_vv[i] / 100)\n",
    "\n",
    "    gf_vv = np.insert(gf_vv, 0, 0)\n",
    "    gf_vv = np.delete(gf_vv, -1)\n",
    "    return gf_vv\n",
    "\n",
    "df[f\"% {column1}\"] = add_percent_update(df, column1)\n",
    "df"
   ]
  },
  {
   "cell_type": "code",
   "execution_count": null,
   "id": "b333592e-7a23-46a4-9f8d-7db527834f2d",
   "metadata": {},
   "outputs": [],
   "source": [
    "dates = df.index.tolist()"
   ]
  },
  {
   "cell_type": "code",
   "execution_count": null,
   "id": "815db8f6-162c-4a59-9fdc-238bd365d6a5",
   "metadata": {},
   "outputs": [],
   "source": []
  }
 ],
 "metadata": {
  "kernelspec": {
   "display_name": "Python 3 (ipykernel)",
   "language": "python",
   "name": "python3"
  },
  "language_info": {
   "codemirror_mode": {
    "name": "ipython",
    "version": 3
   },
   "file_extension": ".py",
   "mimetype": "text/x-python",
   "name": "python",
   "nbconvert_exporter": "python",
   "pygments_lexer": "ipython3",
   "version": "3.11.0"
  }
 },
 "nbformat": 4,
 "nbformat_minor": 5
}
