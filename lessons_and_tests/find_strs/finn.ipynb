{
 "cells": [
  {
   "cell_type": "code",
   "execution_count": 1,
   "id": "b3780679-e0c6-4fc4-9915-e707a0fdb27f",
   "metadata": {},
   "outputs": [],
   "source": [
    "import numpy as np\n",
    "import pandas as pd\n",
    "import yfinance as yf\n",
    "import matplotlib.pyplot as plt\n",
    "\n",
    "%matplotlib inline  "
   ]
  },
  {
   "cell_type": "code",
   "execution_count": 2,
   "id": "be13e3f0-2233-4604-bb62-4d5454ff2423",
   "metadata": {},
   "outputs": [],
   "source": [
    "pd.set_option('display.max_rows', 1000)\n",
    "pd.set_option('display.max_columns', 500)\n",
    "pd.set_option('display.width', 1000)"
   ]
  },
  {
   "cell_type": "code",
   "execution_count": 3,
   "id": "26f59c9a-f88b-450d-8fa9-071f49da5869",
   "metadata": {},
   "outputs": [],
   "source": [
    "msft = yf.Ticker(\"MSFT\")\n",
    "\n"
   ]
  },
  {
   "cell_type": "markdown",
   "id": "5c05ffaf-fab5-43ea-8bf0-ccb35565eb11",
   "metadata": {},
   "source": [
    "info"
   ]
  },
  {
   "cell_type": "code",
   "execution_count": 4,
   "id": "2abeef9b-e94c-4ec2-9a26-cb48c4c7c9a0",
   "metadata": {},
   "outputs": [],
   "source": [
    "# msft.info"
   ]
  },
  {
   "cell_type": "code",
   "execution_count": 5,
   "id": "6d2980de-a2f5-4447-bad5-24add192813d",
   "metadata": {
    "tags": []
   },
   "outputs": [],
   "source": [
    "hist = msft.history(period=\"max\")\n"
   ]
  },
  {
   "cell_type": "code",
   "execution_count": 16,
   "id": "683cb302-0ecc-45da-9466-007fa0d38d84",
   "metadata": {
    "tags": []
   },
   "outputs": [],
   "source": [
    "# hist.loc['2020-01-01':'2021-02-01']"
   ]
  },
  {
   "cell_type": "markdown",
   "id": "5d6428e9-adfc-494c-b1b6-cd8e947cb449",
   "metadata": {},
   "source": [
    "meta_data"
   ]
  },
  {
   "cell_type": "code",
   "execution_count": 7,
   "id": "05773431-15c9-43a2-bdcc-beb858332a44",
   "metadata": {},
   "outputs": [],
   "source": [
    "# msft.history_metadata"
   ]
  },
  {
   "cell_type": "markdown",
   "id": "c061b4bc-2ccc-470c-9c23-552f190d417f",
   "metadata": {},
   "source": [
    "actions"
   ]
  },
  {
   "cell_type": "code",
   "execution_count": 17,
   "id": "3dc28e52-01aa-4cc2-87bd-2e597278692d",
   "metadata": {},
   "outputs": [
    {
     "data": {
      "text/html": [
       "<div>\n",
       "<style scoped>\n",
       "    .dataframe tbody tr th:only-of-type {\n",
       "        vertical-align: middle;\n",
       "    }\n",
       "\n",
       "    .dataframe tbody tr th {\n",
       "        vertical-align: top;\n",
       "    }\n",
       "\n",
       "    .dataframe thead th {\n",
       "        text-align: right;\n",
       "    }\n",
       "</style>\n",
       "<table border=\"1\" class=\"dataframe\">\n",
       "  <thead>\n",
       "    <tr style=\"text-align: right;\">\n",
       "      <th></th>\n",
       "      <th>Dividends</th>\n",
       "      <th>Stock Splits</th>\n",
       "    </tr>\n",
       "    <tr>\n",
       "      <th>Date</th>\n",
       "      <th></th>\n",
       "      <th></th>\n",
       "    </tr>\n",
       "  </thead>\n",
       "  <tbody>\n",
       "    <tr>\n",
       "      <th>2022-05-18 00:00:00-04:00</th>\n",
       "      <td>0.62</td>\n",
       "      <td>0.0</td>\n",
       "    </tr>\n",
       "    <tr>\n",
       "      <th>2022-08-17 00:00:00-04:00</th>\n",
       "      <td>0.62</td>\n",
       "      <td>0.0</td>\n",
       "    </tr>\n",
       "    <tr>\n",
       "      <th>2022-11-16 00:00:00-05:00</th>\n",
       "      <td>0.68</td>\n",
       "      <td>0.0</td>\n",
       "    </tr>\n",
       "  </tbody>\n",
       "</table>\n",
       "</div>"
      ],
      "text/plain": [
       "                           Dividends  Stock Splits\n",
       "Date                                              \n",
       "2022-05-18 00:00:00-04:00       0.62           0.0\n",
       "2022-08-17 00:00:00-04:00       0.62           0.0\n",
       "2022-11-16 00:00:00-05:00       0.68           0.0"
      ]
     },
     "execution_count": 17,
     "metadata": {},
     "output_type": "execute_result"
    }
   ],
   "source": [
    "# show actions (dividends, splits, capital gains)\n",
    "msft.actions.tail(3)"
   ]
  },
  {
   "cell_type": "code",
   "execution_count": 18,
   "id": "a7eb888f-421b-4369-8388-c7684e065bf6",
   "metadata": {},
   "outputs": [
    {
     "data": {
      "text/plain": [
       "Date\n",
       "2022-05-18 00:00:00-04:00    0.62\n",
       "2022-08-17 00:00:00-04:00    0.62\n",
       "2022-11-16 00:00:00-05:00    0.68\n",
       "Name: Dividends, dtype: float64"
      ]
     },
     "execution_count": 18,
     "metadata": {},
     "output_type": "execute_result"
    }
   ],
   "source": [
    "# show dividends\n",
    "msft.dividends.tail(3)"
   ]
  },
  {
   "cell_type": "code",
   "execution_count": 10,
   "id": "74bb64c2-9634-427a-834a-0df21aca36ad",
   "metadata": {},
   "outputs": [
    {
     "data": {
      "text/plain": [
       "Date\n",
       "1987-09-21 00:00:00-04:00    2.0\n",
       "1990-04-16 00:00:00-04:00    2.0\n",
       "1991-06-27 00:00:00-04:00    1.5\n",
       "1992-06-15 00:00:00-04:00    1.5\n",
       "1994-05-23 00:00:00-04:00    2.0\n",
       "1996-12-09 00:00:00-05:00    2.0\n",
       "1998-02-23 00:00:00-05:00    2.0\n",
       "1999-03-29 00:00:00-05:00    2.0\n",
       "2003-02-18 00:00:00-05:00    2.0\n",
       "Name: Stock Splits, dtype: float64"
      ]
     },
     "execution_count": 10,
     "metadata": {},
     "output_type": "execute_result"
    }
   ],
   "source": [
    "# show splits\n",
    "msft.splits"
   ]
  },
  {
   "cell_type": "code",
   "execution_count": 11,
   "id": "da64c984-1753-4e5a-8451-f9e4188af1e8",
   "metadata": {},
   "outputs": [
    {
     "data": {
      "text/plain": [
       "[]"
      ]
     },
     "execution_count": 11,
     "metadata": {},
     "output_type": "execute_result"
    }
   ],
   "source": [
    "# show capital gains (for mutual funds & etfs)\n",
    "msft.capital_gains"
   ]
  },
  {
   "cell_type": "code",
   "execution_count": 12,
   "id": "24b516c5-4c61-4307-9bc9-1f6726996eb0",
   "metadata": {},
   "outputs": [],
   "source": [
    "# show share count\n",
    "# msft.shares"
   ]
  },
  {
   "cell_type": "code",
   "execution_count": 13,
   "id": "bce5436e-e470-4f95-984c-7d888f63d557",
   "metadata": {},
   "outputs": [],
   "source": [
    "# show financials:\n",
    "# - income statement\n",
    "# msft.income_stmt"
   ]
  },
  {
   "cell_type": "code",
   "execution_count": 14,
   "id": "3a9fae53-a49a-46af-9334-28faf3e64229",
   "metadata": {},
   "outputs": [],
   "source": [
    "# msft.quarterly_income_stmt"
   ]
  },
  {
   "cell_type": "code",
   "execution_count": 15,
   "id": "b7c2a6c1-c27f-414c-acef-90a5a348473c",
   "metadata": {},
   "outputs": [
    {
     "ename": "TypeError",
     "evalue": "string indices must be integers",
     "output_type": "error",
     "traceback": [
      "\u001b[0;31m---------------------------------------------------------------------------\u001b[0m",
      "\u001b[0;31mTypeError\u001b[0m                                 Traceback (most recent call last)",
      "Cell \u001b[0;32mIn[15], line 2\u001b[0m\n\u001b[1;32m      1\u001b[0m \u001b[38;5;66;03m# - balance sheet\u001b[39;00m\n\u001b[0;32m----> 2\u001b[0m \u001b[43mmsft\u001b[49m\u001b[38;5;241;43m.\u001b[39;49m\u001b[43mbalance_sheet\u001b[49m\n",
      "File \u001b[0;32m~/PycharmProjects/Tinkoff_Investment/venv/lib/python3.10/site-packages/yfinance/ticker.py:182\u001b[0m, in \u001b[0;36mTicker.balance_sheet\u001b[0;34m(self)\u001b[0m\n\u001b[1;32m    180\u001b[0m \u001b[38;5;129m@property\u001b[39m\n\u001b[1;32m    181\u001b[0m \u001b[38;5;28;01mdef\u001b[39;00m \u001b[38;5;21mbalance_sheet\u001b[39m(\u001b[38;5;28mself\u001b[39m) \u001b[38;5;241m-\u001b[39m\u001b[38;5;241m>\u001b[39m _pd\u001b[38;5;241m.\u001b[39mDataFrame:\n\u001b[0;32m--> 182\u001b[0m     \u001b[38;5;28;01mreturn\u001b[39;00m \u001b[38;5;28;43mself\u001b[39;49m\u001b[38;5;241;43m.\u001b[39;49m\u001b[43mget_balance_sheet\u001b[49m\u001b[43m(\u001b[49m\u001b[43mpretty\u001b[49m\u001b[38;5;241;43m=\u001b[39;49m\u001b[38;5;28;43;01mTrue\u001b[39;49;00m\u001b[43m)\u001b[49m\n",
      "File \u001b[0;32m~/PycharmProjects/Tinkoff_Investment/venv/lib/python3.10/site-packages/yfinance/base.py:1031\u001b[0m, in \u001b[0;36mTickerBase.get_balance_sheet\u001b[0;34m(self, proxy, as_dict, pretty, freq, legacy)\u001b[0m\n\u001b[1;32m   1029\u001b[0m     data \u001b[38;5;241m=\u001b[39m \u001b[38;5;28mself\u001b[39m\u001b[38;5;241m.\u001b[39m_fundamentals\u001b[38;5;241m.\u001b[39mfinancials\u001b[38;5;241m.\u001b[39mget_balance_sheet_scrape(freq\u001b[38;5;241m=\u001b[39mfreq, proxy\u001b[38;5;241m=\u001b[39mproxy)\n\u001b[1;32m   1030\u001b[0m \u001b[38;5;28;01melse\u001b[39;00m:\n\u001b[0;32m-> 1031\u001b[0m     data \u001b[38;5;241m=\u001b[39m \u001b[38;5;28;43mself\u001b[39;49m\u001b[38;5;241;43m.\u001b[39;49m\u001b[43m_fundamentals\u001b[49m\u001b[38;5;241;43m.\u001b[39;49m\u001b[43mfinancials\u001b[49m\u001b[38;5;241;43m.\u001b[39;49m\u001b[43mget_balance_sheet_time_series\u001b[49m\u001b[43m(\u001b[49m\u001b[43mfreq\u001b[49m\u001b[38;5;241;43m=\u001b[39;49m\u001b[43mfreq\u001b[49m\u001b[43m,\u001b[49m\u001b[43m \u001b[49m\u001b[43mproxy\u001b[49m\u001b[38;5;241;43m=\u001b[39;49m\u001b[43mproxy\u001b[49m\u001b[43m)\u001b[49m\n\u001b[1;32m   1033\u001b[0m \u001b[38;5;28;01mif\u001b[39;00m pretty:\n\u001b[1;32m   1034\u001b[0m     data \u001b[38;5;241m=\u001b[39m data\u001b[38;5;241m.\u001b[39mcopy()\n",
      "File \u001b[0;32m~/PycharmProjects/Tinkoff_Investment/venv/lib/python3.10/site-packages/yfinance/scrapers/fundamentals.py:119\u001b[0m, in \u001b[0;36mFinancials.get_balance_sheet_time_series\u001b[0;34m(self, freq, proxy)\u001b[0m\n\u001b[1;32m    117\u001b[0m res \u001b[38;5;241m=\u001b[39m \u001b[38;5;28mself\u001b[39m\u001b[38;5;241m.\u001b[39m_balance_sheet_time_series\n\u001b[1;32m    118\u001b[0m \u001b[38;5;28;01mif\u001b[39;00m freq \u001b[38;5;129;01mnot\u001b[39;00m \u001b[38;5;129;01min\u001b[39;00m res:\n\u001b[0;32m--> 119\u001b[0m     res[freq] \u001b[38;5;241m=\u001b[39m \u001b[38;5;28;43mself\u001b[39;49m\u001b[38;5;241;43m.\u001b[39;49m\u001b[43m_fetch_time_series\u001b[49m\u001b[43m(\u001b[49m\u001b[38;5;124;43m\"\u001b[39;49m\u001b[38;5;124;43mbalance-sheet\u001b[39;49m\u001b[38;5;124;43m\"\u001b[39;49m\u001b[43m,\u001b[49m\u001b[43m \u001b[49m\u001b[43mfreq\u001b[49m\u001b[43m,\u001b[49m\u001b[43m \u001b[49m\u001b[43mproxy\u001b[49m\u001b[38;5;241;43m=\u001b[39;49m\u001b[38;5;28;43;01mNone\u001b[39;49;00m\u001b[43m)\u001b[49m\n\u001b[1;32m    120\u001b[0m \u001b[38;5;28;01mreturn\u001b[39;00m res[freq]\n",
      "File \u001b[0;32m~/PycharmProjects/Tinkoff_Investment/venv/lib/python3.10/site-packages/yfinance/scrapers/fundamentals.py:142\u001b[0m, in \u001b[0;36mFinancials._fetch_time_series\u001b[0;34m(self, name, timescale, proxy)\u001b[0m\n\u001b[1;32m    139\u001b[0m     \u001b[38;5;28;01mraise\u001b[39;00m \u001b[38;5;167;01mValueError\u001b[39;00m(\u001b[38;5;124m\"\u001b[39m\u001b[38;5;124mIllegal argument: timescale must be one of: \u001b[39m\u001b[38;5;132;01m{}\u001b[39;00m\u001b[38;5;124m\"\u001b[39m\u001b[38;5;241m.\u001b[39mformat(allowed_names))\n\u001b[1;32m    141\u001b[0m \u001b[38;5;28;01mtry\u001b[39;00m:\n\u001b[0;32m--> 142\u001b[0m     statement \u001b[38;5;241m=\u001b[39m \u001b[38;5;28;43mself\u001b[39;49m\u001b[38;5;241;43m.\u001b[39;49m\u001b[43m_create_financials_table\u001b[49m\u001b[43m(\u001b[49m\u001b[43mname\u001b[49m\u001b[43m,\u001b[49m\u001b[43m \u001b[49m\u001b[43mtimescale\u001b[49m\u001b[43m,\u001b[49m\u001b[43m \u001b[49m\u001b[43mproxy\u001b[49m\u001b[43m)\u001b[49m\n\u001b[1;32m    144\u001b[0m     \u001b[38;5;28;01mif\u001b[39;00m statement \u001b[38;5;129;01mis\u001b[39;00m \u001b[38;5;129;01mnot\u001b[39;00m \u001b[38;5;28;01mNone\u001b[39;00m:\n\u001b[1;32m    145\u001b[0m         \u001b[38;5;28;01mreturn\u001b[39;00m statement\n",
      "File \u001b[0;32m~/PycharmProjects/Tinkoff_Investment/venv/lib/python3.10/site-packages/yfinance/scrapers/fundamentals.py:155\u001b[0m, in \u001b[0;36mFinancials._create_financials_table\u001b[0;34m(self, name, timescale, proxy)\u001b[0m\n\u001b[1;32m    151\u001b[0m \u001b[38;5;28;01mif\u001b[39;00m name \u001b[38;5;241m==\u001b[39m \u001b[38;5;124m\"\u001b[39m\u001b[38;5;124mincome\u001b[39m\u001b[38;5;124m\"\u001b[39m:\n\u001b[1;32m    152\u001b[0m     \u001b[38;5;66;03m# Yahoo stores the 'income' table internally under 'financials' key\u001b[39;00m\n\u001b[1;32m    153\u001b[0m     name \u001b[38;5;241m=\u001b[39m \u001b[38;5;124m\"\u001b[39m\u001b[38;5;124mfinancials\u001b[39m\u001b[38;5;124m\"\u001b[39m\n\u001b[0;32m--> 155\u001b[0m keys \u001b[38;5;241m=\u001b[39m \u001b[38;5;28;43mself\u001b[39;49m\u001b[38;5;241;43m.\u001b[39;49m\u001b[43m_get_datastore_keys\u001b[49m\u001b[43m(\u001b[49m\u001b[43mname\u001b[49m\u001b[43m,\u001b[49m\u001b[43m \u001b[49m\u001b[43mproxy\u001b[49m\u001b[43m)\u001b[49m\n\u001b[1;32m    156\u001b[0m \u001b[38;5;28;01mtry\u001b[39;00m:\n\u001b[1;32m    157\u001b[0m     \u001b[38;5;28;01mreturn\u001b[39;00m \u001b[38;5;28mself\u001b[39m\u001b[38;5;241m.\u001b[39mget_financials_time_series(timescale, keys, proxy)\n",
      "File \u001b[0;32m~/PycharmProjects/Tinkoff_Investment/venv/lib/python3.10/site-packages/yfinance/scrapers/fundamentals.py:178\u001b[0m, in \u001b[0;36mFinancials._get_datastore_keys\u001b[0;34m(self, sub_page, proxy)\u001b[0m\n\u001b[1;32m    175\u001b[0m     \u001b[38;5;28;01mreturn\u001b[39;00m values\n\u001b[1;32m    177\u001b[0m \u001b[38;5;28;01mtry\u001b[39;00m:\n\u001b[0;32m--> 178\u001b[0m     keys \u001b[38;5;241m=\u001b[39m _finditem1(\u001b[38;5;124m\"\u001b[39m\u001b[38;5;124mkey\u001b[39m\u001b[38;5;124m\"\u001b[39m, \u001b[43mdata_stores\u001b[49m\u001b[43m[\u001b[49m\u001b[38;5;124;43m'\u001b[39;49m\u001b[38;5;124;43mFinancialTemplateStore\u001b[39;49m\u001b[38;5;124;43m'\u001b[39;49m\u001b[43m]\u001b[49m)\n\u001b[1;32m    179\u001b[0m \u001b[38;5;28;01mexcept\u001b[39;00m \u001b[38;5;167;01mKeyError\u001b[39;00m \u001b[38;5;28;01mas\u001b[39;00m e:\n\u001b[1;32m    180\u001b[0m     \u001b[38;5;28;01mraise\u001b[39;00m YFinanceDataException(\u001b[38;5;124m\"\u001b[39m\u001b[38;5;124mParsing FinancialTemplateStore failed, reason: \u001b[39m\u001b[38;5;132;01m{}\u001b[39;00m\u001b[38;5;124m\"\u001b[39m\u001b[38;5;241m.\u001b[39mformat(\u001b[38;5;28mrepr\u001b[39m(e)))\n",
      "\u001b[0;31mTypeError\u001b[0m: string indices must be integers"
     ]
    }
   ],
   "source": [
    "# - balance sheet\n",
    "msft.balance_sheet"
   ]
  },
  {
   "cell_type": "code",
   "execution_count": null,
   "id": "09fc1425-ffa4-4a0f-a435-0c7e4b739486",
   "metadata": {},
   "outputs": [],
   "source": [
    "msft.quarterly_balance_sheet"
   ]
  },
  {
   "cell_type": "code",
   "execution_count": null,
   "id": "526fbb21-905e-40a7-99d3-63ccbf91a0d0",
   "metadata": {},
   "outputs": [],
   "source": [
    "# - cash flow statement\n",
    "msft.cashflow"
   ]
  },
  {
   "cell_type": "code",
   "execution_count": null,
   "id": "857486ff-d3d8-4c5d-be8c-cd979b68a699",
   "metadata": {
    "tags": []
   },
   "outputs": [],
   "source": [
    "msft.quarterly_cashflow"
   ]
  },
  {
   "cell_type": "code",
   "execution_count": null,
   "id": "54bb22e5-3fe7-4c2d-a602-7b85acd7bcd5",
   "metadata": {},
   "outputs": [],
   "source": [
    "# show earnings\n",
    "msft.earnings"
   ]
  },
  {
   "cell_type": "code",
   "execution_count": null,
   "id": "6f91c840-3823-47d1-a80f-8a5b0a7e6480",
   "metadata": {},
   "outputs": [],
   "source": [
    "msft.quarterly_earnings"
   ]
  },
  {
   "cell_type": "code",
   "execution_count": null,
   "id": "a8fcf6b9-bb92-4068-9153-23f99f7f36c7",
   "metadata": {},
   "outputs": [],
   "source": [
    "msft.major_holders"
   ]
  },
  {
   "cell_type": "code",
   "execution_count": null,
   "id": "7bd150af-47e4-404a-a4f1-6995dd47c01b",
   "metadata": {},
   "outputs": [],
   "source": [
    "\n",
    "msft.institutional_holders"
   ]
  },
  {
   "cell_type": "code",
   "execution_count": null,
   "id": "672ed1a8-83e3-4a6e-b598-86211e717141",
   "metadata": {},
   "outputs": [],
   "source": [
    "msft.mutualfund_holders"
   ]
  },
  {
   "cell_type": "code",
   "execution_count": null,
   "id": "707d3048-cf1b-432a-8b61-3176c7ac270b",
   "metadata": {},
   "outputs": [],
   "source": [
    "# show sustainability\n",
    "msft.sustainability"
   ]
  },
  {
   "cell_type": "code",
   "execution_count": null,
   "id": "0443f751-9100-441b-bc75-ddabd7a34e36",
   "metadata": {},
   "outputs": [],
   "source": [
    "# show analysts recommendations\n",
    "msft.recommendations\n"
   ]
  },
  {
   "cell_type": "code",
   "execution_count": null,
   "id": "6f43a450-1957-4caa-9659-85ba8d41e36c",
   "metadata": {},
   "outputs": [],
   "source": [
    "msft.recommendations_summary"
   ]
  },
  {
   "cell_type": "code",
   "execution_count": null,
   "id": "0c1c34a9-4dd0-4ce8-8157-80e948894e44",
   "metadata": {},
   "outputs": [],
   "source": [
    "# show analysts other work\n",
    "msft.analyst_price_target"
   ]
  },
  {
   "cell_type": "code",
   "execution_count": null,
   "id": "dc63b318-0b97-4ba8-8952-c96a6025632e",
   "metadata": {},
   "outputs": [],
   "source": [
    "msft.revenue_forecasts"
   ]
  },
  {
   "cell_type": "code",
   "execution_count": null,
   "id": "272c9d0b-9f67-4bdf-b62e-4a2a009a4cbc",
   "metadata": {},
   "outputs": [],
   "source": [
    "msft.earnings_forecasts"
   ]
  },
  {
   "cell_type": "code",
   "execution_count": null,
   "id": "ee19cb79-0cd4-4d75-8b24-eb0e56f2ec00",
   "metadata": {},
   "outputs": [],
   "source": [
    "msft.earnings_trend"
   ]
  },
  {
   "cell_type": "code",
   "execution_count": null,
   "id": "30e1111d-a536-4396-8a4d-ef95d6f67945",
   "metadata": {},
   "outputs": [],
   "source": [
    "# show next event (earnings, etc)\n",
    "msft.calendar"
   ]
  },
  {
   "cell_type": "code",
   "execution_count": null,
   "id": "14f1f6ca-58de-4bb5-92a0-52c18fa2fc5a",
   "metadata": {},
   "outputs": [],
   "source": [
    "# Show future and historic earnings dates, returns at most next 4 quarters and last 8 quarters by default. \n",
    "# Note: If more are needed use msft.get_earnings_dates(limit=XX) with increased limit argument.\n",
    "msft.earnings_dates"
   ]
  },
  {
   "cell_type": "code",
   "execution_count": null,
   "id": "d102a878-5c88-4f83-b226-7f97857542db",
   "metadata": {},
   "outputs": [],
   "source": [
    "# show ISIN code - *experimental*\n",
    "# ISIN = International Securities Identification Number\n",
    "msft.isin"
   ]
  },
  {
   "cell_type": "code",
   "execution_count": null,
   "id": "8e8d68ea-dcd9-4ed5-8f41-84fee8580ceb",
   "metadata": {},
   "outputs": [],
   "source": [
    "# show options expirations\n",
    "msft.options"
   ]
  },
  {
   "cell_type": "code",
   "execution_count": null,
   "id": "508fb114-e8dd-4776-a3de-7c74202dff81",
   "metadata": {},
   "outputs": [],
   "source": [
    "# show news\n",
    "msft.news"
   ]
  },
  {
   "cell_type": "code",
   "execution_count": null,
   "id": "f22027e4-f464-499b-80ec-452b37eb514c",
   "metadata": {},
   "outputs": [],
   "source": [
    "# get option chain for specific expiration\n",
    "opt = msft.option_chain('YYYY-MM-DD')\n"
   ]
  },
  {
   "cell_type": "code",
   "execution_count": null,
   "id": "2455d3c9-3017-4401-8606-d9d106be3565",
   "metadata": {},
   "outputs": [],
   "source": [
    "# data available via: opt.calls, opt.puts"
   ]
  }
 ],
 "metadata": {
  "kernelspec": {
   "display_name": "Python 3 (ipykernel)",
   "language": "python",
   "name": "python3"
  },
  "language_info": {
   "codemirror_mode": {
    "name": "ipython",
    "version": 3
   },
   "file_extension": ".py",
   "mimetype": "text/x-python",
   "name": "python",
   "nbconvert_exporter": "python",
   "pygments_lexer": "ipython3",
   "version": "3.10.4"
  }
 },
 "nbformat": 4,
 "nbformat_minor": 5
}
