{
 "cells": [
  {
   "cell_type": "code",
   "execution_count": 1,
   "id": "d8c4c24b-d858-4c8a-b382-d193a810110b",
   "metadata": {},
   "outputs": [
    {
     "data": {
      "text/plain": [
       "'\\nhttps://habr.com/ru/company/ods/blog/322534/\\n'"
      ]
     },
     "execution_count": 1,
     "metadata": {},
     "output_type": "execute_result"
    }
   ],
   "source": [
    "'''\n",
    "https://habr.com/ru/company/ods/blog/322534/\n",
    "'''"
   ]
  },
  {
   "cell_type": "code",
   "execution_count": 2,
   "id": "ce39ce96-6fbc-48d3-bdc6-06fac0d68c3e",
   "metadata": {},
   "outputs": [],
   "source": [
    "from sklearn.tree import DecisionTreeClassifier\n",
    "from sklearn.tree import export_graphviz"
   ]
  },
  {
   "cell_type": "code",
   "execution_count": 3,
   "id": "5418dff6-33cb-43cd-b32e-e76324bb32df",
   "metadata": {},
   "outputs": [],
   "source": [
    "%run /Users/alexeychernysh/PycharmProjects/Tinkoff_Investment/lessons_and_tests/ml_tests/ml_first_market.ipynb"
   ]
  },
  {
   "cell_type": "code",
   "execution_count": 4,
   "id": "37b033ef-e338-496b-ab57-8f6d36902f1c",
   "metadata": {},
   "outputs": [
    {
     "data": {
      "text/html": [
       "<div>\n",
       "<style scoped>\n",
       "    .dataframe tbody tr th:only-of-type {\n",
       "        vertical-align: middle;\n",
       "    }\n",
       "\n",
       "    .dataframe tbody tr th {\n",
       "        vertical-align: top;\n",
       "    }\n",
       "\n",
       "    .dataframe thead th {\n",
       "        text-align: right;\n",
       "    }\n",
       "</style>\n",
       "<table border=\"1\" class=\"dataframe\">\n",
       "  <thead>\n",
       "    <tr style=\"text-align: right;\">\n",
       "      <th></th>\n",
       "      <th>change % debtToAssets</th>\n",
       "      <th>change % AAPL</th>\n",
       "    </tr>\n",
       "    <tr>\n",
       "      <th>Date_index</th>\n",
       "      <th></th>\n",
       "      <th></th>\n",
       "    </tr>\n",
       "  </thead>\n",
       "  <tbody>\n",
       "    <tr>\n",
       "      <th>2022</th>\n",
       "      <td>2.754812</td>\n",
       "      <td>33.265741</td>\n",
       "    </tr>\n",
       "    <tr>\n",
       "      <th>2021</th>\n",
       "      <td>8.949814</td>\n",
       "      <td>72.013330</td>\n",
       "    </tr>\n",
       "    <tr>\n",
       "      <th>2020</th>\n",
       "      <td>3.629783</td>\n",
       "      <td>88.752962</td>\n",
       "    </tr>\n",
       "    <tr>\n",
       "      <th>2019</th>\n",
       "      <td>9.984263</td>\n",
       "      <td>0.901160</td>\n",
       "    </tr>\n",
       "    <tr>\n",
       "      <th>2018</th>\n",
       "      <td>6.905238</td>\n",
       "      <td>40.191535</td>\n",
       "    </tr>\n",
       "  </tbody>\n",
       "</table>\n",
       "</div>"
      ],
      "text/plain": [
       "            change % debtToAssets  change % AAPL\n",
       "Date_index                                      \n",
       "2022                     2.754812      33.265741\n",
       "2021                     8.949814      72.013330\n",
       "2020                     3.629783      88.752962\n",
       "2019                     9.984263       0.901160\n",
       "2018                     6.905238      40.191535"
      ]
     },
     "execution_count": 4,
     "metadata": {},
     "output_type": "execute_result"
    }
   ],
   "source": [
    "df = df_some_columns[['change % debtToAssets','change % AAPL']]\n",
    "df.head()"
   ]
  },
  {
   "cell_type": "code",
   "execution_count": 5,
   "id": "9a9d2d5c-b109-4526-9d16-d2a83fb0f81a",
   "metadata": {},
   "outputs": [],
   "source": [
    "''' приводим результаты к 1 (рост за год) и 0 (падение)'''\n",
    "\n",
    "t = []\n",
    "for i in range(len(df['change % AAPL'])):\n",
    "    if df['change % AAPL'][i] > 0:\n",
    "        t.append(1)\n",
    "    else:\n",
    "        t.append(0)\n",
    "        \n",
    "df['Result'] = t"
   ]
  },
  {
   "cell_type": "code",
   "execution_count": 6,
   "id": "5bc950f4-d32b-455d-bdec-88f26cce866f",
   "metadata": {},
   "outputs": [],
   "source": [
    "''' создаем датафрейм с одним признаком '''\n",
    "\n",
    "df_1 = df[['change % debtToAssets', 'Result']]"
   ]
  },
  {
   "cell_type": "code",
   "execution_count": 7,
   "id": "c2ca6d52-fa47-48d9-82c5-092c56747b0e",
   "metadata": {},
   "outputs": [
    {
     "data": {
      "text/html": [
       "<div>\n",
       "<style scoped>\n",
       "    .dataframe tbody tr th:only-of-type {\n",
       "        vertical-align: middle;\n",
       "    }\n",
       "\n",
       "    .dataframe tbody tr th {\n",
       "        vertical-align: top;\n",
       "    }\n",
       "\n",
       "    .dataframe thead th {\n",
       "        text-align: right;\n",
       "    }\n",
       "</style>\n",
       "<table border=\"1\" class=\"dataframe\">\n",
       "  <thead>\n",
       "    <tr style=\"text-align: right;\">\n",
       "      <th></th>\n",
       "      <th>change % debtToAssets</th>\n",
       "      <th>Result</th>\n",
       "    </tr>\n",
       "    <tr>\n",
       "      <th>Date_index</th>\n",
       "      <th></th>\n",
       "      <th></th>\n",
       "    </tr>\n",
       "  </thead>\n",
       "  <tbody>\n",
       "    <tr>\n",
       "      <th>2022</th>\n",
       "      <td>2.754812</td>\n",
       "      <td>1</td>\n",
       "    </tr>\n",
       "    <tr>\n",
       "      <th>2021</th>\n",
       "      <td>8.949814</td>\n",
       "      <td>1</td>\n",
       "    </tr>\n",
       "    <tr>\n",
       "      <th>2020</th>\n",
       "      <td>3.629783</td>\n",
       "      <td>1</td>\n",
       "    </tr>\n",
       "    <tr>\n",
       "      <th>2019</th>\n",
       "      <td>9.984263</td>\n",
       "      <td>1</td>\n",
       "    </tr>\n",
       "    <tr>\n",
       "      <th>2018</th>\n",
       "      <td>6.905238</td>\n",
       "      <td>1</td>\n",
       "    </tr>\n",
       "  </tbody>\n",
       "</table>\n",
       "</div>"
      ],
      "text/plain": [
       "            change % debtToAssets  Result\n",
       "Date_index                               \n",
       "2022                     2.754812       1\n",
       "2021                     8.949814       1\n",
       "2020                     3.629783       1\n",
       "2019                     9.984263       1\n",
       "2018                     6.905238       1"
      ]
     },
     "execution_count": 7,
     "metadata": {},
     "output_type": "execute_result"
    }
   ],
   "source": [
    "df_1.head()"
   ]
  },
  {
   "cell_type": "code",
   "execution_count": 8,
   "id": "45bf499d-7616-4180-b118-f2a20818c7f3",
   "metadata": {},
   "outputs": [
    {
     "name": "stdout",
     "output_type": "stream",
     "text": [
      "zsh:1: command not found: dot\n"
     ]
    }
   ],
   "source": [
    "dta_tree = DecisionTreeClassifier(random_state=17)\n",
    "dta_tree.fit(df_1['change % debtToAssets'].values.reshape(-1, 1), df_1['Result'].values)\n",
    "\n",
    "export_graphviz(dta_tree, feature_names=['change % debtToAssets'], \n",
    "out_file='../../dta_tree.dot', filled=True)\n",
    "!dot -Tpng '../../dta_tree.dot' -o '../../dta_tree.png'"
   ]
  },
  {
   "cell_type": "code",
   "execution_count": null,
   "id": "903c427f-c58d-46e5-bd89-2c8786e47ac0",
   "metadata": {},
   "outputs": [],
   "source": []
  }
 ],
 "metadata": {
  "kernelspec": {
   "display_name": "Python 3 (ipykernel)",
   "language": "python",
   "name": "python3"
  },
  "language_info": {
   "codemirror_mode": {
    "name": "ipython",
    "version": 3
   },
   "file_extension": ".py",
   "mimetype": "text/x-python",
   "name": "python",
   "nbconvert_exporter": "python",
   "pygments_lexer": "ipython3",
   "version": "3.10.4"
  }
 },
 "nbformat": 4,
 "nbformat_minor": 5
}
